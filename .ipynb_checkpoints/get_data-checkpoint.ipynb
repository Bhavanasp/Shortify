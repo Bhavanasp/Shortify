{
 "cells": [
  {
   "cell_type": "markdown",
   "id": "organic-trouble",
   "metadata": {},
   "source": [
    "## Data Extraction\n",
    "<hr>\n",
    "Getting data from stackoverflow public dataset in Google BigQuery"
   ]
  },
  {
   "cell_type": "code",
   "execution_count": 1,
   "id": "varied-living",
   "metadata": {},
   "outputs": [
    {
     "data": {
      "text/plain": [
       "54.606758371926844"
      ]
     },
     "execution_count": 1,
     "metadata": {},
     "output_type": "execute_result"
    }
   ],
   "source": [
    "import os\n",
    "import pandas as pd\n",
    "from bq_helper import BigQueryHelper\n",
    "\n",
    "os.environ[\"GOOGLE_APPLICATION_CREDENTIALS\"]=\"credentials.json\"\n",
    "bq_assistant = BigQueryHelper(\"bigquery-public-data\", \"stackoverflow\")\n",
    "\n",
    "QUERY = \"SELECT q.id, q.title, q.body, q.tags, a.body as answers, a.score FROM `bigquery-public-data.stackoverflow.posts_questions` AS q INNER JOIN `bigquery-public-data.stackoverflow.posts_answers` AS a ON q.id = a.parent_id WHERE q.tags LIKE '%machine-learning%' LIMIT 400000\"\n",
    "\n",
    "df = bq_assistant.query_to_pandas(QUERY)"
   ]
  },
  {
   "cell_type": "code",
   "execution_count": null,
   "id": "spatial-finnish",
   "metadata": {},
   "outputs": [],
   "source": []
  }
 ],
 "metadata": {
  "kernelspec": {
   "display_name": "Python 3",
   "language": "python",
   "name": "python3"
  },
  "language_info": {
   "codemirror_mode": {
    "name": "ipython",
    "version": 3
   },
   "file_extension": ".py",
   "mimetype": "text/x-python",
   "name": "python",
   "nbconvert_exporter": "python",
   "pygments_lexer": "ipython3",
   "version": "3.8.5"
  }
 },
 "nbformat": 4,
 "nbformat_minor": 5
}
