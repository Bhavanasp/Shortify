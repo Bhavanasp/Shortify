{
 "cells": [
  {
   "cell_type": "code",
   "execution_count": 2,
   "metadata": {},
   "outputs": [],
   "source": [
    "import numpy as np\n",
    "import pandas as pd"
   ]
  },
  {
   "cell_type": "code",
   "execution_count": 8,
   "metadata": {},
   "outputs": [],
   "source": [
    "df1 = pd.read_csv('data/original_data1.csv')\n",
    "df2 = pd.read_csv('data/original_data2.csv')\n",
    "df3 = pd.read_csv('data/original_data3.csv')\n",
    "df4 = pd.read_csv('data/original_data4.csv')\n",
    "df5 = pd.read_csv('data/original_data5.csv')"
   ]
  },
  {
   "cell_type": "code",
   "execution_count": 75,
   "metadata": {},
   "outputs": [
    {
     "data": {
      "text/html": [
       "<div>\n",
       "<style scoped>\n",
       "    .dataframe tbody tr th:only-of-type {\n",
       "        vertical-align: middle;\n",
       "    }\n",
       "\n",
       "    .dataframe tbody tr th {\n",
       "        vertical-align: top;\n",
       "    }\n",
       "\n",
       "    .dataframe thead th {\n",
       "        text-align: right;\n",
       "    }\n",
       "</style>\n",
       "<table border=\"1\" class=\"dataframe\">\n",
       "  <thead>\n",
       "    <tr style=\"text-align: right;\">\n",
       "      <th></th>\n",
       "      <th>id</th>\n",
       "      <th>title</th>\n",
       "      <th>body</th>\n",
       "      <th>tags</th>\n",
       "      <th>answers</th>\n",
       "      <th>score</th>\n",
       "    </tr>\n",
       "  </thead>\n",
       "  <tbody>\n",
       "    <tr>\n",
       "      <td>0</td>\n",
       "      <td>62766758</td>\n",
       "      <td>How to fix Python error \"...failed to map segm...</td>\n",
       "      <td>&lt;p&gt;I've recently started to use Google Cloud P...</td>\n",
       "      <td>python-3.x|pandas|shell|numpy|google-cloud-pla...</td>\n",
       "      <td>&lt;p&gt;Container-Optimized OS (COS) has several li...</td>\n",
       "      <td>1</td>\n",
       "    </tr>\n",
       "    <tr>\n",
       "      <td>1</td>\n",
       "      <td>62766758</td>\n",
       "      <td>How to fix Python error \"...failed to map segm...</td>\n",
       "      <td>&lt;p&gt;I've recently started to use Google Cloud P...</td>\n",
       "      <td>python-3.x|pandas|shell|numpy|google-cloud-pla...</td>\n",
       "      <td>&lt;p&gt;I'm pretty sure that in case of Python libr...</td>\n",
       "      <td>0</td>\n",
       "    </tr>\n",
       "    <tr>\n",
       "      <td>2</td>\n",
       "      <td>62742938</td>\n",
       "      <td>Wrapper for 'python -m' command</td>\n",
       "      <td>&lt;p&gt;I have a package with following structure:&lt;...</td>\n",
       "      <td>python|modulenotfounderror</td>\n",
       "      <td>&lt;p&gt;The standard library has a module &lt;a href=\"...</td>\n",
       "      <td>1</td>\n",
       "    </tr>\n",
       "    <tr>\n",
       "      <td>3</td>\n",
       "      <td>62741826</td>\n",
       "      <td>How can I improve the speed of pandas rows ope...</td>\n",
       "      <td>&lt;p&gt;I have a large .csv file that has 11'000'00...</td>\n",
       "      <td>python|pandas|performance|data-science</td>\n",
       "      <td>&lt;p&gt;Hello and welcome to StackOverflow.&lt;/p&gt;\\r\\n...</td>\n",
       "      <td>1</td>\n",
       "    </tr>\n",
       "    <tr>\n",
       "      <td>4</td>\n",
       "      <td>62741826</td>\n",
       "      <td>How can I improve the speed of pandas rows ope...</td>\n",
       "      <td>&lt;p&gt;I have a large .csv file that has 11'000'00...</td>\n",
       "      <td>python|pandas|performance|data-science</td>\n",
       "      <td>&lt;p&gt;I guess you want to &lt;code&gt;groupby&lt;/code&gt; an...</td>\n",
       "      <td>0</td>\n",
       "    </tr>\n",
       "    <tr>\n",
       "      <td>...</td>\n",
       "      <td>...</td>\n",
       "      <td>...</td>\n",
       "      <td>...</td>\n",
       "      <td>...</td>\n",
       "      <td>...</td>\n",
       "      <td>...</td>\n",
       "    </tr>\n",
       "    <tr>\n",
       "      <td>19995</td>\n",
       "      <td>35898687</td>\n",
       "      <td>Adding column to PySpark DataFrame depending o...</td>\n",
       "      <td>&lt;p&gt;I have a PySpark DataFrame with structure g...</td>\n",
       "      <td>python|apache-spark|pyspark|apache-spark-sql</td>\n",
       "      <td>&lt;p&gt;Just for fun non-UDF solution:&lt;/p&gt;\\r\\n\\r\\n&lt;...</td>\n",
       "      <td>3</td>\n",
       "    </tr>\n",
       "    <tr>\n",
       "      <td>19996</td>\n",
       "      <td>35898687</td>\n",
       "      <td>Adding column to PySpark DataFrame depending o...</td>\n",
       "      <td>&lt;p&gt;I have a PySpark DataFrame with structure g...</td>\n",
       "      <td>python|apache-spark|pyspark|apache-spark-sql</td>\n",
       "      <td>&lt;p&gt;The following code does the requested task....</td>\n",
       "      <td>7</td>\n",
       "    </tr>\n",
       "    <tr>\n",
       "      <td>19997</td>\n",
       "      <td>35937882</td>\n",
       "      <td>Simple Window using TkInter</td>\n",
       "      <td>&lt;p&gt;I'm new to &lt;code&gt;TkInter&lt;/code&gt; and using P...</td>\n",
       "      <td>python|python-2.7|user-interface|tkinter</td>\n",
       "      <td>&lt;p&gt;At the end of your code, just add &lt;code&gt;win...</td>\n",
       "      <td>2</td>\n",
       "    </tr>\n",
       "    <tr>\n",
       "      <td>19998</td>\n",
       "      <td>35937882</td>\n",
       "      <td>Simple Window using TkInter</td>\n",
       "      <td>&lt;p&gt;I'm new to &lt;code&gt;TkInter&lt;/code&gt; and using P...</td>\n",
       "      <td>python|python-2.7|user-interface|tkinter</td>\n",
       "      <td>&lt;p&gt;You didn't do a &lt;/p&gt;\\r\\n\\r\\n&lt;pre&gt;&lt;code&gt;wind...</td>\n",
       "      <td>5</td>\n",
       "    </tr>\n",
       "    <tr>\n",
       "      <td>19999</td>\n",
       "      <td>35733050</td>\n",
       "      <td>Python Parsing XML with a complex hierarchy - ...</td>\n",
       "      <td>&lt;p&gt;I am working with NukeX9.0v8, Adobe Premier...</td>\n",
       "      <td>python|xml|virtual-reality|nuke|adobe-premiere</td>\n",
       "      <td>&lt;p&gt;Whenever faced with a complex XML, consider...</td>\n",
       "      <td>0</td>\n",
       "    </tr>\n",
       "  </tbody>\n",
       "</table>\n",
       "<p>100000 rows × 6 columns</p>\n",
       "</div>"
      ],
      "text/plain": [
       "             id                                              title  \\\n",
       "0      62766758  How to fix Python error \"...failed to map segm...   \n",
       "1      62766758  How to fix Python error \"...failed to map segm...   \n",
       "2      62742938                    Wrapper for 'python -m' command   \n",
       "3      62741826  How can I improve the speed of pandas rows ope...   \n",
       "4      62741826  How can I improve the speed of pandas rows ope...   \n",
       "...         ...                                                ...   \n",
       "19995  35898687  Adding column to PySpark DataFrame depending o...   \n",
       "19996  35898687  Adding column to PySpark DataFrame depending o...   \n",
       "19997  35937882                        Simple Window using TkInter   \n",
       "19998  35937882                        Simple Window using TkInter   \n",
       "19999  35733050  Python Parsing XML with a complex hierarchy - ...   \n",
       "\n",
       "                                                    body  \\\n",
       "0      <p>I've recently started to use Google Cloud P...   \n",
       "1      <p>I've recently started to use Google Cloud P...   \n",
       "2      <p>I have a package with following structure:<...   \n",
       "3      <p>I have a large .csv file that has 11'000'00...   \n",
       "4      <p>I have a large .csv file that has 11'000'00...   \n",
       "...                                                  ...   \n",
       "19995  <p>I have a PySpark DataFrame with structure g...   \n",
       "19996  <p>I have a PySpark DataFrame with structure g...   \n",
       "19997  <p>I'm new to <code>TkInter</code> and using P...   \n",
       "19998  <p>I'm new to <code>TkInter</code> and using P...   \n",
       "19999  <p>I am working with NukeX9.0v8, Adobe Premier...   \n",
       "\n",
       "                                                    tags  \\\n",
       "0      python-3.x|pandas|shell|numpy|google-cloud-pla...   \n",
       "1      python-3.x|pandas|shell|numpy|google-cloud-pla...   \n",
       "2                             python|modulenotfounderror   \n",
       "3                 python|pandas|performance|data-science   \n",
       "4                 python|pandas|performance|data-science   \n",
       "...                                                  ...   \n",
       "19995       python|apache-spark|pyspark|apache-spark-sql   \n",
       "19996       python|apache-spark|pyspark|apache-spark-sql   \n",
       "19997           python|python-2.7|user-interface|tkinter   \n",
       "19998           python|python-2.7|user-interface|tkinter   \n",
       "19999     python|xml|virtual-reality|nuke|adobe-premiere   \n",
       "\n",
       "                                                 answers  score  \n",
       "0      <p>Container-Optimized OS (COS) has several li...      1  \n",
       "1      <p>I'm pretty sure that in case of Python libr...      0  \n",
       "2      <p>The standard library has a module <a href=\"...      1  \n",
       "3      <p>Hello and welcome to StackOverflow.</p>\\r\\n...      1  \n",
       "4      <p>I guess you want to <code>groupby</code> an...      0  \n",
       "...                                                  ...    ...  \n",
       "19995  <p>Just for fun non-UDF solution:</p>\\r\\n\\r\\n<...      3  \n",
       "19996  <p>The following code does the requested task....      7  \n",
       "19997  <p>At the end of your code, just add <code>win...      2  \n",
       "19998  <p>You didn't do a </p>\\r\\n\\r\\n<pre><code>wind...      5  \n",
       "19999  <p>Whenever faced with a complex XML, consider...      0  \n",
       "\n",
       "[100000 rows x 6 columns]"
      ]
     },
     "execution_count": 75,
     "metadata": {},
     "output_type": "execute_result"
    }
   ],
   "source": [
    "df = pd.concat([df1,df2,df3,df4,df5], axis=0)\n",
    "df.drop('Unnamed: 0', axis=1)"
   ]
  },
  {
   "cell_type": "code",
   "execution_count": 10,
   "metadata": {},
   "outputs": [
    {
     "data": {
      "text/html": [
       "<div>\n",
       "<style scoped>\n",
       "    .dataframe tbody tr th:only-of-type {\n",
       "        vertical-align: middle;\n",
       "    }\n",
       "\n",
       "    .dataframe tbody tr th {\n",
       "        vertical-align: top;\n",
       "    }\n",
       "\n",
       "    .dataframe thead th {\n",
       "        text-align: right;\n",
       "    }\n",
       "</style>\n",
       "<table border=\"1\" class=\"dataframe\">\n",
       "  <thead>\n",
       "    <tr style=\"text-align: right;\">\n",
       "      <th></th>\n",
       "      <th>Unnamed: 0</th>\n",
       "      <th>id</th>\n",
       "      <th>title</th>\n",
       "      <th>body</th>\n",
       "      <th>tags</th>\n",
       "      <th>answers</th>\n",
       "      <th>score</th>\n",
       "    </tr>\n",
       "  </thead>\n",
       "  <tbody>\n",
       "    <tr>\n",
       "      <td>0</td>\n",
       "      <td>0</td>\n",
       "      <td>62766758</td>\n",
       "      <td>How to fix Python error \"...failed to map segm...</td>\n",
       "      <td>&lt;p&gt;I've recently started to use Google Cloud P...</td>\n",
       "      <td>python-3.x|pandas|shell|numpy|google-cloud-pla...</td>\n",
       "      <td>&lt;p&gt;Container-Optimized OS (COS) has several li...</td>\n",
       "      <td>1</td>\n",
       "    </tr>\n",
       "    <tr>\n",
       "      <td>1</td>\n",
       "      <td>1</td>\n",
       "      <td>62766758</td>\n",
       "      <td>How to fix Python error \"...failed to map segm...</td>\n",
       "      <td>&lt;p&gt;I've recently started to use Google Cloud P...</td>\n",
       "      <td>python-3.x|pandas|shell|numpy|google-cloud-pla...</td>\n",
       "      <td>&lt;p&gt;I'm pretty sure that in case of Python libr...</td>\n",
       "      <td>0</td>\n",
       "    </tr>\n",
       "    <tr>\n",
       "      <td>2</td>\n",
       "      <td>2</td>\n",
       "      <td>62742938</td>\n",
       "      <td>Wrapper for 'python -m' command</td>\n",
       "      <td>&lt;p&gt;I have a package with following structure:&lt;...</td>\n",
       "      <td>python|modulenotfounderror</td>\n",
       "      <td>&lt;p&gt;The standard library has a module &lt;a href=\"...</td>\n",
       "      <td>1</td>\n",
       "    </tr>\n",
       "    <tr>\n",
       "      <td>3</td>\n",
       "      <td>3</td>\n",
       "      <td>62741826</td>\n",
       "      <td>How can I improve the speed of pandas rows ope...</td>\n",
       "      <td>&lt;p&gt;I have a large .csv file that has 11'000'00...</td>\n",
       "      <td>python|pandas|performance|data-science</td>\n",
       "      <td>&lt;p&gt;Hello and welcome to StackOverflow.&lt;/p&gt;\\r\\n...</td>\n",
       "      <td>1</td>\n",
       "    </tr>\n",
       "    <tr>\n",
       "      <td>4</td>\n",
       "      <td>4</td>\n",
       "      <td>62741826</td>\n",
       "      <td>How can I improve the speed of pandas rows ope...</td>\n",
       "      <td>&lt;p&gt;I have a large .csv file that has 11'000'00...</td>\n",
       "      <td>python|pandas|performance|data-science</td>\n",
       "      <td>&lt;p&gt;I guess you want to &lt;code&gt;groupby&lt;/code&gt; an...</td>\n",
       "      <td>0</td>\n",
       "    </tr>\n",
       "  </tbody>\n",
       "</table>\n",
       "</div>"
      ],
      "text/plain": [
       "   Unnamed: 0        id                                              title  \\\n",
       "0           0  62766758  How to fix Python error \"...failed to map segm...   \n",
       "1           1  62766758  How to fix Python error \"...failed to map segm...   \n",
       "2           2  62742938                    Wrapper for 'python -m' command   \n",
       "3           3  62741826  How can I improve the speed of pandas rows ope...   \n",
       "4           4  62741826  How can I improve the speed of pandas rows ope...   \n",
       "\n",
       "                                                body  \\\n",
       "0  <p>I've recently started to use Google Cloud P...   \n",
       "1  <p>I've recently started to use Google Cloud P...   \n",
       "2  <p>I have a package with following structure:<...   \n",
       "3  <p>I have a large .csv file that has 11'000'00...   \n",
       "4  <p>I have a large .csv file that has 11'000'00...   \n",
       "\n",
       "                                                tags  \\\n",
       "0  python-3.x|pandas|shell|numpy|google-cloud-pla...   \n",
       "1  python-3.x|pandas|shell|numpy|google-cloud-pla...   \n",
       "2                         python|modulenotfounderror   \n",
       "3             python|pandas|performance|data-science   \n",
       "4             python|pandas|performance|data-science   \n",
       "\n",
       "                                             answers  score  \n",
       "0  <p>Container-Optimized OS (COS) has several li...      1  \n",
       "1  <p>I'm pretty sure that in case of Python libr...      0  \n",
       "2  <p>The standard library has a module <a href=\"...      1  \n",
       "3  <p>Hello and welcome to StackOverflow.</p>\\r\\n...      1  \n",
       "4  <p>I guess you want to <code>groupby</code> an...      0  "
      ]
     },
     "execution_count": 10,
     "metadata": {},
     "output_type": "execute_result"
    }
   ],
   "source": [
    "df.head()"
   ]
  },
  {
   "cell_type": "code",
   "execution_count": 36,
   "metadata": {},
   "outputs": [
    {
     "name": "stdout",
     "output_type": "stream",
     "text": [
      "No. of rows:  100000\n",
      "No. of columns:  7\n"
     ]
    }
   ],
   "source": [
    "print(\"No. of rows: \",df.shape[0])\n",
    "print(\"No. of columns: \",df.shape[1])"
   ]
  },
  {
   "cell_type": "code",
   "execution_count": 19,
   "metadata": {},
   "outputs": [
    {
     "name": "stdout",
     "output_type": "stream",
     "text": [
      "No. of questions: 58887\n"
     ]
    }
   ],
   "source": [
    "#No. of unique questions\n",
    "print(\"No. of questions:\",df['id'].nunique())"
   ]
  },
  {
   "cell_type": "code",
   "execution_count": 35,
   "metadata": {},
   "outputs": [
    {
     "name": "stdout",
     "output_type": "stream",
     "text": [
      "No. of answers: 99999\n"
     ]
    }
   ],
   "source": [
    "#No. of unique answers\n",
    "print(\"No. of answers:\",df['answers'].nunique())"
   ]
  },
  {
   "cell_type": "code",
   "execution_count": 33,
   "metadata": {},
   "outputs": [
    {
     "name": "stdout",
     "output_type": "stream",
     "text": [
      "No missing values\n"
     ]
    }
   ],
   "source": [
    "#Checks for Nan values and removes the rows\n",
    "null_rows = df[df.isnull().any(axis = 1)]\n",
    "if null_rows.empty:\n",
    "    print(\"No missing values\")\n",
    "else: \n",
    "    df.dropna(inplace =  True)"
   ]
  },
  {
   "cell_type": "code",
   "execution_count": 34,
   "metadata": {},
   "outputs": [],
   "source": [
    "#Checks for duplicates and drops them\n",
    "df.drop_duplicates(keep = 'first', inplace = True)"
   ]
  },
  {
   "cell_type": "code",
   "execution_count": 41,
   "metadata": {},
   "outputs": [],
   "source": [
    "answer_count = df['id'].value_counts()"
   ]
  },
  {
   "cell_type": "code",
   "execution_count": 42,
   "metadata": {},
   "outputs": [
    {
     "data": {
      "text/plain": [
       "166506      46\n",
       "27835619    38\n",
       "434287      37\n",
       "53939751    32\n",
       "11875770    32\n",
       "Name: id, dtype: int64"
      ]
     },
     "execution_count": 42,
     "metadata": {},
     "output_type": "execute_result"
    }
   ],
   "source": [
    "#Top 5 id's of questions with highest number of answers\n",
    "answer_count.head(5)"
   ]
  },
  {
   "cell_type": "code",
   "execution_count": 14,
   "metadata": {},
   "outputs": [],
   "source": [
    "#df.to_csv('data/data_corpus.csv')"
   ]
  },
  {
   "cell_type": "code",
   "execution_count": 69,
   "metadata": {},
   "outputs": [
    {
     "name": "stdout",
     "output_type": "stream",
     "text": [
      "<pre><code># create a series to make it convenient to map\\r\\n# make each member a set so I can intersect later\\r\\nlkp = pd.Series(memberships).apply(set)\\r\\n\\r\\n# get number of rows and columns\\r\\n# map the sets to column and row indices\\r\\nn, m = congruent.shape\\r\\nc = congruent.columns.to_series().map(lkp).values\\r\\nr = congruent.index.to_series().map(lkp).values\\r\\n</code></pre>\\r\\n\\r\\n<hr>\\r\\n\\r\\n<pre><code>print(c)\\r\\n[{'vowel'} {'consonant'} {'consonant'} {'consonant'} {'vowel'}\\r\\n {'consonant', 'vowel'}]\\r\\n</code></pre>\\r\\n\\r\\n<hr>\\r\\n\\r\\n<pre><code>print(r)\\r\\n[{'vowel'} {'consonant'} {'consonant'} {'consonant'} {'vowel'}\\r\\n {'consonant', 'vowel'}]\\r\\n</code></pre>\\r\\n\\r\\n<hr>\\r\\n\\r\\n<pre><code># use np.repeat, np.tile, zip to create cartesian product\\r\\n# this should match index after stacking\\r\\n# apply set intersection for each pair\\r\\n# empty sets are False, otherwise True\\r\\nsame = [\\r\\n    bool(set.intersection(*tup))\\r\\n    for tup in zip(np.repeat(r, m), np.tile(c, n))\\r\\n]\\r\\n\\r\\n# use dropna=False to ensure we maintain the\\r\\n# cartesian product I was expecting\\r\\n# then slice with boolean list I created\\r\\n# and dropna\\r\\ncongruent.stack(dropna=False)[same].dropna()\\r\\n\\r\\nrow  col\\r\\na    e      0.80\\r\\n     y      0.01\\r\\nb    c      0.50\\r\\n     d      0.70\\r\\n     y      0.01\\r\\nc    b      0.50\\r\\n     d      0.30\\r\\n     y      0.01\\r\\nd    b      0.70\\r\\n     c      0.30\\r\\n     y      0.01\\r\\ne    a      0.80\\r\\n     y      0.01\\r\\ny    a      0.01\\r\\n     b      0.01\\r\\n     c      0.01\\r\\n     d      0.01\\r\\n     e      0.01\\r\\ndtype: float64\\r\\n</code></pre>\\r\\n\\r\\n<hr>\\r\\n\\r\\n<p>Produce wanted result</p>\\r\\n\\r\\n<pre><code>congruent.stack(dropna=False).reset_index(name='Score') \\\\r\\n    .assign(same_group=np.array(same).astype(int)).dropna()\\r\\n</code></pre>\\r\\n\\r\\n<p><a href=\"https://i.stack.imgur.com/uy2tL.png\" rel=\"nofollow noreferrer\"><img src=\"https://i.stack.imgur.com/uy2tL.png\" alt=\"enter image description here\"></a></p>    2\n",
      "<blockquote>\\r\\n  <p>for the purposes of identifying correctly the widget that the mouse finally rested, whatever the direction taken, what is the correct way of identifying the (event.x, event.y) points in the containing frame?</p>\\r\\n</blockquote>\\r\\n\\r\\n<p>The x/y coordinates of the release event are relative to the widget that got the press event, which explains why the values can be negative. </p>\\r\\n\\r\\n<p>The coordinates to use for finding the widget under the cursor are <code>event.x_root</code> and <code>event.y_root</code>, which you can pass to <code>winfo_containing</code> to get the actual widget.</p>\\r\\n\\r\\n<p>For example:</p>\\r\\n\\r\\n<pre><code>def release(event):\\r\\n    window = root.winfo_containing(event.x_root, event.y_root)\\r\\n    print(f\"window under the cursor: {window}\")\\r\\n</code></pre>                                                                                                                                                                                                                                                                                                                                                                                                                                                                                                                                                                                                                                                                                                                                                                                                                                                                                                                                                                                                                                                                                                                                                                                                                          1\n",
      "<p>The following should do roughly what you want.  It won't do anything until you hit the space bar and then any time you click on the screen the turtle will head towards and goto the place you clicked:</p>\\r\\n\\r\\n<pre><code>from turtle import Screen, Turtle\\r\\n\\r\\nscreen = Screen()\\r\\nyertle = Turtle()\\r\\n\\r\\ndef k101():\\r\\n    screen.onscreenclick(click_handler)\\r\\n\\r\\ndef click_handler(x, y):\\r\\n    screen.onscreenclick(None)  # disable event inside event handler\\r\\n    yertle.setheading(yertle.towards(x, y))\\r\\n    yertle.goto(x, y)\\r\\n    screen.onscreenclick(click_handler)  # reenable event on event handler exit\\r\\n\\r\\nscreen.onkey(k101, \" \")  # space turns on mouse drawing\\r\\n\\r\\nscreen.listen()\\r\\n\\r\\nscreen.mainloop()\\r\\n</code></pre>                                                                                                                                                                                                                                                                                                                                                                                                                                                                                                                                                                                                                                                                                                                                                                                                                                                                                                                                                                                                                                                                                                                                                                                                                                                                                             1\n",
      "<p>Use <a href=\"http://docs.cython.org/src/userguide/fusedtypes.html\" rel=\"nofollow\">Fused Types</a>.</p>\\r\\n\\r\\n<p>Example:</p>\\r\\n\\r\\n<pre><code>cimport cython\\r\\n\\r\\nctypedef fused any:\\r\\n    string\\r\\n    cython.int\\r\\n\\r\\ncpdef bool is_in_vector(string a, vector[any] v)\\r\\n</code></pre>\\r\\n\\r\\n<p>Or this way:</p>\\r\\n\\r\\n<pre><code>ctypedef fused vector_t:\\r\\n    vector[string]\\r\\n    vector[cython.int]\\r\\n\\r\\ncpdef bool is_in_vector(string a, vector_t v)\\r\\n</code></pre>                                                                                                                                                                                                                                                                                                                                                                                                                                                                                                                                                                                                                                                                                                                                                                                                                                                                                                                                                                                                                                                                                                                                                                                                                                                                                                                                                                                                                                                                                                                                                                             1\n",
      "<p>I dont know much Python, but Maybe Try Converting the int into a float or double. Maybe it'll work</p>                                                                                                                                                                                                                                                                                                                                                                                                                                                                                                                                                                                                                                                                                                                                                                                                                                                                                                                                                                                                                                                                                                                                                                                                                                                                                                                                                                                                                                                                                                                                                                                                                                                                                                                                                                                                                                                                                                                                                                     1\n",
      "Name: answers, dtype: int64\n"
     ]
    }
   ],
   "source": [
    "#count will have count of number of times each answer occurs\n",
    "count = df['answers'].value_counts()\n",
    "print(count.head(5))"
   ]
  },
  {
   "cell_type": "markdown",
   "metadata": {},
   "source": [
    "As we could see, there's an answer that's repeating twice in the dataset."
   ]
  },
  {
   "cell_type": "code",
   "execution_count": 70,
   "metadata": {},
   "outputs": [],
   "source": [
    "obj = count.head(1).index[0]"
   ]
  },
  {
   "cell_type": "code",
   "execution_count": 79,
   "metadata": {},
   "outputs": [],
   "source": [
    "sim_ans_df = df[df['answers']==ob]"
   ]
  },
  {
   "cell_type": "code",
   "execution_count": 85,
   "metadata": {},
   "outputs": [
    {
     "data": {
      "text/html": [
       "<div>\n",
       "<style scoped>\n",
       "    .dataframe tbody tr th:only-of-type {\n",
       "        vertical-align: middle;\n",
       "    }\n",
       "\n",
       "    .dataframe tbody tr th {\n",
       "        vertical-align: top;\n",
       "    }\n",
       "\n",
       "    .dataframe thead th {\n",
       "        text-align: right;\n",
       "    }\n",
       "</style>\n",
       "<table border=\"1\" class=\"dataframe\">\n",
       "  <thead>\n",
       "    <tr style=\"text-align: right;\">\n",
       "      <th></th>\n",
       "      <th>Unnamed: 0</th>\n",
       "      <th>id</th>\n",
       "      <th>title</th>\n",
       "      <th>body</th>\n",
       "      <th>tags</th>\n",
       "      <th>answers</th>\n",
       "      <th>score</th>\n",
       "    </tr>\n",
       "  </thead>\n",
       "  <tbody>\n",
       "    <tr>\n",
       "      <td>17019</td>\n",
       "      <td>17019</td>\n",
       "      <td>41620262</td>\n",
       "      <td>Type Error: Positional Arguments with pandas.a...</td>\n",
       "      <td>&lt;h2&gt;Problem Statement:&lt;/h2&gt;\\r\\n\\r\\n&lt;p&gt;A pandas...</td>\n",
       "      <td>python|pandas|numpy</td>\n",
       "      <td>&lt;pre&gt;&lt;code&gt;# create a series to make it conven...</td>\n",
       "      <td>1</td>\n",
       "    </tr>\n",
       "    <tr>\n",
       "      <td>7228</td>\n",
       "      <td>47228</td>\n",
       "      <td>41621279</td>\n",
       "      <td>Vectorized Lookups of Pandas Series to a Dicti...</td>\n",
       "      <td>&lt;h2&gt;Problem Statement:&lt;/h2&gt;\\r\\n\\r\\n&lt;p&gt;A pandas...</td>\n",
       "      <td>python|pandas|numpy</td>\n",
       "      <td>&lt;pre&gt;&lt;code&gt;# create a series to make it conven...</td>\n",
       "      <td>2</td>\n",
       "    </tr>\n",
       "  </tbody>\n",
       "</table>\n",
       "</div>"
      ],
      "text/plain": [
       "       Unnamed: 0        id  \\\n",
       "17019       17019  41620262   \n",
       "7228        47228  41621279   \n",
       "\n",
       "                                                   title  \\\n",
       "17019  Type Error: Positional Arguments with pandas.a...   \n",
       "7228   Vectorized Lookups of Pandas Series to a Dicti...   \n",
       "\n",
       "                                                    body                 tags  \\\n",
       "17019  <h2>Problem Statement:</h2>\\r\\n\\r\\n<p>A pandas...  python|pandas|numpy   \n",
       "7228   <h2>Problem Statement:</h2>\\r\\n\\r\\n<p>A pandas...  python|pandas|numpy   \n",
       "\n",
       "                                                 answers  score  \n",
       "17019  <pre><code># create a series to make it conven...      1  \n",
       "7228   <pre><code># create a series to make it conven...      2  "
      ]
     },
     "execution_count": 85,
     "metadata": {},
     "output_type": "execute_result"
    }
   ],
   "source": [
    "sim_ans_df"
   ]
  },
  {
   "cell_type": "markdown",
   "metadata": {},
   "source": [
    "As we could see, there are 2 questions with same answer."
   ]
  },
  {
   "cell_type": "code",
   "execution_count": 87,
   "metadata": {},
   "outputs": [],
   "source": [
    "q1 = sim_ans_df.iloc[0]['body']\n",
    "q2 = sim_ans_df.iloc[1]['body']"
   ]
  },
  {
   "cell_type": "code",
   "execution_count": 88,
   "metadata": {},
   "outputs": [
    {
     "name": "stdout",
     "output_type": "stream",
     "text": [
      "False\n"
     ]
    }
   ],
   "source": [
    "print(q1==q2)"
   ]
  },
  {
   "cell_type": "code",
   "execution_count": 91,
   "metadata": {},
   "outputs": [
    {
     "data": {
      "text/plain": [
       "'<h2>Problem Statement:</h2>\\r\\n\\r\\n<p>A pandas dataframe column series, <code>same_group</code> needs to be created from booleans according to the values of two existing columns, <code>row</code> and <code>col</code>.  The row needs to show True if both values have similar values (intersecting values) in a dictionary <code>memberships</code>, and False otherwise (no intersecting values).  Using <code>pd.apply()</code> give the error:</p>\\r\\n\\r\\n<pre><code>TypeError: (\\'checkGrouping() takes 2 positional arguments but 3 were given\\', \\'occurred at index row\\')\\r\\n</code></pre>\\r\\n\\r\\n<h2>Setup:</h2>\\r\\n\\r\\n<pre><code>import pandas as pd\\r\\nimport numpy as np \\r\\nn = np.nan\\r\\nmemberships = {\\'a\\':[\\'vowel\\'], \\'b\\':[\\'consonant\\'], \\'c\\':[\\'consonant\\'], \\'d\\':[\\'consonant\\'], \\'e\\':[\\'vowel\\'], \\'y\\':[\\'consonant\\', \\'vowel\\']}\\r\\n\\r\\ncongruent = pd.DataFrame.from_dict(  \\r\\n         {\\'row\\': [\\'a\\',\\'b\\',\\'c\\',\\'d\\',\\'e\\',\\'y\\'],\\r\\n            \\'a\\': [ n, -.8,-.6,-.3, .8, .01],\\r\\n            \\'b\\': [-.8,  n, .5, .7,-.9, .01],\\r\\n            \\'c\\': [-.6, .5,  n, .3, .1, .01],\\r\\n            \\'d\\': [-.3, .7, .3,  n, .2, .01],\\r\\n            \\'e\\': [ .8,-.9, .1, .2,  n, .01],\\r\\n            \\'y\\': [ .01, .01, .01, .01,  .01, n],\\r\\n       }).set_index(\\'row\\')\\r\\ncongruent.columns.names = [\\'col\\']\\r\\n</code></pre>\\r\\n\\r\\n<p><a href=\"https://i.stack.imgur.com/pVDY5m.png\" rel=\"nofollow noreferrer\"><img src=\"https://i.stack.imgur.com/pVDY5m.png\" alt=\"snippet of dataframe cs\"></a></p>\\r\\n\\r\\n<pre><code>cs = congruent.stack().to_frame()\\r\\ncs.columns = [\\'score\\']\\r\\ncs.reset_index(inplace=True)\\r\\ncs.head(6)\\r\\n</code></pre>\\r\\n\\r\\n<p><a href=\"https://i.stack.imgur.com/YjfCPm.png\" rel=\"nofollow noreferrer\"><img src=\"https://i.stack.imgur.com/YjfCPm.png\" alt=\"snippet of dataframe cs stacked\"></a></p>\\r\\n\\r\\n<h2>The Desired Goal:</h2>\\r\\n\\r\\n<p><a href=\"https://i.stack.imgur.com/EEeqfm.png\" rel=\"nofollow noreferrer\"><img src=\"https://i.stack.imgur.com/EEeqfm.png\" alt=\"finest drawing of added pandas column\"></a></p>\\r\\n\\r\\n<h2>Make boolean series:</h2>\\r\\n\\r\\n<h3>attempt 0:</h3>\\r\\n\\r\\n<pre><code>def checkGrouping(row, col):\\r\\n    if row in memberships.keys() and col in memberships.keys():\\r\\n        return memberships[row].intersection(set(memberships[col]))\\r\\n    else:\\r\\n        return np.nan\\r\\n\\r\\n\\r\\ncs[\\'same_group\\'] = cs.apply(checkGrouping,args=(cs[\\'row\\'], cs[\\'col\\']))\\r\\n</code></pre>\\r\\n\\r\\n<p>It looked like I\\'m providing the args to <code>checkGrouping</code> so why am I getting this error and how can I fix it?</p>'"
      ]
     },
     "execution_count": 91,
     "metadata": {},
     "output_type": "execute_result"
    }
   ],
   "source": [
    "q1"
   ]
  },
  {
   "cell_type": "code",
   "execution_count": 92,
   "metadata": {},
   "outputs": [
    {
     "data": {
      "text/plain": [
       "'<h2>Problem Statement:</h2>\\r\\n\\r\\n<p>A pandas dataframe column series, <code>same_group</code> needs to be created from booleans according to the values of two existing columns, <code>row</code> and <code>col</code>.  The row needs to show True if both cells across a row have similar values (intersecting values) in a dictionary <code>memberships</code>, and False otherwise (no intersecting values).  How do I do this in a vectorized way (not using apply)?</p>\\r\\n\\r\\n<h2>Setup:</h2>\\r\\n\\r\\n<pre><code>import pandas as pd\\r\\nimport numpy as np \\r\\nn = np.nan\\r\\nmemberships = {\\r\\n    \\'a\\':[\\'vowel\\'],\\r\\n    \\'b\\':[\\'consonant\\'],\\r\\n    \\'c\\':[\\'consonant\\'],\\r\\n    \\'d\\':[\\'consonant\\'],\\r\\n    \\'e\\':[\\'vowel\\'],\\r\\n    \\'y\\':[\\'consonant\\', \\'vowel\\']\\r\\n}\\r\\n\\r\\ncongruent = pd.DataFrame.from_dict(  \\r\\n         {\\'row\\': [\\'a\\',\\'b\\',\\'c\\',\\'d\\',\\'e\\',\\'y\\'],\\r\\n            \\'a\\': [ n, -.8,-.6,-.3, .8, .01],\\r\\n            \\'b\\': [-.8,  n, .5, .7,-.9, .01],\\r\\n            \\'c\\': [-.6, .5,  n, .3, .1, .01],\\r\\n            \\'d\\': [-.3, .7, .3,  n, .2, .01],\\r\\n            \\'e\\': [ .8,-.9, .1, .2,  n, .01],\\r\\n            \\'y\\': [ .01, .01, .01, .01,  .01, n],\\r\\n       }).set_index(\\'row\\')\\r\\ncongruent.columns.names = [\\'col\\']\\r\\n</code></pre>\\r\\n\\r\\n<p><a href=\"https://i.stack.imgur.com/pVDY5m.png\"><img src=\"https://i.stack.imgur.com/pVDY5m.png\" alt=\"snippet of dataframe cs\"></a></p>\\r\\n\\r\\n<pre><code>cs = congruent.stack().to_frame()\\r\\ncs.columns = [\\'score\\']\\r\\ncs.reset_index(inplace=True)\\r\\ncs.head(6)\\r\\n</code></pre>\\r\\n\\r\\n<p><a href=\"https://i.stack.imgur.com/YjfCPm.png\"><img src=\"https://i.stack.imgur.com/YjfCPm.png\" alt=\"snippet of dataframe cs stacked\"></a></p>\\r\\n\\r\\n<h2>The Desired Goal:</h2>\\r\\n\\r\\n<p><a href=\"https://i.stack.imgur.com/EEeqfm.png\"><img src=\"https://i.stack.imgur.com/EEeqfm.png\" alt=\"finest drawing of added pandas column\"></a></p>\\r\\n\\r\\n<p>How do I accomplish creating this new column based on a lookup on a dictionary?</p>\\r\\n\\r\\n<p>Note that I\\'m trying to find intersection, not equivalence.  For example, row 4 should have a <code>same_group</code> of 1, since <code>a</code> and <code>y</code> are both vowels (despite that <code>y</code> is \"sometimes a vowel\" and thus belongs to groups consonant and vowel).</p>'"
      ]
     },
     "execution_count": 92,
     "metadata": {},
     "output_type": "execute_result"
    }
   ],
   "source": [
    "q2"
   ]
  },
  {
   "cell_type": "markdown",
   "metadata": {},
   "source": [
    "But on further, both the questions are different"
   ]
  }
 ],
 "metadata": {
  "kernelspec": {
   "display_name": "Python 3",
   "language": "python",
   "name": "python3"
  },
  "language_info": {
   "codemirror_mode": {
    "name": "ipython",
    "version": 3
   },
   "file_extension": ".py",
   "mimetype": "text/x-python",
   "name": "python",
   "nbconvert_exporter": "python",
   "pygments_lexer": "ipython3",
   "version": "3.7.4"
  }
 },
 "nbformat": 4,
 "nbformat_minor": 2
}
