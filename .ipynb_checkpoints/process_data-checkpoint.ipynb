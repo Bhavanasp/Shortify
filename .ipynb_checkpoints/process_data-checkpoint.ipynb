{
 "cells": [
  {
   "cell_type": "markdown",
   "id": "rental-lodge",
   "metadata": {},
   "source": [
    "##  Data cleaning and processing\n",
    "<hr>\n",
    "Analysis, cleaning and processing of the original data files is done here"
   ]
  },
  {
   "cell_type": "code",
   "execution_count": 1,
   "id": "metropolitan-concept",
   "metadata": {},
   "outputs": [],
   "source": [
    "import pandas as pd\n",
    "import numpy as np\n",
    "import spacy"
   ]
  },
  {
   "cell_type": "markdown",
   "id": "computational-dispute",
   "metadata": {},
   "source": [
    "##  Load data\n",
    "<hr>"
   ]
  },
  {
   "cell_type": "code",
   "execution_count": 2,
   "id": "compound-token",
   "metadata": {
    "scrolled": true
   },
   "outputs": [
    {
     "data": {
      "text/html": [
       "<div>\n",
       "<style scoped>\n",
       "    .dataframe tbody tr th:only-of-type {\n",
       "        vertical-align: middle;\n",
       "    }\n",
       "\n",
       "    .dataframe tbody tr th {\n",
       "        vertical-align: top;\n",
       "    }\n",
       "\n",
       "    .dataframe thead th {\n",
       "        text-align: right;\n",
       "    }\n",
       "</style>\n",
       "<table border=\"1\" class=\"dataframe\">\n",
       "  <thead>\n",
       "    <tr style=\"text-align: right;\">\n",
       "      <th></th>\n",
       "      <th>id</th>\n",
       "      <th>title</th>\n",
       "      <th>body</th>\n",
       "      <th>tags</th>\n",
       "      <th>answers</th>\n",
       "      <th>score</th>\n",
       "    </tr>\n",
       "  </thead>\n",
       "  <tbody>\n",
       "    <tr>\n",
       "      <th>0</th>\n",
       "      <td>62766758</td>\n",
       "      <td>How to fix Python error \"...failed to map segm...</td>\n",
       "      <td>&lt;p&gt;I've recently started to use Google Cloud P...</td>\n",
       "      <td>python-3.x|pandas|shell|numpy|google-cloud-pla...</td>\n",
       "      <td>&lt;p&gt;Container-Optimized OS (COS) has several li...</td>\n",
       "      <td>1</td>\n",
       "    </tr>\n",
       "    <tr>\n",
       "      <th>1</th>\n",
       "      <td>62766758</td>\n",
       "      <td>How to fix Python error \"...failed to map segm...</td>\n",
       "      <td>&lt;p&gt;I've recently started to use Google Cloud P...</td>\n",
       "      <td>python-3.x|pandas|shell|numpy|google-cloud-pla...</td>\n",
       "      <td>&lt;p&gt;I'm pretty sure that in case of Python libr...</td>\n",
       "      <td>0</td>\n",
       "    </tr>\n",
       "    <tr>\n",
       "      <th>2</th>\n",
       "      <td>62742938</td>\n",
       "      <td>Wrapper for 'python -m' command</td>\n",
       "      <td>&lt;p&gt;I have a package with following structure:&lt;...</td>\n",
       "      <td>python|modulenotfounderror</td>\n",
       "      <td>&lt;p&gt;The standard library has a module &lt;a href=\"...</td>\n",
       "      <td>1</td>\n",
       "    </tr>\n",
       "    <tr>\n",
       "      <th>3</th>\n",
       "      <td>62741826</td>\n",
       "      <td>How can I improve the speed of pandas rows ope...</td>\n",
       "      <td>&lt;p&gt;I have a large .csv file that has 11'000'00...</td>\n",
       "      <td>python|pandas|performance|data-science</td>\n",
       "      <td>&lt;p&gt;Hello and welcome to StackOverflow.&lt;/p&gt;\\n&lt;p...</td>\n",
       "      <td>1</td>\n",
       "    </tr>\n",
       "    <tr>\n",
       "      <th>4</th>\n",
       "      <td>62741826</td>\n",
       "      <td>How can I improve the speed of pandas rows ope...</td>\n",
       "      <td>&lt;p&gt;I have a large .csv file that has 11'000'00...</td>\n",
       "      <td>python|pandas|performance|data-science</td>\n",
       "      <td>&lt;p&gt;I guess you want to &lt;code&gt;groupby&lt;/code&gt; an...</td>\n",
       "      <td>0</td>\n",
       "    </tr>\n",
       "  </tbody>\n",
       "</table>\n",
       "</div>"
      ],
      "text/plain": [
       "         id                                              title  \\\n",
       "0  62766758  How to fix Python error \"...failed to map segm...   \n",
       "1  62766758  How to fix Python error \"...failed to map segm...   \n",
       "2  62742938                    Wrapper for 'python -m' command   \n",
       "3  62741826  How can I improve the speed of pandas rows ope...   \n",
       "4  62741826  How can I improve the speed of pandas rows ope...   \n",
       "\n",
       "                                                body  \\\n",
       "0  <p>I've recently started to use Google Cloud P...   \n",
       "1  <p>I've recently started to use Google Cloud P...   \n",
       "2  <p>I have a package with following structure:<...   \n",
       "3  <p>I have a large .csv file that has 11'000'00...   \n",
       "4  <p>I have a large .csv file that has 11'000'00...   \n",
       "\n",
       "                                                tags  \\\n",
       "0  python-3.x|pandas|shell|numpy|google-cloud-pla...   \n",
       "1  python-3.x|pandas|shell|numpy|google-cloud-pla...   \n",
       "2                         python|modulenotfounderror   \n",
       "3             python|pandas|performance|data-science   \n",
       "4             python|pandas|performance|data-science   \n",
       "\n",
       "                                             answers  score  \n",
       "0  <p>Container-Optimized OS (COS) has several li...      1  \n",
       "1  <p>I'm pretty sure that in case of Python libr...      0  \n",
       "2  <p>The standard library has a module <a href=\"...      1  \n",
       "3  <p>Hello and welcome to StackOverflow.</p>\\n<p...      1  \n",
       "4  <p>I guess you want to <code>groupby</code> an...      0  "
      ]
     },
     "execution_count": 2,
     "metadata": {},
     "output_type": "execute_result"
    }
   ],
   "source": [
    "en = spacy.load('en_core_web_sm')\n",
    "\n",
    "df1 = pd.read_csv('data/original_data1.csv')\n",
    "df2 = pd.read_csv('data/original_data2.csv')\n",
    "df3 = pd.read_csv('data/original_data3.csv')\n",
    "df4 = pd.read_csv('data/original_data4.csv')\n",
    "df5 = pd.read_csv('data/original_data5.csv')\n",
    "\n",
    "df = df1.append([df2, df3, df4, df5]).iloc[:, 1:]\n",
    "df.reset_index(inplace=True, drop=True)\n",
    "df.head()"
   ]
  },
  {
   "cell_type": "code",
   "execution_count": 3,
   "id": "attached-terrorist",
   "metadata": {},
   "outputs": [
    {
     "name": "stdout",
     "output_type": "stream",
     "text": [
      "Datebase shape:(100000, 6)\n"
     ]
    }
   ],
   "source": [
    "print('Datebase shape:' + str(df.shape))"
   ]
  },
  {
   "cell_type": "markdown",
   "id": "caroline-supplement",
   "metadata": {},
   "source": [
    "##  Missing values check\n",
    "<hr>"
   ]
  },
  {
   "cell_type": "code",
   "execution_count": 4,
   "id": "solid-edmonton",
   "metadata": {},
   "outputs": [
    {
     "data": {
      "text/plain": [
       "id         0\n",
       "title      0\n",
       "body       0\n",
       "tags       0\n",
       "answers    0\n",
       "score      0\n",
       "dtype: int64"
      ]
     },
     "execution_count": 4,
     "metadata": {},
     "output_type": "execute_result"
    }
   ],
   "source": [
    "df.isna().sum()"
   ]
  },
  {
   "cell_type": "markdown",
   "id": "dress-vienna",
   "metadata": {},
   "source": [
    "##  Text processing\n",
    "<hr>"
   ]
  },
  {
   "cell_type": "code",
   "execution_count": 5,
   "id": "differential-pregnancy",
   "metadata": {},
   "outputs": [
    {
     "name": "stderr",
     "output_type": "stream",
     "text": [
      "[nltk_data] Downloading package stopwords to\n",
      "[nltk_data]     C:\\Users\\Bhavana\\AppData\\Roaming\\nltk_data...\n",
      "[nltk_data]   Package stopwords is already up-to-date!\n"
     ]
    },
    {
     "data": {
      "text/plain": [
       "True"
      ]
     },
     "execution_count": 5,
     "metadata": {},
     "output_type": "execute_result"
    }
   ],
   "source": [
    "import re\n",
    "import nltk\n",
    "import inflect\n",
    "from nltk.corpus import stopwords\n",
    "\n",
    "import nltk\n",
    "nltk.download('stopwords')"
   ]
  },
  {
   "cell_type": "code",
   "execution_count": 6,
   "id": "wrapped-uganda",
   "metadata": {},
   "outputs": [],
   "source": [
    "def tokenize(text):\n",
    "    tokens = en.tokenizer(text)\n",
    "    return [token.text.lower() for token in tokens if not token.is_space]"
   ]
  },
  {
   "cell_type": "code",
   "execution_count": 7,
   "id": "higher-latest",
   "metadata": {},
   "outputs": [
    {
     "name": "stdout",
     "output_type": "stream",
     "text": [
      "['what', 'is', 'the', 'difference', 'between', 'these', 'two', 'dataframes', '?']\n"
     ]
    }
   ],
   "source": [
    "print(tokenize(\"What is the difference between these two dataframes?\"))"
   ]
  },
  {
   "cell_type": "code",
   "execution_count": 8,
   "id": "cooked-virus",
   "metadata": {},
   "outputs": [],
   "source": [
    "def remove_punctuation(words):\n",
    "    new_words = []\n",
    "    for word in words:\n",
    "        new_word = re.sub(r'[^\\w\\s]', '', word)\n",
    "        if new_word != '':\n",
    "            new_words.append(new_word)\n",
    "    return new_words "
   ]
  },
  {
   "cell_type": "code",
   "execution_count": 9,
   "id": "advisory-honey",
   "metadata": {},
   "outputs": [
    {
     "name": "stdout",
     "output_type": "stream",
     "text": [
      "['what', 'is', 'the', 'difference', 'between', 'these', 'two', 'dataframes']\n"
     ]
    }
   ],
   "source": [
    "print(remove_punctuation(tokenize(\"What is the difference between these two dataframes?\")))"
   ]
  },
  {
   "cell_type": "code",
   "execution_count": 10,
   "id": "local-security",
   "metadata": {},
   "outputs": [],
   "source": [
    "def remove_stopwords(words):\n",
    "    new_words = []\n",
    "    for word in words:\n",
    "        if word not in stopwords.words('english'):\n",
    "            new_words.append(word)\n",
    "    return new_words"
   ]
  },
  {
   "cell_type": "code",
   "execution_count": 11,
   "id": "small-invasion",
   "metadata": {},
   "outputs": [
    {
     "name": "stdout",
     "output_type": "stream",
     "text": [
      "['difference', 'two', 'dataframes']\n"
     ]
    }
   ],
   "source": [
    "print(remove_stopwords(remove_punctuation(tokenize(\"What is the difference between these two dataframes?\"))))"
   ]
  },
  {
   "cell_type": "code",
   "execution_count": 12,
   "id": "southwest-belle",
   "metadata": {},
   "outputs": [],
   "source": [
    "def normalize(words):\n",
    "    words = remove_punctuation(words)\n",
    "    words = remove_stopwords(words)\n",
    "    return words"
   ]
  },
  {
   "cell_type": "code",
   "execution_count": 42,
   "id": "innocent-antique",
   "metadata": {},
   "outputs": [],
   "source": [
    "i = 0\n",
    "\n",
    "def process_text(text):\n",
    "    global i\n",
    "    i+=1\n",
    "    print(i)\n",
    "    return ' '.join(normalize(tokenize(text)))"
   ]
  },
  {
   "cell_type": "code",
   "execution_count": 41,
   "id": "severe-stevens",
   "metadata": {},
   "outputs": [
    {
     "name": "stdout",
     "output_type": "stream",
     "text": [
      "1\n",
      "difference two dataframes\n"
     ]
    }
   ],
   "source": [
    "print(process_text(\"What is the difference between these two dataframes?\"))"
   ]
  },
  {
   "cell_type": "markdown",
   "id": "complete-queensland",
   "metadata": {},
   "source": [
    "## Database manipulation\n",
    "<hr>\n",
    "In the current database if a question has multiple answers then for each answer it is again listed as a seperate row. To simplify, all rows belonging to the same questions are merged. During the merge answers are concatenated and all the scores are summed up."
   ]
  },
  {
   "cell_type": "code",
   "execution_count": 15,
   "id": "encouraging-assurance",
   "metadata": {},
   "outputs": [],
   "source": [
    "aggregations = {\n",
    "    'answers' : lambda x : '\\n'.join(x),\n",
    "    'score' : 'sum'\n",
    "}\n",
    "\n",
    "df_grouped = df.groupby(['id','title','body','tags'], as_index=False).agg(aggregations)\n",
    "dfm = pd.DataFrame(df_grouped)"
   ]
  },
  {
   "cell_type": "code",
   "execution_count": 16,
   "id": "pacific-float",
   "metadata": {},
   "outputs": [
    {
     "data": {
      "text/html": [
       "<div>\n",
       "<style scoped>\n",
       "    .dataframe tbody tr th:only-of-type {\n",
       "        vertical-align: middle;\n",
       "    }\n",
       "\n",
       "    .dataframe tbody tr th {\n",
       "        vertical-align: top;\n",
       "    }\n",
       "\n",
       "    .dataframe thead th {\n",
       "        text-align: right;\n",
       "    }\n",
       "</style>\n",
       "<table border=\"1\" class=\"dataframe\">\n",
       "  <thead>\n",
       "    <tr style=\"text-align: right;\">\n",
       "      <th></th>\n",
       "      <th>id</th>\n",
       "      <th>title</th>\n",
       "      <th>body</th>\n",
       "      <th>tags</th>\n",
       "      <th>answers</th>\n",
       "      <th>score</th>\n",
       "    </tr>\n",
       "  </thead>\n",
       "  <tbody>\n",
       "    <tr>\n",
       "      <th>0</th>\n",
       "      <td>21454</td>\n",
       "      <td>Specifying a mySQL ENUM in a Django model</td>\n",
       "      <td>&lt;p&gt;How do I go about specifying and using an E...</td>\n",
       "      <td>python|mysql|django|django-models|enums</td>\n",
       "      <td>&lt;p&gt;From the &lt;a href=\"https://docs.djangoprojec...</td>\n",
       "      <td>205</td>\n",
       "    </tr>\n",
       "    <tr>\n",
       "      <th>1</th>\n",
       "      <td>22059</td>\n",
       "      <td>How do content discovery engines, like Zemanta...</td>\n",
       "      <td>&lt;p&gt;I was wondering how as semantic service lik...</td>\n",
       "      <td>python|ruby|semantics|zemanta</td>\n",
       "      <td>&lt;p&gt;Michal Finkelstein from OpenCalais here.&lt;/p...</td>\n",
       "      <td>16</td>\n",
       "    </tr>\n",
       "    <tr>\n",
       "      <th>2</th>\n",
       "      <td>29856</td>\n",
       "      <td>Install Python to match directory layout in OS...</td>\n",
       "      <td>&lt;p&gt;The default Python install on OS X 10.5 is ...</td>\n",
       "      <td>python|macos|64-bit</td>\n",
       "      <td>&lt;p&gt;Hyposaurus,&lt;/p&gt;\\n\\n&lt;p&gt;It is possible to hav...</td>\n",
       "      <td>3</td>\n",
       "    </tr>\n",
       "    <tr>\n",
       "      <th>3</th>\n",
       "      <td>35569</td>\n",
       "      <td>Why does Python's iter() on a mapping return i...</td>\n",
       "      <td>&lt;p&gt;It seems like if you want to get the keys o...</td>\n",
       "      <td>python|mapping|iteration</td>\n",
       "      <td>&lt;p&gt;Check out &lt;a href=\"http://mail.python.org/p...</td>\n",
       "      <td>11</td>\n",
       "    </tr>\n",
       "    <tr>\n",
       "      <th>4</th>\n",
       "      <td>39960</td>\n",
       "      <td>Javascript equivalent of Python's locals()?</td>\n",
       "      <td>&lt;p&gt;In Python one can get a dictionary of all l...</td>\n",
       "      <td>javascript|python</td>\n",
       "      <td>&lt;p&gt;Well, I don't think that there is something...</td>\n",
       "      <td>23</td>\n",
       "    </tr>\n",
       "  </tbody>\n",
       "</table>\n",
       "</div>"
      ],
      "text/plain": [
       "      id                                              title  \\\n",
       "0  21454          Specifying a mySQL ENUM in a Django model   \n",
       "1  22059  How do content discovery engines, like Zemanta...   \n",
       "2  29856  Install Python to match directory layout in OS...   \n",
       "3  35569  Why does Python's iter() on a mapping return i...   \n",
       "4  39960        Javascript equivalent of Python's locals()?   \n",
       "\n",
       "                                                body  \\\n",
       "0  <p>How do I go about specifying and using an E...   \n",
       "1  <p>I was wondering how as semantic service lik...   \n",
       "2  <p>The default Python install on OS X 10.5 is ...   \n",
       "3  <p>It seems like if you want to get the keys o...   \n",
       "4  <p>In Python one can get a dictionary of all l...   \n",
       "\n",
       "                                      tags  \\\n",
       "0  python|mysql|django|django-models|enums   \n",
       "1            python|ruby|semantics|zemanta   \n",
       "2                      python|macos|64-bit   \n",
       "3                 python|mapping|iteration   \n",
       "4                        javascript|python   \n",
       "\n",
       "                                             answers  score  \n",
       "0  <p>From the <a href=\"https://docs.djangoprojec...    205  \n",
       "1  <p>Michal Finkelstein from OpenCalais here.</p...     16  \n",
       "2  <p>Hyposaurus,</p>\\n\\n<p>It is possible to hav...      3  \n",
       "3  <p>Check out <a href=\"http://mail.python.org/p...     11  \n",
       "4  <p>Well, I don't think that there is something...     23  "
      ]
     },
     "execution_count": 16,
     "metadata": {},
     "output_type": "execute_result"
    }
   ],
   "source": [
    "dfm.head()"
   ]
  },
  {
   "cell_type": "code",
   "execution_count": 17,
   "id": "persistent-dating",
   "metadata": {},
   "outputs": [
    {
     "data": {
      "text/plain": [
       "'(58887, 6)'"
      ]
     },
     "execution_count": 17,
     "metadata": {},
     "output_type": "execute_result"
    }
   ],
   "source": [
    "str(dfm.shape)"
   ]
  },
  {
   "cell_type": "markdown",
   "id": "sublime-nancy",
   "metadata": {},
   "source": [
    "##  Removing HTML tags and Feature engineering"
   ]
  },
  {
   "cell_type": "code",
   "execution_count": 18,
   "id": "specific-drill",
   "metadata": {},
   "outputs": [
    {
     "name": "stdout",
     "output_type": "stream",
     "text": [
      "Requirement already satisfied: bs4 in c:\\users\\bhavana\\appdata\\local\\programs\\python\\python38\\lib\\site-packages (0.0.1)\n",
      "Requirement already satisfied: textblob in c:\\users\\bhavana\\appdata\\local\\programs\\python\\python38\\lib\\site-packages (0.15.3)\n",
      "Requirement already satisfied: lxml in c:\\users\\bhavana\\appdata\\local\\programs\\python\\python38\\lib\\site-packages (4.6.2)\n",
      "Requirement already satisfied: beautifulsoup4 in c:\\users\\bhavana\\appdata\\local\\programs\\python\\python38\\lib\\site-packages (from bs4) (4.9.3)\n",
      "Requirement already satisfied: nltk>=3.1 in c:\\users\\bhavana\\appdata\\local\\programs\\python\\python38\\lib\\site-packages (from textblob) (3.5)\n",
      "Requirement already satisfied: click in c:\\users\\bhavana\\appdata\\local\\programs\\python\\python38\\lib\\site-packages (from nltk>=3.1->textblob) (7.1.2)\n",
      "Requirement already satisfied: joblib in c:\\users\\bhavana\\appdata\\local\\programs\\python\\python38\\lib\\site-packages (from nltk>=3.1->textblob) (1.0.1)\n",
      "Requirement already satisfied: regex in c:\\users\\bhavana\\appdata\\local\\programs\\python\\python38\\lib\\site-packages (from nltk>=3.1->textblob) (2020.11.13)\n",
      "Requirement already satisfied: tqdm in c:\\users\\bhavana\\appdata\\local\\programs\\python\\python38\\lib\\site-packages (from nltk>=3.1->textblob) (4.58.0)\n",
      "Requirement already satisfied: soupsieve>1.2 in c:\\users\\bhavana\\appdata\\local\\programs\\python\\python38\\lib\\site-packages (from beautifulsoup4->bs4) (2.2)\n"
     ]
    }
   ],
   "source": [
    "! pip install bs4 textblob lxml"
   ]
  },
  {
   "cell_type": "code",
   "execution_count": 19,
   "id": "corrected-carolina",
   "metadata": {},
   "outputs": [],
   "source": [
    "from bs4 import BeautifulSoup\n",
    "from textblob import TextBlob\n",
    "import lxml\n",
    "\n",
    "title_list = []\n",
    "content_list = []\n",
    "answer_list = []\n",
    "\n",
    "# sentiment analysis determines the emotion of the text\n",
    "# positive/negetive/neutral\n",
    "# sentiment function of textblob has two properties polarity and subjectivity\n",
    "\n",
    "sentiment_polarity_list = []\n",
    "sentiment_subjectivity_list = []\n",
    "\n",
    "score_list = []\n",
    "tag_list = []\n",
    "corpus_list = []\n",
    "\n",
    "for i, row in dfm.iterrows():\n",
    "    title_list.append(row.title)\n",
    "    tag_list.append(row.tags)\n",
    "    \n",
    "    content = row.body\n",
    "    \n",
    "    soup = BeautifulSoup(content, 'lxml')\n",
    "    if soup.code: soup.code.decompose()     # Remove the code section\n",
    "    tag_p = soup.p\n",
    "    tag_pre = soup.pre\n",
    "    text = ''\n",
    "    if tag_p: text = text + tag_p.get_text()\n",
    "    if tag_pre: text = text + tag_pre.get_text()\n",
    "    \n",
    "    content_list.append(row.title+' '+text)\n",
    "    \n",
    "    content = row.answers\n",
    "    \n",
    "    soup = BeautifulSoup(content, 'lxml')\n",
    "    if soup.code: soup.code.decompose()     # Remove the code section\n",
    "    tag_p = soup.p\n",
    "    tag_pre = soup.pre\n",
    "    text = ''\n",
    "    if tag_p: text = text + tag_p.get_text()\n",
    "    if tag_pre: text = text + tag_pre.get_text()\n",
    "        \n",
    "    answer_list.append(text)\n",
    "    \n",
    "    score_list.append(row.score) \n",
    "    \n",
    "    corpus_list.append(content_list[-1]+' '+answer_list[-1])\n",
    "    \n",
    "    sentiment = TextBlob(text).sentiment\n",
    "    sentiment_polarity_list.append(sentiment.polarity)\n",
    "    sentiment_subjectivity_list.append(sentiment.subjectivity)"
   ]
  },
  {
   "cell_type": "code",
   "execution_count": 20,
   "id": "disabled-admission",
   "metadata": {},
   "outputs": [],
   "source": [
    "dff = pd.DataFrame({\n",
    "    'title' : title_list,\n",
    "    'corpus' : corpus_list,\n",
    "    'content' : content_list,\n",
    "    'tags' : tag_list,\n",
    "    'score' : score_list,\n",
    "    'answers' : answer_list,\n",
    "    'polarity': sentiment_polarity_list,\n",
    "    'subjectivity':sentiment_subjectivity_list\n",
    "})"
   ]
  },
  {
   "cell_type": "code",
   "execution_count": 21,
   "id": "compatible-plane",
   "metadata": {},
   "outputs": [
    {
     "data": {
      "text/html": [
       "<div>\n",
       "<style scoped>\n",
       "    .dataframe tbody tr th:only-of-type {\n",
       "        vertical-align: middle;\n",
       "    }\n",
       "\n",
       "    .dataframe tbody tr th {\n",
       "        vertical-align: top;\n",
       "    }\n",
       "\n",
       "    .dataframe thead th {\n",
       "        text-align: right;\n",
       "    }\n",
       "</style>\n",
       "<table border=\"1\" class=\"dataframe\">\n",
       "  <thead>\n",
       "    <tr style=\"text-align: right;\">\n",
       "      <th></th>\n",
       "      <th>title</th>\n",
       "      <th>corpus</th>\n",
       "      <th>content</th>\n",
       "      <th>tags</th>\n",
       "      <th>score</th>\n",
       "      <th>answers</th>\n",
       "      <th>polarity</th>\n",
       "      <th>subjectivity</th>\n",
       "    </tr>\n",
       "  </thead>\n",
       "  <tbody>\n",
       "    <tr>\n",
       "      <th>0</th>\n",
       "      <td>Specifying a mySQL ENUM in a Django model</td>\n",
       "      <td>Specifying a mySQL ENUM in a Django model How ...</td>\n",
       "      <td>Specifying a mySQL ENUM in a Django model How ...</td>\n",
       "      <td>python|mysql|django|django-models|enums</td>\n",
       "      <td>205</td>\n",
       "      <td>From the Django documentation:</td>\n",
       "      <td>0.000000</td>\n",
       "      <td>0.000000</td>\n",
       "    </tr>\n",
       "    <tr>\n",
       "      <th>1</th>\n",
       "      <td>How do content discovery engines, like Zemanta...</td>\n",
       "      <td>How do content discovery engines, like Zemanta...</td>\n",
       "      <td>How do content discovery engines, like Zemanta...</td>\n",
       "      <td>python|ruby|semantics|zemanta</td>\n",
       "      <td>16</td>\n",
       "      <td>Michal Finkelstein from OpenCalais here.</td>\n",
       "      <td>0.000000</td>\n",
       "      <td>0.000000</td>\n",
       "    </tr>\n",
       "    <tr>\n",
       "      <th>2</th>\n",
       "      <td>Install Python to match directory layout in OS...</td>\n",
       "      <td>Install Python to match directory layout in OS...</td>\n",
       "      <td>Install Python to match directory layout in OS...</td>\n",
       "      <td>python|macos|64-bit</td>\n",
       "      <td>3</td>\n",
       "      <td>Hyposaurus,</td>\n",
       "      <td>0.000000</td>\n",
       "      <td>0.000000</td>\n",
       "    </tr>\n",
       "    <tr>\n",
       "      <th>3</th>\n",
       "      <td>Why does Python's iter() on a mapping return i...</td>\n",
       "      <td>Why does Python's iter() on a mapping return i...</td>\n",
       "      <td>Why does Python's iter() on a mapping return i...</td>\n",
       "      <td>python|mapping|iteration</td>\n",
       "      <td>11</td>\n",
       "      <td>Check out this thread for a discussion on the ...</td>\n",
       "      <td>-0.200000</td>\n",
       "      <td>0.850000</td>\n",
       "    </tr>\n",
       "    <tr>\n",
       "      <th>4</th>\n",
       "      <td>Javascript equivalent of Python's locals()?</td>\n",
       "      <td>Javascript equivalent of Python's locals()? In...</td>\n",
       "      <td>Javascript equivalent of Python's locals()? In...</td>\n",
       "      <td>javascript|python</td>\n",
       "      <td>23</td>\n",
       "      <td>Well, I don't think that there is something li...</td>\n",
       "      <td>0.000000</td>\n",
       "      <td>0.000000</td>\n",
       "    </tr>\n",
       "    <tr>\n",
       "      <th>5</th>\n",
       "      <td>cx_Oracle: how do I get the ORA-xxxxx error nu...</td>\n",
       "      <td>cx_Oracle: how do I get the ORA-xxxxx error nu...</td>\n",
       "      <td>cx_Oracle: how do I get the ORA-xxxxx error nu...</td>\n",
       "      <td>python|oracle|cx-oracle</td>\n",
       "      <td>10</td>\n",
       "      <td>This results in the following output:</td>\n",
       "      <td>0.000000</td>\n",
       "      <td>0.100000</td>\n",
       "    </tr>\n",
       "    <tr>\n",
       "      <th>6</th>\n",
       "      <td>Open source alternative to MATLAB's fmincon fu...</td>\n",
       "      <td>Open source alternative to MATLAB's fmincon fu...</td>\n",
       "      <td>Open source alternative to MATLAB's fmincon fu...</td>\n",
       "      <td>python|matlab|numpy|numerical|scientific-compu...</td>\n",
       "      <td>73</td>\n",
       "      <td>For numerical optimization in Python you may t...</td>\n",
       "      <td>0.375000</td>\n",
       "      <td>0.750000</td>\n",
       "    </tr>\n",
       "    <tr>\n",
       "      <th>7</th>\n",
       "      <td>What's the best Django search app?</td>\n",
       "      <td>What's the best Django search app? I'm buildin...</td>\n",
       "      <td>What's the best Django search app? I'm buildin...</td>\n",
       "      <td>python|django|search|search-engine</td>\n",
       "      <td>179</td>\n",
       "      <td>I found Djoosh which relies on the pure-python...</td>\n",
       "      <td>0.000000</td>\n",
       "      <td>0.100000</td>\n",
       "    </tr>\n",
       "    <tr>\n",
       "      <th>8</th>\n",
       "      <td>What's a good way to find relative paths in Go...</td>\n",
       "      <td>What's a good way to find relative paths in Go...</td>\n",
       "      <td>What's a good way to find relative paths in Go...</td>\n",
       "      <td>python|google-app-engine</td>\n",
       "      <td>5</td>\n",
       "      <td>The  function returns an absolute path, use re...</td>\n",
       "      <td>0.050000</td>\n",
       "      <td>0.325000</td>\n",
       "    </tr>\n",
       "    <tr>\n",
       "      <th>9</th>\n",
       "      <td>Testing GUI code: should I use a mocking library?</td>\n",
       "      <td>Testing GUI code: should I use a mocking libra...</td>\n",
       "      <td>Testing GUI code: should I use a mocking libra...</td>\n",
       "      <td>python|unit-testing|user-interface|tdd</td>\n",
       "      <td>3</td>\n",
       "      <td>Please remember that TDD is not a panaceum. It...</td>\n",
       "      <td>-0.388889</td>\n",
       "      <td>0.694444</td>\n",
       "    </tr>\n",
       "  </tbody>\n",
       "</table>\n",
       "</div>"
      ],
      "text/plain": [
       "                                               title  \\\n",
       "0          Specifying a mySQL ENUM in a Django model   \n",
       "1  How do content discovery engines, like Zemanta...   \n",
       "2  Install Python to match directory layout in OS...   \n",
       "3  Why does Python's iter() on a mapping return i...   \n",
       "4        Javascript equivalent of Python's locals()?   \n",
       "5  cx_Oracle: how do I get the ORA-xxxxx error nu...   \n",
       "6  Open source alternative to MATLAB's fmincon fu...   \n",
       "7                 What's the best Django search app?   \n",
       "8  What's a good way to find relative paths in Go...   \n",
       "9  Testing GUI code: should I use a mocking library?   \n",
       "\n",
       "                                              corpus  \\\n",
       "0  Specifying a mySQL ENUM in a Django model How ...   \n",
       "1  How do content discovery engines, like Zemanta...   \n",
       "2  Install Python to match directory layout in OS...   \n",
       "3  Why does Python's iter() on a mapping return i...   \n",
       "4  Javascript equivalent of Python's locals()? In...   \n",
       "5  cx_Oracle: how do I get the ORA-xxxxx error nu...   \n",
       "6  Open source alternative to MATLAB's fmincon fu...   \n",
       "7  What's the best Django search app? I'm buildin...   \n",
       "8  What's a good way to find relative paths in Go...   \n",
       "9  Testing GUI code: should I use a mocking libra...   \n",
       "\n",
       "                                             content  \\\n",
       "0  Specifying a mySQL ENUM in a Django model How ...   \n",
       "1  How do content discovery engines, like Zemanta...   \n",
       "2  Install Python to match directory layout in OS...   \n",
       "3  Why does Python's iter() on a mapping return i...   \n",
       "4  Javascript equivalent of Python's locals()? In...   \n",
       "5  cx_Oracle: how do I get the ORA-xxxxx error nu...   \n",
       "6  Open source alternative to MATLAB's fmincon fu...   \n",
       "7  What's the best Django search app? I'm buildin...   \n",
       "8  What's a good way to find relative paths in Go...   \n",
       "9  Testing GUI code: should I use a mocking libra...   \n",
       "\n",
       "                                                tags  score  \\\n",
       "0            python|mysql|django|django-models|enums    205   \n",
       "1                      python|ruby|semantics|zemanta     16   \n",
       "2                                python|macos|64-bit      3   \n",
       "3                           python|mapping|iteration     11   \n",
       "4                                  javascript|python     23   \n",
       "5                            python|oracle|cx-oracle     10   \n",
       "6  python|matlab|numpy|numerical|scientific-compu...     73   \n",
       "7                 python|django|search|search-engine    179   \n",
       "8                           python|google-app-engine      5   \n",
       "9             python|unit-testing|user-interface|tdd      3   \n",
       "\n",
       "                                             answers  polarity  subjectivity  \n",
       "0                     From the Django documentation:  0.000000      0.000000  \n",
       "1           Michal Finkelstein from OpenCalais here.  0.000000      0.000000  \n",
       "2                                        Hyposaurus,  0.000000      0.000000  \n",
       "3  Check out this thread for a discussion on the ... -0.200000      0.850000  \n",
       "4  Well, I don't think that there is something li...  0.000000      0.000000  \n",
       "5              This results in the following output:  0.000000      0.100000  \n",
       "6  For numerical optimization in Python you may t...  0.375000      0.750000  \n",
       "7  I found Djoosh which relies on the pure-python...  0.000000      0.100000  \n",
       "8  The  function returns an absolute path, use re...  0.050000      0.325000  \n",
       "9  Please remember that TDD is not a panaceum. It... -0.388889      0.694444  "
      ]
     },
     "execution_count": 21,
     "metadata": {},
     "output_type": "execute_result"
    }
   ],
   "source": [
    "dff.head(10)"
   ]
  },
  {
   "cell_type": "markdown",
   "id": "false-resort",
   "metadata": {},
   "source": [
    "##  Data normalization"
   ]
  },
  {
   "cell_type": "code",
   "execution_count": null,
   "id": "fluid-rainbow",
   "metadata": {
    "scrolled": false
   },
   "outputs": [
    {
     "name": "stdout",
     "output_type": "stream",
     "text": [
      "Collecting swifter\n",
      "  Downloading swifter-1.0.7.tar.gz (633 kB)\n",
      "Requirement already satisfied: pandas>=1.0.0 in c:\\users\\bhavana\\appdata\\local\\programs\\python\\python38\\lib\\site-packages (from swifter) (1.2.2)\n",
      "Collecting psutil>=5.6.6\n",
      "  Downloading psutil-5.8.0-cp38-cp38-win_amd64.whl (245 kB)\n",
      "Collecting dask[dataframe]>=2.10.0\n",
      "  Downloading dask-2021.3.0-py3-none-any.whl (925 kB)\n",
      "Requirement already satisfied: tqdm>=4.33.0 in c:\\users\\bhavana\\appdata\\local\\programs\\python\\python38\\lib\\site-packages (from swifter) (4.58.0)\n",
      "Collecting ipywidgets>=7.0.0cloudpickle>=0.2.2\n",
      "  Downloading ipywidgets-8.0.0a4-py3-none-any.whl (125 kB)\n",
      "Requirement already satisfied: parso>0.4.0 in c:\\users\\bhavana\\appdata\\local\\programs\\python\\python38\\lib\\site-packages (from swifter) (0.8.1)\n",
      "Requirement already satisfied: bleach>=3.1.1 in c:\\users\\bhavana\\appdata\\local\\programs\\python\\python38\\lib\\site-packages (from swifter) (3.3.0)\n",
      "Collecting modin[ray]>=0.8.1.1\n",
      "  Downloading modin-0.9.1-py3-none-win_amd64.whl (579 kB)\n",
      "Requirement already satisfied: webencodings in c:\\users\\bhavana\\appdata\\local\\programs\\python\\python38\\lib\\site-packages (from bleach>=3.1.1->swifter) (0.5.1)\n",
      "Requirement already satisfied: packaging in c:\\users\\bhavana\\appdata\\local\\programs\\python\\python38\\lib\\site-packages (from bleach>=3.1.1->swifter) (20.9)\n",
      "Requirement already satisfied: six>=1.9.0 in c:\\users\\bhavana\\appdata\\local\\programs\\python\\python38\\lib\\site-packages (from bleach>=3.1.1->swifter) (1.15.0)\n",
      "Requirement already satisfied: pyyaml in c:\\users\\bhavana\\appdata\\local\\programs\\python\\python38\\lib\\site-packages (from dask[dataframe]>=2.10.0->swifter) (5.4.1)\n",
      "Requirement already satisfied: numpy>=1.15.1 in c:\\users\\bhavana\\appdata\\local\\programs\\python\\python38\\lib\\site-packages (from dask[dataframe]>=2.10.0->swifter) (1.20.1)\n",
      "Collecting fsspec>=0.6.0\n",
      "  Downloading fsspec-0.8.7-py3-none-any.whl (103 kB)\n",
      "Collecting toolz>=0.8.2\n",
      "  Downloading toolz-0.11.1-py3-none-any.whl (55 kB)\n",
      "Collecting partd>=0.3.10\n",
      "  Downloading partd-1.1.0-py3-none-any.whl (19 kB)\n",
      "Collecting widgetsnbextension~=4.0a0\n",
      "  Downloading widgetsnbextension-4.0.0a2-py3-none-any.whl (1.6 MB)\n",
      "Requirement already satisfied: ipython>=6.1.0 in c:\\users\\bhavana\\appdata\\local\\programs\\python\\python38\\lib\\site-packages (from ipywidgets>=7.0.0cloudpickle>=0.2.2->swifter) (7.21.0)\n",
      "Requirement already satisfied: nbformat>=4.2.0 in c:\\users\\bhavana\\appdata\\local\\programs\\python\\python38\\lib\\site-packages (from ipywidgets>=7.0.0cloudpickle>=0.2.2->swifter) (5.1.2)\n",
      "Requirement already satisfied: ipykernel>=4.5.1 in c:\\users\\bhavana\\appdata\\local\\programs\\python\\python38\\lib\\site-packages (from ipywidgets>=7.0.0cloudpickle>=0.2.2->swifter) (5.5.0)\n",
      "Requirement already satisfied: traitlets>=4.3.1 in c:\\users\\bhavana\\appdata\\local\\programs\\python\\python38\\lib\\site-packages (from ipywidgets>=7.0.0cloudpickle>=0.2.2->swifter) (5.0.5)\n",
      "Collecting jupyterlab-widgets~=2.0a0\n",
      "  Downloading jupyterlab_widgets-2.0.0a1-py3-none-any.whl (259 kB)\n",
      "Requirement already satisfied: jupyter-client in c:\\users\\bhavana\\appdata\\local\\programs\\python\\python38\\lib\\site-packages (from ipykernel>=4.5.1->ipywidgets>=7.0.0cloudpickle>=0.2.2->swifter) (6.1.11)\n",
      "Requirement already satisfied: tornado>=4.2 in c:\\users\\bhavana\\appdata\\local\\programs\\python\\python38\\lib\\site-packages (from ipykernel>=4.5.1->ipywidgets>=7.0.0cloudpickle>=0.2.2->swifter) (6.1)\n",
      "Requirement already satisfied: prompt-toolkit!=3.0.0,!=3.0.1,<3.1.0,>=2.0.0 in c:\\users\\bhavana\\appdata\\local\\programs\\python\\python38\\lib\\site-packages (from ipython>=6.1.0->ipywidgets>=7.0.0cloudpickle>=0.2.2->swifter) (3.0.16)\n",
      "Requirement already satisfied: colorama in c:\\users\\bhavana\\appdata\\local\\programs\\python\\python38\\lib\\site-packages (from ipython>=6.1.0->ipywidgets>=7.0.0cloudpickle>=0.2.2->swifter) (0.4.4)\n",
      "Requirement already satisfied: setuptools>=18.5 in c:\\users\\bhavana\\appdata\\local\\programs\\python\\python38\\lib\\site-packages (from ipython>=6.1.0->ipywidgets>=7.0.0cloudpickle>=0.2.2->swifter) (47.1.0)\n",
      "Requirement already satisfied: jedi>=0.16 in c:\\users\\bhavana\\appdata\\local\\programs\\python\\python38\\lib\\site-packages (from ipython>=6.1.0->ipywidgets>=7.0.0cloudpickle>=0.2.2->swifter) (0.18.0)\n",
      "Requirement already satisfied: pickleshare in c:\\users\\bhavana\\appdata\\local\\programs\\python\\python38\\lib\\site-packages (from ipython>=6.1.0->ipywidgets>=7.0.0cloudpickle>=0.2.2->swifter) (0.7.5)\n",
      "Requirement already satisfied: pygments in c:\\users\\bhavana\\appdata\\local\\programs\\python\\python38\\lib\\site-packages (from ipython>=6.1.0->ipywidgets>=7.0.0cloudpickle>=0.2.2->swifter) (2.8.0)\n",
      "Requirement already satisfied: decorator in c:\\users\\bhavana\\appdata\\local\\programs\\python\\python38\\lib\\site-packages (from ipython>=6.1.0->ipywidgets>=7.0.0cloudpickle>=0.2.2->swifter) (4.4.2)\n",
      "Requirement already satisfied: backcall in c:\\users\\bhavana\\appdata\\local\\programs\\python\\python38\\lib\\site-packages (from ipython>=6.1.0->ipywidgets>=7.0.0cloudpickle>=0.2.2->swifter) (0.2.0)\n",
      "Collecting pandas>=1.0.0\n",
      "  Downloading pandas-1.2.3-cp38-cp38-win_amd64.whl (9.3 MB)\n",
      "Collecting numpy>=1.15.1\n",
      "  Downloading numpy-1.19.5-cp38-cp38-win_amd64.whl (13.3 MB)\n",
      "Collecting pyarrow==1.0\n",
      "  Downloading pyarrow-1.0.0-cp38-cp38-win_amd64.whl (10.5 MB)\n",
      "Collecting ray<1.2.0,>=1.0.0\n",
      "  Downloading ray-1.1.0-cp38-cp38-win_amd64.whl (15.3 MB)\n",
      "Requirement already satisfied: pytz>=2017.3 in c:\\users\\bhavana\\appdata\\local\\programs\\python\\python38\\lib\\site-packages (from pandas>=1.0.0->swifter) (2021.1)\n",
      "Requirement already satisfied: python-dateutil>=2.7.3 in c:\\users\\bhavana\\appdata\\local\\programs\\python\\python38\\lib\\site-packages (from pandas>=1.0.0->swifter) (2.8.1)\n",
      "Requirement already satisfied: ipython-genutils in c:\\users\\bhavana\\appdata\\local\\programs\\python\\python38\\lib\\site-packages (from nbformat>=4.2.0->ipywidgets>=7.0.0cloudpickle>=0.2.2->swifter) (0.2.0)\n",
      "Requirement already satisfied: jsonschema!=2.5.0,>=2.4 in c:\\users\\bhavana\\appdata\\local\\programs\\python\\python38\\lib\\site-packages (from nbformat>=4.2.0->ipywidgets>=7.0.0cloudpickle>=0.2.2->swifter) (3.2.0)\n",
      "Requirement already satisfied: jupyter-core in c:\\users\\bhavana\\appdata\\local\\programs\\python\\python38\\lib\\site-packages (from nbformat>=4.2.0->ipywidgets>=7.0.0cloudpickle>=0.2.2->swifter) (4.7.1)\n",
      "Requirement already satisfied: pyrsistent>=0.14.0 in c:\\users\\bhavana\\appdata\\local\\programs\\python\\python38\\lib\\site-packages (from jsonschema!=2.5.0,>=2.4->nbformat>=4.2.0->ipywidgets>=7.0.0cloudpickle>=0.2.2->swifter) (0.17.3)\n",
      "Requirement already satisfied: attrs>=17.4.0 in c:\\users\\bhavana\\appdata\\local\\programs\\python\\python38\\lib\\site-packages (from jsonschema!=2.5.0,>=2.4->nbformat>=4.2.0->ipywidgets>=7.0.0cloudpickle>=0.2.2->swifter) (20.3.0)\n",
      "Collecting locket\n",
      "  Downloading locket-0.2.1-py2.py3-none-any.whl (4.1 kB)\n",
      "Requirement already satisfied: wcwidth in c:\\users\\bhavana\\appdata\\local\\programs\\python\\python38\\lib\\site-packages (from prompt-toolkit!=3.0.0,!=3.0.1,<3.1.0,>=2.0.0->ipython>=6.1.0->ipywidgets>=7.0.0cloudpickle>=0.2.2->swifter) (0.2.5)\n",
      "Collecting gpustat\n",
      "  Downloading gpustat-0.6.0.tar.gz (78 kB)\n",
      "Collecting aiohttp-cors\n",
      "  Downloading aiohttp_cors-0.7.0-py3-none-any.whl (27 kB)\n",
      "Collecting colorful\n",
      "  Downloading colorful-0.5.4-py2.py3-none-any.whl (201 kB)\n",
      "Collecting filelock\n",
      "  Downloading filelock-3.0.12-py3-none-any.whl (7.6 kB)\n",
      "Collecting opencensus\n",
      "  Downloading opencensus-0.7.12-py2.py3-none-any.whl (127 kB)\n",
      "Collecting aioredis\n",
      "  Downloading aioredis-1.3.1-py3-none-any.whl (65 kB)\n",
      "Collecting redis>=3.5.0\n",
      "  Downloading redis-3.5.3-py2.py3-none-any.whl (72 kB)\n",
      "Requirement already satisfied: requests in c:\\users\\bhavana\\appdata\\local\\programs\\python\\python38\\lib\\site-packages (from ray<1.2.0,>=1.0.0->modin[ray]>=0.8.1.1->swifter) (2.25.1)\n",
      "Requirement already satisfied: prometheus-client>=0.7.1 in c:\\users\\bhavana\\appdata\\local\\programs\\python\\python38\\lib\\site-packages (from ray<1.2.0,>=1.0.0->modin[ray]>=0.8.1.1->swifter) (0.9.0)\n",
      "Collecting py-spy>=0.2.0\n",
      "  Downloading py_spy-0.3.4-py2.py3-none-win_amd64.whl (1.4 MB)\n",
      "Collecting msgpack<2.0.0,>=1.0.0\n",
      "  Downloading msgpack-1.0.2-cp38-cp38-win_amd64.whl (69 kB)\n",
      "Collecting aiohttp\n",
      "  Downloading aiohttp-3.7.4.post0-cp38-cp38-win_amd64.whl (635 kB)\n",
      "Requirement already satisfied: grpcio>=1.28.1 in c:\\users\\bhavana\\appdata\\local\\programs\\python\\python38\\lib\\site-packages (from ray<1.2.0,>=1.0.0->modin[ray]>=0.8.1.1->swifter) (1.36.0)\n",
      "Requirement already satisfied: protobuf>=3.8.0 in c:\\users\\bhavana\\appdata\\local\\programs\\python\\python38\\lib\\site-packages (from ray<1.2.0,>=1.0.0->modin[ray]>=0.8.1.1->swifter) (3.15.3)\n",
      "Requirement already satisfied: click>=7.0 in c:\\users\\bhavana\\appdata\\local\\programs\\python\\python38\\lib\\site-packages (from ray<1.2.0,>=1.0.0->modin[ray]>=0.8.1.1->swifter) (7.1.2)\n",
      "Collecting async-timeout<4.0,>=3.0\n",
      "  Downloading async_timeout-3.0.1-py3-none-any.whl (8.2 kB)\n",
      "Requirement already satisfied: chardet<5.0,>=2.0 in c:\\users\\bhavana\\appdata\\local\\programs\\python\\python38\\lib\\site-packages (from aiohttp->ray<1.2.0,>=1.0.0->modin[ray]>=0.8.1.1->swifter) (4.0.0)\n",
      "Collecting yarl<2.0,>=1.0\n",
      "  Downloading yarl-1.6.3-cp38-cp38-win_amd64.whl (125 kB)\n",
      "Collecting multidict<7.0,>=4.5\n",
      "  Downloading multidict-5.1.0-cp38-cp38-win_amd64.whl (48 kB)\n",
      "Requirement already satisfied: typing-extensions>=3.6.5 in c:\\users\\bhavana\\appdata\\local\\programs\\python\\python38\\lib\\site-packages (from aiohttp->ray<1.2.0,>=1.0.0->modin[ray]>=0.8.1.1->swifter) (3.7.4.3)\n",
      "Requirement already satisfied: idna>=2.0 in c:\\users\\bhavana\\appdata\\local\\programs\\python\\python38\\lib\\site-packages (from yarl<2.0,>=1.0->aiohttp->ray<1.2.0,>=1.0.0->modin[ray]>=0.8.1.1->swifter) (2.10)\n",
      "Collecting hiredis\n",
      "  Downloading hiredis-1.1.0-cp38-cp38-win_amd64.whl (15 kB)\n",
      "Collecting nvidia-ml-py3>=7.352.0\n",
      "  Downloading nvidia-ml-py3-7.352.0.tar.gz (19 kB)\n",
      "Collecting blessings>=1.6\n",
      "  Downloading blessings-1.7-py3-none-any.whl (18 kB)\n",
      "Requirement already satisfied: pyzmq>=13 in c:\\users\\bhavana\\appdata\\local\\programs\\python\\python38\\lib\\site-packages (from jupyter-client->ipykernel>=4.5.1->ipywidgets>=7.0.0cloudpickle>=0.2.2->swifter) (22.0.3)\n",
      "Requirement already satisfied: pywin32>=1.0 in c:\\users\\bhavana\\appdata\\local\\programs\\python\\python38\\lib\\site-packages (from jupyter-core->nbformat>=4.2.0->ipywidgets>=7.0.0cloudpickle>=0.2.2->swifter) (300)\n",
      "Requirement already satisfied: google-api-core<2.0.0,>=1.0.0 in c:\\users\\bhavana\\appdata\\local\\programs\\python\\python38\\lib\\site-packages (from opencensus->ray<1.2.0,>=1.0.0->modin[ray]>=0.8.1.1->swifter) (1.26.0)\n",
      "Collecting opencensus-context==0.1.2\n",
      "  Downloading opencensus_context-0.1.2-py2.py3-none-any.whl (4.4 kB)\n",
      "Requirement already satisfied: google-auth<2.0dev,>=1.21.1 in c:\\users\\bhavana\\appdata\\local\\programs\\python\\python38\\lib\\site-packages (from google-api-core<2.0.0,>=1.0.0->opencensus->ray<1.2.0,>=1.0.0->modin[ray]>=0.8.1.1->swifter) (1.27.0)\n",
      "Requirement already satisfied: googleapis-common-protos<2.0dev,>=1.6.0 in c:\\users\\bhavana\\appdata\\local\\programs\\python\\python38\\lib\\site-packages (from google-api-core<2.0.0,>=1.0.0->opencensus->ray<1.2.0,>=1.0.0->modin[ray]>=0.8.1.1->swifter) (1.53.0)\n",
      "Requirement already satisfied: cachetools<5.0,>=2.0.0 in c:\\users\\bhavana\\appdata\\local\\programs\\python\\python38\\lib\\site-packages (from google-auth<2.0dev,>=1.21.1->google-api-core<2.0.0,>=1.0.0->opencensus->ray<1.2.0,>=1.0.0->modin[ray]>=0.8.1.1->swifter) (4.2.1)\n",
      "Requirement already satisfied: rsa<5,>=3.1.4 in c:\\users\\bhavana\\appdata\\local\\programs\\python\\python38\\lib\\site-packages (from google-auth<2.0dev,>=1.21.1->google-api-core<2.0.0,>=1.0.0->opencensus->ray<1.2.0,>=1.0.0->modin[ray]>=0.8.1.1->swifter) (4.7.2)\n",
      "Requirement already satisfied: pyasn1-modules>=0.2.1 in c:\\users\\bhavana\\appdata\\local\\programs\\python\\python38\\lib\\site-packages (from google-auth<2.0dev,>=1.21.1->google-api-core<2.0.0,>=1.0.0->opencensus->ray<1.2.0,>=1.0.0->modin[ray]>=0.8.1.1->swifter) (0.2.8)\n",
      "Requirement already satisfied: pyparsing>=2.0.2 in c:\\users\\bhavana\\appdata\\local\\programs\\python\\python38\\lib\\site-packages (from packaging->bleach>=3.1.1->swifter) (2.4.7)\n",
      "Requirement already satisfied: pyasn1<0.5.0,>=0.4.6 in c:\\users\\bhavana\\appdata\\local\\programs\\python\\python38\\lib\\site-packages (from pyasn1-modules>=0.2.1->google-auth<2.0dev,>=1.21.1->google-api-core<2.0.0,>=1.0.0->opencensus->ray<1.2.0,>=1.0.0->modin[ray]>=0.8.1.1->swifter) (0.4.8)\n",
      "Requirement already satisfied: urllib3<1.27,>=1.21.1 in c:\\users\\bhavana\\appdata\\local\\programs\\python\\python38\\lib\\site-packages (from requests->ray<1.2.0,>=1.0.0->modin[ray]>=0.8.1.1->swifter) (1.26.3)\n",
      "Requirement already satisfied: certifi>=2017.4.17 in c:\\users\\bhavana\\appdata\\local\\programs\\python\\python38\\lib\\site-packages (from requests->ray<1.2.0,>=1.0.0->modin[ray]>=0.8.1.1->swifter) (2020.12.5)\n",
      "Using legacy 'setup.py install' for swifter, since package 'wheel' is not installed.\n",
      "Using legacy 'setup.py install' for gpustat, since package 'wheel' is not installed.\n",
      "Using legacy 'setup.py install' for nvidia-ml-py3, since package 'wheel' is not installed.\n",
      "Installing collected packages: multidict, yarl, async-timeout, psutil, opencensus-context, nvidia-ml-py3, numpy, hiredis, blessings, aiohttp, toolz, redis, py-spy, pandas, opencensus, msgpack, locket, gpustat, filelock, colorful, aioredis, aiohttp-cors, widgetsnbextension, ray, pyarrow, partd, modin, jupyterlab-widgets, fsspec, dask, ipywidgets, swifter\n",
      "    Running setup.py install for nvidia-ml-py3: started\n",
      "    Running setup.py install for nvidia-ml-py3: finished with status 'done'\n",
      "  Attempting uninstall: numpy\n",
      "    Found existing installation: numpy 1.20.1\n",
      "    Uninstalling numpy-1.20.1:\n",
      "      Successfully uninstalled numpy-1.20.1\n"
     ]
    },
    {
     "name": "stderr",
     "output_type": "stream",
     "text": [
      "ERROR: Could not install packages due to an OSError: [WinError 5] Access is denied: 'C:\\\\Users\\\\Bhavana\\\\AppData\\\\Local\\\\Programs\\\\Python\\\\Python38\\\\Lib\\\\site-packages\\\\~umpy\\\\.libs\\\\libopenblas.JPIJNSWNNAN3CE6LLI5FWSPHUT2VXMTH.gfortran-win_amd64.dll'\n",
      "Consider using the `--user` option or check the permissions.\n",
      "\n"
     ]
    }
   ],
   "source": [
    "! pip install swifter"
   ]
  },
  {
   "cell_type": "code",
   "execution_count": null,
   "id": "legitimate-handle",
   "metadata": {
    "scrolled": true
   },
   "outputs": [],
   "source": [
    "import spacy\n",
    "import swifter\n",
    "en = spacy.load('en_core_web_sm')\n",
    "\n",
    "dff.content = dff.content.swifter.apply(lambda x: process_text(x))\n",
    "#dff.corpus = dff.corpus.apply(lambda x: process_text(x))\n",
    "#dff['processed_title'] = dff.title.apply(lambda x: process_text(x))\n",
    "\n",
    "dff.score = (dff.score-dff.score.mean())/(dff.score.max()-dff.score.min())\n",
    "\n",
    "dff.drop(['answers'], axis=1)\n",
    "dff.drop(['content'], axis = 1)\n",
    "dff.drop(['tags'], axis=1)"
   ]
  },
  {
   "cell_type": "code",
   "execution_count": null,
   "id": "affecting-industry",
   "metadata": {},
   "outputs": [],
   "source": [
    "dff.to_csv('data/processed_data_model1.csv', index=False)"
   ]
  },
  {
   "cell_type": "code",
   "execution_count": null,
   "id": "quiet-toronto",
   "metadata": {},
   "outputs": [],
   "source": []
  }
 ],
 "metadata": {
  "kernelspec": {
   "display_name": "Python 3",
   "language": "python",
   "name": "python3"
  },
  "language_info": {
   "codemirror_mode": {
    "name": "ipython",
    "version": 3
   },
   "file_extension": ".py",
   "mimetype": "text/x-python",
   "name": "python",
   "nbconvert_exporter": "python",
   "pygments_lexer": "ipython3",
   "version": "3.8.5"
  }
 },
 "nbformat": 4,
 "nbformat_minor": 5
}
