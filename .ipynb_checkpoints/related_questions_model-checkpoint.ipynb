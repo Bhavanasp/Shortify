{
 "cells": [
  {
   "cell_type": "markdown",
   "id": "successful-agriculture",
   "metadata": {},
   "source": [
    "## Load data for training word embeddings\n",
    "<hr>"
   ]
  },
  {
   "cell_type": "code",
   "execution_count": 1,
   "id": "understanding-backing",
   "metadata": {},
   "outputs": [],
   "source": [
    "import os\n",
    "import pandas as pd\n",
    "import numpy as np"
   ]
  },
  {
   "cell_type": "code",
   "execution_count": 2,
   "id": "short-elevation",
   "metadata": {
    "scrolled": true
   },
   "outputs": [
    {
     "name": "stdout",
     "output_type": "stream",
     "text": [
      "(58887, 9)\n"
     ]
    },
    {
     "data": {
      "text/html": [
       "<div>\n",
       "<style scoped>\n",
       "    .dataframe tbody tr th:only-of-type {\n",
       "        vertical-align: middle;\n",
       "    }\n",
       "\n",
       "    .dataframe tbody tr th {\n",
       "        vertical-align: top;\n",
       "    }\n",
       "\n",
       "    .dataframe thead th {\n",
       "        text-align: right;\n",
       "    }\n",
       "</style>\n",
       "<table border=\"1\" class=\"dataframe\">\n",
       "  <thead>\n",
       "    <tr style=\"text-align: right;\">\n",
       "      <th></th>\n",
       "      <th>title</th>\n",
       "      <th>corpus</th>\n",
       "      <th>content</th>\n",
       "      <th>tags</th>\n",
       "      <th>score</th>\n",
       "      <th>answers</th>\n",
       "      <th>polarity</th>\n",
       "      <th>subjectivity</th>\n",
       "      <th>processed_title</th>\n",
       "    </tr>\n",
       "  </thead>\n",
       "  <tbody>\n",
       "    <tr>\n",
       "      <th>0</th>\n",
       "      <td>Specifying a mySQL ENUM in a Django model</td>\n",
       "      <td>specifying mysql enum django model go specifyi...</td>\n",
       "      <td>specifying mysql enum django model go specifyi...</td>\n",
       "      <td>python|mysql|django|django-models|enums</td>\n",
       "      <td>0.044573</td>\n",
       "      <td>From the Django documentation:</td>\n",
       "      <td>0.0</td>\n",
       "      <td>0.00</td>\n",
       "      <td>specifying mysql enum django model</td>\n",
       "    </tr>\n",
       "    <tr>\n",
       "      <th>1</th>\n",
       "      <td>How do content discovery engines, like Zemanta...</td>\n",
       "      <td>content discovery engines like zemanta open ca...</td>\n",
       "      <td>content discovery engines like zemanta open ca...</td>\n",
       "      <td>python|ruby|semantics|zemanta</td>\n",
       "      <td>0.002254</td>\n",
       "      <td>Michal Finkelstein from OpenCalais here.</td>\n",
       "      <td>0.0</td>\n",
       "      <td>0.00</td>\n",
       "      <td>content discovery engines like zemanta open ca...</td>\n",
       "    </tr>\n",
       "    <tr>\n",
       "      <th>2</th>\n",
       "      <td>Install Python to match directory layout in OS...</td>\n",
       "      <td>install python match directory layout os x 105...</td>\n",
       "      <td>install python match directory layout os x 105...</td>\n",
       "      <td>python|macos|64-bit</td>\n",
       "      <td>-0.000657</td>\n",
       "      <td>Hyposaurus,</td>\n",
       "      <td>0.0</td>\n",
       "      <td>0.00</td>\n",
       "      <td>install python match directory layout os x 105</td>\n",
       "    </tr>\n",
       "    <tr>\n",
       "      <th>3</th>\n",
       "      <td>Why does Python's iter() on a mapping return i...</td>\n",
       "      <td>python iter mapping return iterkeys instead it...</td>\n",
       "      <td>python iter mapping return iterkeys instead it...</td>\n",
       "      <td>python|mapping|iteration</td>\n",
       "      <td>0.001134</td>\n",
       "      <td>Check out this thread for a discussion on the ...</td>\n",
       "      <td>-0.2</td>\n",
       "      <td>0.85</td>\n",
       "      <td>python iter mapping return iterkeys instead it...</td>\n",
       "    </tr>\n",
       "    <tr>\n",
       "      <th>4</th>\n",
       "      <td>Javascript equivalent of Python's locals()?</td>\n",
       "      <td>javascript equivalent python locals python one...</td>\n",
       "      <td>javascript equivalent python locals python one...</td>\n",
       "      <td>javascript|python</td>\n",
       "      <td>0.003821</td>\n",
       "      <td>Well, I don't think that there is something li...</td>\n",
       "      <td>0.0</td>\n",
       "      <td>0.00</td>\n",
       "      <td>javascript equivalent python locals</td>\n",
       "    </tr>\n",
       "  </tbody>\n",
       "</table>\n",
       "</div>"
      ],
      "text/plain": [
       "                                               title  \\\n",
       "0          Specifying a mySQL ENUM in a Django model   \n",
       "1  How do content discovery engines, like Zemanta...   \n",
       "2  Install Python to match directory layout in OS...   \n",
       "3  Why does Python's iter() on a mapping return i...   \n",
       "4        Javascript equivalent of Python's locals()?   \n",
       "\n",
       "                                              corpus  \\\n",
       "0  specifying mysql enum django model go specifyi...   \n",
       "1  content discovery engines like zemanta open ca...   \n",
       "2  install python match directory layout os x 105...   \n",
       "3  python iter mapping return iterkeys instead it...   \n",
       "4  javascript equivalent python locals python one...   \n",
       "\n",
       "                                             content  \\\n",
       "0  specifying mysql enum django model go specifyi...   \n",
       "1  content discovery engines like zemanta open ca...   \n",
       "2  install python match directory layout os x 105...   \n",
       "3  python iter mapping return iterkeys instead it...   \n",
       "4  javascript equivalent python locals python one...   \n",
       "\n",
       "                                      tags     score  \\\n",
       "0  python|mysql|django|django-models|enums  0.044573   \n",
       "1            python|ruby|semantics|zemanta  0.002254   \n",
       "2                      python|macos|64-bit -0.000657   \n",
       "3                 python|mapping|iteration  0.001134   \n",
       "4                        javascript|python  0.003821   \n",
       "\n",
       "                                             answers  polarity  subjectivity  \\\n",
       "0                     From the Django documentation:       0.0          0.00   \n",
       "1           Michal Finkelstein from OpenCalais here.       0.0          0.00   \n",
       "2                                        Hyposaurus,       0.0          0.00   \n",
       "3  Check out this thread for a discussion on the ...      -0.2          0.85   \n",
       "4  Well, I don't think that there is something li...       0.0          0.00   \n",
       "\n",
       "                                     processed_title  \n",
       "0                 specifying mysql enum django model  \n",
       "1  content discovery engines like zemanta open ca...  \n",
       "2     install python match directory layout os x 105  \n",
       "3  python iter mapping return iterkeys instead it...  \n",
       "4                javascript equivalent python locals  "
      ]
     },
     "execution_count": 2,
     "metadata": {},
     "output_type": "execute_result"
    }
   ],
   "source": [
    "# read data\n",
    "\n",
    "data = pd.read_csv('data/processed_data_model1.csv')\n",
    "print(data.shape)\n",
    "data.head()"
   ]
  },
  {
   "cell_type": "markdown",
   "id": "variable-lincoln",
   "metadata": {},
   "source": [
    "## Training word embeddings\n",
    "<hr>"
   ]
  },
  {
   "cell_type": "code",
   "execution_count": 3,
   "id": "labeled-pulse",
   "metadata": {},
   "outputs": [],
   "source": [
    "import multiprocessing\n",
    "from gensim.models import Word2Vec"
   ]
  },
  {
   "cell_type": "code",
   "execution_count": 4,
   "id": "needed-consultancy",
   "metadata": {},
   "outputs": [
    {
     "name": "stdout",
     "output_type": "stream",
     "text": [
      "8\n"
     ]
    }
   ],
   "source": [
    "cores = multiprocessing.cpu_count()\n",
    "print(cores)"
   ]
  },
  {
   "cell_type": "code",
   "execution_count": 5,
   "id": "endangered-recall",
   "metadata": {},
   "outputs": [],
   "source": [
    "import gensim\n",
    "\n",
    "w2v_model = Word2Vec(min_count=0\n",
    "                                     , window=10\n",
    "                                     , size=300\n",
    "                                     , workers=cores-1)\n",
    "\n",
    "corpus = [text.split() for text in np.array(data.corpus)]"
   ]
  },
  {
   "cell_type": "code",
   "execution_count": 6,
   "id": "matched-integrity",
   "metadata": {},
   "outputs": [
    {
     "name": "stdout",
     "output_type": "stream",
     "text": [
      "vocab size 248929\n"
     ]
    },
    {
     "data": {
      "text/plain": [
       "(81480977, 87125344)"
      ]
     },
     "execution_count": 6,
     "metadata": {},
     "output_type": "execute_result"
    }
   ],
   "source": [
    "#train word embeddings\n",
    "\n",
    "w2v_model.build_vocab(corpus)\n",
    "words = w2v_model.wv.vocab.keys()\n",
    "vocab_size = len(words)\n",
    "print(\"vocab size\",vocab_size)\n",
    "w2v_model.train(corpus, total_examples=len(corpus), epochs=32)"
   ]
  },
  {
   "cell_type": "code",
   "execution_count": 7,
   "id": "lined-destiny",
   "metadata": {},
   "outputs": [],
   "source": [
    "w2v_model.save('models/related_questions_model.bin') #save"
   ]
  },
  {
   "cell_type": "markdown",
   "id": "atmospheric-playing",
   "metadata": {},
   "source": [
    "## Sanity check on the trained word embeddings\n",
    "<hr>"
   ]
  },
  {
   "cell_type": "code",
   "execution_count": 8,
   "id": "palestinian-plymouth",
   "metadata": {},
   "outputs": [
    {
     "name": "stdout",
     "output_type": "stream",
     "text": [
      "Terms most similar to \"flask\" \n",
      "\n",
      "[('pyramid', 0.47796744108200073), ('sqlalchemy', 0.44483625888824463), ('blueprints', 0.44131705164909363), ('django', 0.43050113320350647), ('werkzeug', 0.42923790216445923), ('fieldlist', 0.4247692823410034), ('url_for', 0.41096389293670654), ('clipy', 0.4070345163345337), ('routes', 0.4053919315338135), ('fastapi', 0.400310218334198)]\n"
     ]
    }
   ],
   "source": [
    "print('Terms most similar to \"flask\" \\n')\n",
    "print(w2v_model.wv.most_similar(\"flask\"))"
   ]
  },
  {
   "cell_type": "code",
   "execution_count": 9,
   "id": "comfortable-acquisition",
   "metadata": {},
   "outputs": [
    {
     "name": "stdout",
     "output_type": "stream",
     "text": [
      "Terms most similar to \"django\" \n",
      "\n",
      "[('web2py', 0.4499993324279785), ('drf', 0.4495217204093933), ('flask', 0.43050113320350647), ('python', 0.42775559425354004), ('wagtail', 0.4143940508365631), ('harini', 0.4106205701828003), ('pyramid', 0.4066495895385742), ('template', 0.39889439940452576), ('modelspy', 0.3987653851509094), ('forbidden_view_config', 0.39538854360580444)]\n"
     ]
    }
   ],
   "source": [
    "print('Terms most similar to \"django\" \\n')\n",
    "print(w2v_model.wv.most_similar(\"django\"))"
   ]
  },
  {
   "cell_type": "code",
   "execution_count": 10,
   "id": "fewer-danger",
   "metadata": {
    "scrolled": true
   },
   "outputs": [
    {
     "name": "stdout",
     "output_type": "stream",
     "text": [
      "Terms most similar to \"api\" \n",
      "\n",
      "[('apis', 0.5788638591766357), ('service', 0.47236400842666626), ('twitter', 0.46291738748550415), ('restful', 0.4628230035305023), ('endpoint', 0.4458930194377899), ('endpoints', 0.4392290711402893), ('oauth', 0.43464982509613037), ('goole', 0.4340834617614746), ('interface', 0.42327064275741577), ('services', 0.4197748303413391)]\n"
     ]
    }
   ],
   "source": [
    "print('Terms most similar to \"api\" \\n')\n",
    "print(w2v_model.wv.most_similar(\"api\"))"
   ]
  },
  {
   "cell_type": "markdown",
   "id": "dedicated-roman",
   "metadata": {},
   "source": [
    "## Relevant questions retrieval model\n",
    "<hr>"
   ]
  },
  {
   "cell_type": "code",
   "execution_count": 11,
   "id": "laden-rugby",
   "metadata": {},
   "outputs": [],
   "source": [
    "import os\n",
    "import numpy as np\n",
    "import pandas as pd"
   ]
  },
  {
   "cell_type": "markdown",
   "id": "genetic-maximum",
   "metadata": {},
   "source": [
    "## Load data\n",
    "<hr>"
   ]
  },
  {
   "cell_type": "code",
   "execution_count": 12,
   "id": "premier-concert",
   "metadata": {},
   "outputs": [
    {
     "data": {
      "text/html": [
       "<div>\n",
       "<style scoped>\n",
       "    .dataframe tbody tr th:only-of-type {\n",
       "        vertical-align: middle;\n",
       "    }\n",
       "\n",
       "    .dataframe tbody tr th {\n",
       "        vertical-align: top;\n",
       "    }\n",
       "\n",
       "    .dataframe thead th {\n",
       "        text-align: right;\n",
       "    }\n",
       "</style>\n",
       "<table border=\"1\" class=\"dataframe\">\n",
       "  <thead>\n",
       "    <tr style=\"text-align: right;\">\n",
       "      <th></th>\n",
       "      <th>title</th>\n",
       "      <th>corpus</th>\n",
       "      <th>content</th>\n",
       "      <th>tags</th>\n",
       "      <th>score</th>\n",
       "      <th>answers</th>\n",
       "      <th>polarity</th>\n",
       "      <th>subjectivity</th>\n",
       "      <th>processed_title</th>\n",
       "    </tr>\n",
       "  </thead>\n",
       "  <tbody>\n",
       "    <tr>\n",
       "      <th>0</th>\n",
       "      <td>Specifying a mySQL ENUM in a Django model</td>\n",
       "      <td>specifying mysql enum django model go specifyi...</td>\n",
       "      <td>specifying mysql enum django model go specifyi...</td>\n",
       "      <td>python|mysql|django|django-models|enums</td>\n",
       "      <td>0.044573</td>\n",
       "      <td>From the Django documentation:</td>\n",
       "      <td>0.000000</td>\n",
       "      <td>0.000000</td>\n",
       "      <td>specifying mysql enum django model</td>\n",
       "    </tr>\n",
       "    <tr>\n",
       "      <th>1</th>\n",
       "      <td>How do content discovery engines, like Zemanta...</td>\n",
       "      <td>content discovery engines like zemanta open ca...</td>\n",
       "      <td>content discovery engines like zemanta open ca...</td>\n",
       "      <td>python|ruby|semantics|zemanta</td>\n",
       "      <td>0.002254</td>\n",
       "      <td>Michal Finkelstein from OpenCalais here.</td>\n",
       "      <td>0.000000</td>\n",
       "      <td>0.000000</td>\n",
       "      <td>content discovery engines like zemanta open ca...</td>\n",
       "    </tr>\n",
       "    <tr>\n",
       "      <th>2</th>\n",
       "      <td>Install Python to match directory layout in OS...</td>\n",
       "      <td>install python match directory layout os x 105...</td>\n",
       "      <td>install python match directory layout os x 105...</td>\n",
       "      <td>python|macos|64-bit</td>\n",
       "      <td>-0.000657</td>\n",
       "      <td>Hyposaurus,</td>\n",
       "      <td>0.000000</td>\n",
       "      <td>0.000000</td>\n",
       "      <td>install python match directory layout os x 105</td>\n",
       "    </tr>\n",
       "    <tr>\n",
       "      <th>3</th>\n",
       "      <td>Why does Python's iter() on a mapping return i...</td>\n",
       "      <td>python iter mapping return iterkeys instead it...</td>\n",
       "      <td>python iter mapping return iterkeys instead it...</td>\n",
       "      <td>python|mapping|iteration</td>\n",
       "      <td>0.001134</td>\n",
       "      <td>Check out this thread for a discussion on the ...</td>\n",
       "      <td>-0.200000</td>\n",
       "      <td>0.850000</td>\n",
       "      <td>python iter mapping return iterkeys instead it...</td>\n",
       "    </tr>\n",
       "    <tr>\n",
       "      <th>4</th>\n",
       "      <td>Javascript equivalent of Python's locals()?</td>\n",
       "      <td>javascript equivalent python locals python one...</td>\n",
       "      <td>javascript equivalent python locals python one...</td>\n",
       "      <td>javascript|python</td>\n",
       "      <td>0.003821</td>\n",
       "      <td>Well, I don't think that there is something li...</td>\n",
       "      <td>0.000000</td>\n",
       "      <td>0.000000</td>\n",
       "      <td>javascript equivalent python locals</td>\n",
       "    </tr>\n",
       "    <tr>\n",
       "      <th>...</th>\n",
       "      <td>...</td>\n",
       "      <td>...</td>\n",
       "      <td>...</td>\n",
       "      <td>...</td>\n",
       "      <td>...</td>\n",
       "      <td>...</td>\n",
       "      <td>...</td>\n",
       "      <td>...</td>\n",
       "      <td>...</td>\n",
       "    </tr>\n",
       "    <tr>\n",
       "      <th>58882</th>\n",
       "      <td>Comparing values with __eq__ in Python</td>\n",
       "      <td>comparing values _ _ eq _ _ python good day ni...</td>\n",
       "      <td>comparing values _ _ eq _ _ python good day ni...</td>\n",
       "      <td>python|magic-methods</td>\n",
       "      <td>-0.001329</td>\n",
       "      <td>By implementing  like this you're basically te...</td>\n",
       "      <td>-0.083333</td>\n",
       "      <td>0.283333</td>\n",
       "      <td>comparing values _ _ eq _ _ python</td>\n",
       "    </tr>\n",
       "    <tr>\n",
       "      <th>58883</th>\n",
       "      <td>How to get PYQT5 text box to be taken as an in...</td>\n",
       "      <td>get pyqt5 text box taken input sqlite trying c...</td>\n",
       "      <td>get pyqt5 text box taken input sqlite trying c...</td>\n",
       "      <td>python|sqlite|pyqt|pyqt5|qtsql</td>\n",
       "      <td>-0.001105</td>\n",
       "      <td>You can‘t get the value in your SQL statement,...</td>\n",
       "      <td>0.000000</td>\n",
       "      <td>0.000000</td>\n",
       "      <td>get pyqt5 text box taken input sqlite</td>\n",
       "    </tr>\n",
       "    <tr>\n",
       "      <th>58884</th>\n",
       "      <td>How to assign one argument to function and mak...</td>\n",
       "      <td>assign one argument function make list later q...</td>\n",
       "      <td>assign one argument function make list later q...</td>\n",
       "      <td>python|tuples|user-defined-functions</td>\n",
       "      <td>-0.001329</td>\n",
       "      <td>I think you want this</td>\n",
       "      <td>0.000000</td>\n",
       "      <td>0.000000</td>\n",
       "      <td>assign one argument function make list later</td>\n",
       "    </tr>\n",
       "    <tr>\n",
       "      <th>58885</th>\n",
       "      <td>Iterate over a list based on list based on a l...</td>\n",
       "      <td>iterate list based list based list steps want ...</td>\n",
       "      <td>iterate list based list based list steps want ...</td>\n",
       "      <td>python</td>\n",
       "      <td>0.000686</td>\n",
       "      <td>You can make a simple for loop and keep track ...</td>\n",
       "      <td>-0.055556</td>\n",
       "      <td>0.307937</td>\n",
       "      <td>iterate list based list based list steps</td>\n",
       "    </tr>\n",
       "    <tr>\n",
       "      <th>58886</th>\n",
       "      <td>django. Form creates blank objects for empty f...</td>\n",
       "      <td>django form creates blank objects empty fields...</td>\n",
       "      <td>django form creates blank objects empty fields...</td>\n",
       "      <td>python|django|django-models|django-forms|d</td>\n",
       "      <td>-0.001329</td>\n",
       "      <td>You are trying to combine several models into ...</td>\n",
       "      <td>-0.065816</td>\n",
       "      <td>0.193367</td>\n",
       "      <td>django form creates blank objects empty fields...</td>\n",
       "    </tr>\n",
       "  </tbody>\n",
       "</table>\n",
       "<p>58887 rows × 9 columns</p>\n",
       "</div>"
      ],
      "text/plain": [
       "                                                   title  \\\n",
       "0              Specifying a mySQL ENUM in a Django model   \n",
       "1      How do content discovery engines, like Zemanta...   \n",
       "2      Install Python to match directory layout in OS...   \n",
       "3      Why does Python's iter() on a mapping return i...   \n",
       "4            Javascript equivalent of Python's locals()?   \n",
       "...                                                  ...   \n",
       "58882             Comparing values with __eq__ in Python   \n",
       "58883  How to get PYQT5 text box to be taken as an in...   \n",
       "58884  How to assign one argument to function and mak...   \n",
       "58885  Iterate over a list based on list based on a l...   \n",
       "58886  django. Form creates blank objects for empty f...   \n",
       "\n",
       "                                                  corpus  \\\n",
       "0      specifying mysql enum django model go specifyi...   \n",
       "1      content discovery engines like zemanta open ca...   \n",
       "2      install python match directory layout os x 105...   \n",
       "3      python iter mapping return iterkeys instead it...   \n",
       "4      javascript equivalent python locals python one...   \n",
       "...                                                  ...   \n",
       "58882  comparing values _ _ eq _ _ python good day ni...   \n",
       "58883  get pyqt5 text box taken input sqlite trying c...   \n",
       "58884  assign one argument function make list later q...   \n",
       "58885  iterate list based list based list steps want ...   \n",
       "58886  django form creates blank objects empty fields...   \n",
       "\n",
       "                                                 content  \\\n",
       "0      specifying mysql enum django model go specifyi...   \n",
       "1      content discovery engines like zemanta open ca...   \n",
       "2      install python match directory layout os x 105...   \n",
       "3      python iter mapping return iterkeys instead it...   \n",
       "4      javascript equivalent python locals python one...   \n",
       "...                                                  ...   \n",
       "58882  comparing values _ _ eq _ _ python good day ni...   \n",
       "58883  get pyqt5 text box taken input sqlite trying c...   \n",
       "58884  assign one argument function make list later q...   \n",
       "58885  iterate list based list based list steps want ...   \n",
       "58886  django form creates blank objects empty fields...   \n",
       "\n",
       "                                             tags     score  \\\n",
       "0         python|mysql|django|django-models|enums  0.044573   \n",
       "1                   python|ruby|semantics|zemanta  0.002254   \n",
       "2                             python|macos|64-bit -0.000657   \n",
       "3                        python|mapping|iteration  0.001134   \n",
       "4                               javascript|python  0.003821   \n",
       "...                                           ...       ...   \n",
       "58882                        python|magic-methods -0.001329   \n",
       "58883              python|sqlite|pyqt|pyqt5|qtsql -0.001105   \n",
       "58884        python|tuples|user-defined-functions -0.001329   \n",
       "58885                                      python  0.000686   \n",
       "58886  python|django|django-models|django-forms|d -0.001329   \n",
       "\n",
       "                                                 answers  polarity  \\\n",
       "0                         From the Django documentation:  0.000000   \n",
       "1               Michal Finkelstein from OpenCalais here.  0.000000   \n",
       "2                                            Hyposaurus,  0.000000   \n",
       "3      Check out this thread for a discussion on the ... -0.200000   \n",
       "4      Well, I don't think that there is something li...  0.000000   \n",
       "...                                                  ...       ...   \n",
       "58882  By implementing  like this you're basically te... -0.083333   \n",
       "58883  You can‘t get the value in your SQL statement,...  0.000000   \n",
       "58884                              I think you want this  0.000000   \n",
       "58885  You can make a simple for loop and keep track ... -0.055556   \n",
       "58886  You are trying to combine several models into ... -0.065816   \n",
       "\n",
       "       subjectivity                                    processed_title  \n",
       "0          0.000000                 specifying mysql enum django model  \n",
       "1          0.000000  content discovery engines like zemanta open ca...  \n",
       "2          0.000000     install python match directory layout os x 105  \n",
       "3          0.850000  python iter mapping return iterkeys instead it...  \n",
       "4          0.000000                javascript equivalent python locals  \n",
       "...             ...                                                ...  \n",
       "58882      0.283333                 comparing values _ _ eq _ _ python  \n",
       "58883      0.000000              get pyqt5 text box taken input sqlite  \n",
       "58884      0.000000       assign one argument function make list later  \n",
       "58885      0.307937           iterate list based list based list steps  \n",
       "58886      0.193367  django form creates blank objects empty fields...  \n",
       "\n",
       "[58887 rows x 9 columns]"
      ]
     },
     "execution_count": 12,
     "metadata": {},
     "output_type": "execute_result"
    }
   ],
   "source": [
    "data = pd.read_csv('data/processed_data_model1.csv')\n",
    "data"
   ]
  },
  {
   "cell_type": "code",
   "execution_count": 13,
   "id": "magnetic-information",
   "metadata": {},
   "outputs": [
    {
     "name": "stderr",
     "output_type": "stream",
     "text": [
      "[nltk_data] Downloading package stopwords to\n",
      "[nltk_data]     C:\\Users\\Bhavana\\AppData\\Roaming\\nltk_data...\n",
      "[nltk_data]   Package stopwords is already up-to-date!\n"
     ]
    }
   ],
   "source": [
    "import re\n",
    "import nltk\n",
    "import inflect\n",
    "from nltk.corpus import stopwords\n",
    "\n",
    "#process text\n",
    "\n",
    "import spacy\n",
    "en = spacy.load('en_core_web_sm')\n",
    "\n",
    "import nltk\n",
    "nltk.download('stopwords')\n",
    "\n",
    "#tokenizer\n",
    "\n",
    "def tokenize(text):\n",
    "    tokens = en.tokenizer(text)\n",
    "    return [token.text.lower() for token in tokens if not token.is_space]\n",
    "\n",
    "#remove punctuations\n",
    "\n",
    "def remove_punctuation(words):\n",
    "    new_words = []\n",
    "    for word in words:\n",
    "        new_word = re.sub(r'[^\\w\\s]', '', word)\n",
    "        if new_word != '':\n",
    "            new_words.append(new_word)\n",
    "    return new_words \n",
    "\n",
    "#remove stopwords\n",
    "\n",
    "def remove_stopwords(words):\n",
    "    new_words = []\n",
    "    for word in words:\n",
    "        if word not in stopwords.words('english'):\n",
    "            new_words.append(word)\n",
    "    return new_words\n",
    "\n",
    "def normalize(words):\n",
    "    words = remove_punctuation(words)\n",
    "    words = remove_stopwords(words)\n",
    "    return words\n",
    "\n",
    "def process_text(text):\n",
    "    return ' '.join(normalize(tokenize(text)))"
   ]
  },
  {
   "cell_type": "markdown",
   "id": "finnish-cassette",
   "metadata": {},
   "source": [
    "## Import saved word embeddings\n",
    "<hr>"
   ]
  },
  {
   "cell_type": "code",
   "execution_count": 14,
   "id": "offshore-consensus",
   "metadata": {},
   "outputs": [
    {
     "data": {
      "text/plain": [
       "'import gensim\\nw2v_model = gensim.models.word2vec.Word2Vec(\\'models/related_questions_model.bin\\')\\nwords = w2v_model.wv.vocab.keys()\\nvocab_size = len(words)\\nprint(\"vocab size\",vocab_size)'"
      ]
     },
     "execution_count": 14,
     "metadata": {},
     "output_type": "execute_result"
    }
   ],
   "source": [
    "#getting the saved word embeddings\n",
    "\n",
    "'''import gensim\n",
    "w2v_model = gensim.models.word2vec.Word2Vec('models/related_questions_model.bin')\n",
    "words = w2v_model.wv.vocab.keys()\n",
    "vocab_size = len(words)\n",
    "print(\"vocab size\",vocab_size)'''"
   ]
  },
  {
   "cell_type": "markdown",
   "id": "available-adult",
   "metadata": {},
   "source": [
    "## Calculate sentence embeddings\n",
    "<hr>"
   ]
  },
  {
   "cell_type": "code",
   "execution_count": 15,
   "id": "concrete-functionality",
   "metadata": {},
   "outputs": [],
   "source": [
    "#word to numerical vector using the trained word embeddings\n",
    "\n",
    "def question_to_vec(question, embeddings, dim = 300):\n",
    "    question_embedding = np.zeros(dim)\n",
    "    valid_words = 0\n",
    "    for word in str(question).split(' '):\n",
    "        if embeddings.wv.__contains__(word):\n",
    "            valid_words+=1\n",
    "            question_embedding += embeddings.wv.__getitem__(word)\n",
    "        if valid_words>0:\n",
    "            return question_embedding/valid_words\n",
    "        else:\n",
    "            return question_embedding"
   ]
  },
  {
   "cell_type": "code",
   "execution_count": 23,
   "id": "vocal-detail",
   "metadata": {},
   "outputs": [
    {
     "name": "stdout",
     "output_type": "stream",
     "text": [
      "Word2Vec(vocab=248929, size=300, alpha=0.025)\n"
     ]
    }
   ],
   "source": [
    "#converting all the question titles to vectors and saving them\n",
    "\n",
    "title_embeddings = []\n",
    "\n",
    "for title in data.processed_title:\n",
    "    title_embeddings.append(question_to_vec(question = title, embeddings = w2v_model))\n",
    "    \n",
    "title_embeddings = np.array(title_embeddings)\n",
    "embeddings = pd.DataFrame(data = title_embeddings)\n",
    "embeddings[0:15000].to_csv('models/title_embeddings1.csv', index=False)\n",
    "embeddings[15000:30000].to_csv('models/title_embeddings2.csv', index=False)\n",
    "embeddings[30000:45000].to_csv('models/title_embeddings3.csv', index=False)\n",
    "embeddings[45000:].to_csv('models/title_embeddings4.csv', index=False)\n",
    "\n",
    "print(w2v_model)"
   ]
  },
  {
   "cell_type": "markdown",
   "id": "compliant-relevance",
   "metadata": {},
   "source": [
    "## Cosine similarity\n",
    "<hr>"
   ]
  },
  {
   "cell_type": "code",
   "execution_count": 24,
   "id": "iraqi-advisory",
   "metadata": {},
   "outputs": [
    {
     "data": {
      "text/html": [
       "<h3>Results:</h3><p style=\"font-family:verdana; font-size:110%;\"> similarity score 0.9250007211318854<br> How to <b>combine</b> values <b>in</b> <b>two</b> different dictionaries that have the same key <b>in</b> python</p><hr><p style=\"font-family:verdana; font-size:110%;\"> similarity score 0.9199783297301836<br> <b>Combine</b> <b>two</b> dataframes with same values <b>in</b> several columns</p><hr><p style=\"font-family:verdana; font-size:110%;\"> similarity score 0.919944742627631<br> <b>Combine</b> <b>two</b> <b>lists</b> using classes (Python)</p><hr><p style=\"font-family:verdana; font-size:110%;\"> similarity score 0.9186947426276311<br> How to <b>combine</b> Keras MNIST dataset with my own MNIST images?</p><hr><p style=\"font-family:verdana; font-size:110%;\"> similarity score 0.9182892716618152<br> <b>Combine</b> <b>two</b> txt files into one dictionary with corrections</p><hr>"
      ],
      "text/plain": [
       "<IPython.core.display.HTML object>"
      ]
     },
     "metadata": {},
     "output_type": "display_data"
    }
   ],
   "source": [
    "from sklearn.metrics.pairwise import cosine_similarity\n",
    "from IPython.display import HTML\n",
    "\n",
    "query = 'combine two lists'\n",
    "processed_query = process_text(query)\n",
    "\n",
    "results_returned = 5\n",
    "\n",
    "query_vect = np.array([question_to_vec(processed_query, w2v_model)]) # Vectorize the user query\n",
    "\n",
    "# Calculate Cosine similarites for the query and all titles\n",
    "cosine_similarities = pd.Series(cosine_similarity(query_vect, title_embeddings)[0])\n",
    "\n",
    "# Custom Similarity Measure\n",
    "cosine_similarities = (90*cosine_similarities + 5*data.score + 5*(data.polarity))/100\n",
    "\n",
    "output = ''\n",
    "\n",
    "for i, j in cosine_similarities.nlargest(results_returned).iteritems():\n",
    "    output += '<p style=\"font-family:verdana; font-size:110%;\"> '\n",
    "    output += 'similarity score ' + str(j) + '<br>'\n",
    "    for i in data.title[i].split():\n",
    "        if i.lower() in query:\n",
    "            output += \" <b>\"+str(i)+\"</b>\"\n",
    "        else:\n",
    "            output += \" \"+str(i)\n",
    "    output += \"</p><hr>\"\n",
    "\n",
    "output = '<h3>Results:</h3>'+output\n",
    "display(HTML(output))"
   ]
  }
 ],
 "metadata": {
  "kernelspec": {
   "display_name": "Python 3",
   "language": "python",
   "name": "python3"
  },
  "language_info": {
   "codemirror_mode": {
    "name": "ipython",
    "version": 3
   },
   "file_extension": ".py",
   "mimetype": "text/x-python",
   "name": "python",
   "nbconvert_exporter": "python",
   "pygments_lexer": "ipython3",
   "version": "3.8.5"
  }
 },
 "nbformat": 4,
 "nbformat_minor": 5
}
