{
 "cells": [
  {
   "cell_type": "code",
   "execution_count": null,
   "metadata": {},
   "outputs": [],
   "source": [
    "import pandas as pd"
   ]
  },
  {
   "cell_type": "code",
   "execution_count": null,
   "metadata": {},
   "outputs": [],
   "source": [
    "rel_que = pd.read_csv('data/relevant_questions.csv')\n",
    "ans = pd.read_csv('data/keyword_answer.csv')"
   ]
  },
  {
   "cell_type": "code",
   "execution_count": null,
   "metadata": {},
   "outputs": [],
   "source": [
    "rel_que"
   ]
  },
  {
   "cell_type": "code",
   "execution_count": null,
   "metadata": {},
   "outputs": [],
   "source": [
    "ans"
   ]
  },
  {
   "cell_type": "code",
   "execution_count": 38,
   "metadata": {},
   "outputs": [],
   "source": [
    "rel_ans = pd.DataFrame()"
   ]
  },
  {
   "cell_type": "code",
   "execution_count": 39,
   "metadata": {},
   "outputs": [],
   "source": [
    "for i in enumerate(rel_que['id']):\n",
    "    rel_ans = pd.concat([ans[ans['0'] == i[1]], rel_ans])"
   ]
  },
  {
   "cell_type": "code",
   "execution_count": 40,
   "metadata": {},
   "outputs": [
    {
     "data": {
      "text/html": [
       "<div>\n",
       "<style scoped>\n",
       "    .dataframe tbody tr th:only-of-type {\n",
       "        vertical-align: middle;\n",
       "    }\n",
       "\n",
       "    .dataframe tbody tr th {\n",
       "        vertical-align: top;\n",
       "    }\n",
       "\n",
       "    .dataframe thead th {\n",
       "        text-align: right;\n",
       "    }\n",
       "</style>\n",
       "<table border=\"1\" class=\"dataframe\">\n",
       "  <thead>\n",
       "    <tr style=\"text-align: right;\">\n",
       "      <th></th>\n",
       "      <th>0</th>\n",
       "      <th>1</th>\n",
       "      <th>2</th>\n",
       "    </tr>\n",
       "  </thead>\n",
       "  <tbody>\n",
       "    <tr>\n",
       "      <td>4728</td>\n",
       "      <td>58276538.0</td>\n",
       "      <td>&lt;p&gt;You can either use &lt;code&gt;update&lt;/code&gt;:&lt;/p&gt;...</td>\n",
       "      <td>['Topic 0']</td>\n",
       "    </tr>\n",
       "    <tr>\n",
       "      <td>4729</td>\n",
       "      <td>58276538.0</td>\n",
       "      <td>&lt;p&gt;This is perfect case for &lt;a href=\"https://p...</td>\n",
       "      <td>['Topic 0', 'Topic 1', 'Topic 2']</td>\n",
       "    </tr>\n",
       "    <tr>\n",
       "      <td>4730</td>\n",
       "      <td>58276538.0</td>\n",
       "      <td>&lt;p&gt;In your case &lt;code&gt;reindex_like&lt;/code&gt;&lt;/p&gt;\\...</td>\n",
       "      <td>['Topic 0']</td>\n",
       "    </tr>\n",
       "    <tr>\n",
       "      <td>60589</td>\n",
       "      <td>50727548.0</td>\n",
       "      <td>&lt;p&gt;You can put the different column into index...</td>\n",
       "      <td>['Topic 0', 'Topic 1', 'Topic 2']</td>\n",
       "    </tr>\n",
       "    <tr>\n",
       "      <td>27294</td>\n",
       "      <td>58678560.0</td>\n",
       "      <td>&lt;p&gt;Your desired outputs are no longer really m...</td>\n",
       "      <td>['Topic 0', 'Topic 1']</td>\n",
       "    </tr>\n",
       "    <tr>\n",
       "      <td>...</td>\n",
       "      <td>...</td>\n",
       "      <td>...</td>\n",
       "      <td>...</td>\n",
       "    </tr>\n",
       "    <tr>\n",
       "      <td>39444</td>\n",
       "      <td>46362972.0</td>\n",
       "      <td>&lt;p&gt;Use this code :&lt;/p&gt;\\r\\n\\r\\n&lt;pre&gt;&lt;code&gt;list1...</td>\n",
       "      <td>['Topic 0', 'Topic 1']</td>\n",
       "    </tr>\n",
       "    <tr>\n",
       "      <td>18975</td>\n",
       "      <td>48641350.0</td>\n",
       "      <td>&lt;p&gt;&lt;strong&gt;This might help&lt;/strong&gt;&lt;/p&gt;\\r\\n\\r\\...</td>\n",
       "      <td>['Topic 0']</td>\n",
       "    </tr>\n",
       "    <tr>\n",
       "      <td>18976</td>\n",
       "      <td>48641350.0</td>\n",
       "      <td>&lt;p&gt;You could achieve your desired output with ...</td>\n",
       "      <td>['Topic 0']</td>\n",
       "    </tr>\n",
       "    <tr>\n",
       "      <td>18977</td>\n",
       "      <td>48641350.0</td>\n",
       "      <td>&lt;p&gt;Or you can use use append, but you need to ...</td>\n",
       "      <td>['Topic 0']</td>\n",
       "    </tr>\n",
       "    <tr>\n",
       "      <td>18978</td>\n",
       "      <td>48641350.0</td>\n",
       "      <td>&lt;pre&gt;&lt;code&gt;from itertools import product\\r\\n\\r...</td>\n",
       "      <td>['Topic 0']</td>\n",
       "    </tr>\n",
       "  </tbody>\n",
       "</table>\n",
       "<p>181 rows × 3 columns</p>\n",
       "</div>"
      ],
      "text/plain": [
       "                0                                                  1  \\\n",
       "4728   58276538.0  <p>You can either use <code>update</code>:</p>...   \n",
       "4729   58276538.0  <p>This is perfect case for <a href=\"https://p...   \n",
       "4730   58276538.0  <p>In your case <code>reindex_like</code></p>\\...   \n",
       "60589  50727548.0  <p>You can put the different column into index...   \n",
       "27294  58678560.0  <p>Your desired outputs are no longer really m...   \n",
       "...           ...                                                ...   \n",
       "39444  46362972.0  <p>Use this code :</p>\\r\\n\\r\\n<pre><code>list1...   \n",
       "18975  48641350.0  <p><strong>This might help</strong></p>\\r\\n\\r\\...   \n",
       "18976  48641350.0  <p>You could achieve your desired output with ...   \n",
       "18977  48641350.0  <p>Or you can use use append, but you need to ...   \n",
       "18978  48641350.0  <pre><code>from itertools import product\\r\\n\\r...   \n",
       "\n",
       "                                       2  \n",
       "4728                         ['Topic 0']  \n",
       "4729   ['Topic 0', 'Topic 1', 'Topic 2']  \n",
       "4730                         ['Topic 0']  \n",
       "60589  ['Topic 0', 'Topic 1', 'Topic 2']  \n",
       "27294             ['Topic 0', 'Topic 1']  \n",
       "...                                  ...  \n",
       "39444             ['Topic 0', 'Topic 1']  \n",
       "18975                        ['Topic 0']  \n",
       "18976                        ['Topic 0']  \n",
       "18977                        ['Topic 0']  \n",
       "18978                        ['Topic 0']  \n",
       "\n",
       "[181 rows x 3 columns]"
      ]
     },
     "execution_count": 40,
     "metadata": {},
     "output_type": "execute_result"
    }
   ],
   "source": [
    "rel_ans"
   ]
  },
  {
   "cell_type": "code",
   "execution_count": 14,
   "metadata": {},
   "outputs": [],
   "source": [
    "topic_ans = pd.DataFrame()"
   ]
  },
  {
   "cell_type": "code",
   "execution_count": 67,
   "metadata": {},
   "outputs": [],
   "source": [
    "topic_ans_list = [['Topic 0', []],['Topic 1', []],['Topic 2', []],['Topic 3', []]['Topic 0', []]['Topic 0', []]['Topic 0', []]]"
   ]
  },
  {
   "cell_type": "code",
   "execution_count": null,
   "metadata": {},
   "outputs": [],
   "source": [
    "df_list = []\n",
    "for i in range(0, rel_ans.shape[0]):\n",
    "    topic_list = rel_ans.iloc[i]['2'].split(',')\n",
    "    for topic in topic_list:\n",
    "        topic = int(topic.split(' ')[1])\n",
    "        df_list[topic].append([df[df['id']==rel_ans['0'].iloc[i]], rel_ans['1'].iloc[i]])\n",
    "        print(df_list)\n",
    "    break"
   ]
  },
  {
   "cell_type": "code",
   "execution_count": 68,
   "metadata": {},
   "outputs": [
    {
     "data": {
      "text/html": [
       "<div>\n",
       "<style scoped>\n",
       "    .dataframe tbody tr th:only-of-type {\n",
       "        vertical-align: middle;\n",
       "    }\n",
       "\n",
       "    .dataframe tbody tr th {\n",
       "        vertical-align: top;\n",
       "    }\n",
       "\n",
       "    .dataframe thead th {\n",
       "        text-align: right;\n",
       "    }\n",
       "</style>\n",
       "<table border=\"1\" class=\"dataframe\">\n",
       "  <thead>\n",
       "    <tr style=\"text-align: right;\">\n",
       "      <th></th>\n",
       "    </tr>\n",
       "  </thead>\n",
       "  <tbody>\n",
       "    <tr>\n",
       "      <td>0</td>\n",
       "    </tr>\n",
       "    <tr>\n",
       "      <td>1</td>\n",
       "    </tr>\n",
       "    <tr>\n",
       "      <td>2</td>\n",
       "    </tr>\n",
       "    <tr>\n",
       "      <td>3</td>\n",
       "    </tr>\n",
       "    <tr>\n",
       "      <td>4</td>\n",
       "    </tr>\n",
       "    <tr>\n",
       "      <td>5</td>\n",
       "    </tr>\n",
       "    <tr>\n",
       "      <td>6</td>\n",
       "    </tr>\n",
       "    <tr>\n",
       "      <td>7</td>\n",
       "    </tr>\n",
       "  </tbody>\n",
       "</table>\n",
       "</div>"
      ],
      "text/plain": [
       "Empty DataFrame\n",
       "Columns: []\n",
       "Index: [0, 1, 2, 3, 4, 5, 6, 7]"
      ]
     },
     "execution_count": 68,
     "metadata": {},
     "output_type": "execute_result"
    }
   ],
   "source": [
    "pd.DataFrame(topic_ans_list)"
   ]
  },
  {
   "cell_type": "code",
   "execution_count": 30,
   "metadata": {},
   "outputs": [
    {
     "data": {
      "text/plain": [
       "[\"['Topic 0'\", \" 'Topic 1'\", \" 'Topic 2']\"]"
      ]
     },
     "execution_count": 30,
     "metadata": {},
     "output_type": "execute_result"
    }
   ],
   "source": [
    "rel_ans.iloc[1]['2'].split(',')"
   ]
  },
  {
   "cell_type": "code",
   "execution_count": 44,
   "metadata": {},
   "outputs": [
    {
     "data": {
      "text/plain": [
       "58276538.0"
      ]
     },
     "execution_count": 44,
     "metadata": {},
     "output_type": "execute_result"
    }
   ],
   "source": [
    "rel_ans['0'].iloc[0]"
   ]
  },
  {
   "cell_type": "code",
   "execution_count": 66,
   "metadata": {},
   "outputs": [
    {
     "data": {
      "text/plain": [
       "7728    how to merge two dictionaries with different k...\n",
       "Name: title, dtype: object"
      ]
     },
     "execution_count": 66,
     "metadata": {},
     "output_type": "execute_result"
    }
   ],
   "source": []
  },
  {
   "cell_type": "code",
   "execution_count": 51,
   "metadata": {},
   "outputs": [
    {
     "data": {
      "text/plain": [
       "0"
      ]
     },
     "execution_count": 51,
     "metadata": {},
     "output_type": "execute_result"
    }
   ],
   "source": []
  },
  {
   "cell_type": "code",
   "execution_count": 65,
   "metadata": {},
   "outputs": [],
   "source": [
    "c = df[df['id']==rel_ans['0'].iloc[i]]['title']"
   ]
  },
  {
   "cell_type": "code",
   "execution_count": 63,
   "metadata": {},
   "outputs": [],
   "source": [
    "df_list.append(c)"
   ]
  },
  {
   "cell_type": "code",
   "execution_count": 64,
   "metadata": {},
   "outputs": [
    {
     "data": {
      "text/plain": [
       "[7728    how to merge two dictionaries with different k...\n",
       " Name: title, dtype: object]"
      ]
     },
     "execution_count": 64,
     "metadata": {},
     "output_type": "execute_result"
    }
   ],
   "source": [
    "df_list"
   ]
  },
  {
   "cell_type": "code",
   "execution_count": null,
   "metadata": {},
   "outputs": [],
   "source": []
  }
 ],
 "metadata": {
  "kernelspec": {
   "display_name": "Python 3",
   "language": "python",
   "name": "python3"
  },
  "language_info": {
   "codemirror_mode": {
    "name": "ipython",
    "version": 3
   },
   "file_extension": ".py",
   "mimetype": "text/x-python",
   "name": "python",
   "nbconvert_exporter": "python",
   "pygments_lexer": "ipython3",
   "version": "3.7.4"
  }
 },
 "nbformat": 4,
 "nbformat_minor": 2
}
