{
 "cells": [
  {
   "cell_type": "markdown",
   "id": "looking-configuration",
   "metadata": {},
   "source": [
    "## Data Extraction\n",
    "<hr>\n",
    "Getting data from stackoverflow public dataset in Google BigQuery"
   ]
  },
  {
   "cell_type": "code",
   "execution_count": null,
   "id": "existing-behalf",
   "metadata": {},
   "outputs": [],
   "source": [
    "import os\n",
    "import pandas as pd\n",
    "from bq_helper import BigQueryHelper\n",
    "\n",
    "os.environ[\"GOOGLE_APPLICATION_CREDENTIALS\"]=\"credentials.json\"\n",
    "bq_assistant = BigQueryHelper(\"bigquery-public-data\", \"stackoverflow\")\n",
    "\n",
    "QUERY = \"SELECT q.id, q.title, q.body, q.tags, a.body, a.id as answers, a.score FROM `bigquery-public-data.stackoverflow.posts_questions` AS q INNER JOIN `bigquery-public-data.stackoverflow.posts_answers` AS a ON q.id = a.parent_id WHERE q.tags LIKE '%python%' LIMIT 100000\"\n",
    "\n",
    "df = bq_assistant.query_to_pandas(QUERY)"
   ]
  },
  {
   "cell_type": "code",
   "execution_count": null,
   "id": "handed-insertion",
   "metadata": {},
   "outputs": [],
   "source": [
    "df[0:20000].to_csv('data/original_data1.csv')\n",
    "df[20000:40000].to_csv('data/original_data2.csv')\n",
    "df[40000:60000].to_csv('data/original_data3.csv')\n",
    "df[60000:80000].to_csv('data/original_data4.csv')\n",
    "df[80000:100000].to_csv('data/original_data5.csv')"
   ]
  }
 ],
 "metadata": {
  "kernelspec": {
   "display_name": "Python 3",
   "language": "python",
   "name": "python3"
  },
  "language_info": {
   "codemirror_mode": {
    "name": "ipython",
    "version": 3
   },
   "file_extension": ".py",
   "mimetype": "text/x-python",
   "name": "python",
   "nbconvert_exporter": "python",
   "pygments_lexer": "ipython3",
   "version": "3.8.5"
  }
 },
 "nbformat": 4,
 "nbformat_minor": 5
}
