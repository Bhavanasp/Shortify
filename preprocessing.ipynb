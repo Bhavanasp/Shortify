{
 "cells": [
  {
   "cell_type": "code",
   "execution_count": 14,
   "metadata": {},
   "outputs": [],
   "source": [
    "import numpy as np\n",
    "import pandas as pd"
   ]
  },
  {
   "cell_type": "code",
   "execution_count": 15,
   "metadata": {},
   "outputs": [],
   "source": [
    "df1 = pd.read_csv('data/original_data1.csv')\n",
    "df2 = pd.read_csv('data/original_data2.csv')\n",
    "df3 = pd.read_csv('data/original_data3.csv')\n",
    "df4 = pd.read_csv('data/original_data4.csv')\n",
    "df5 = pd.read_csv('data/original_data5.csv')"
   ]
  },
  {
   "cell_type": "code",
   "execution_count": 16,
   "metadata": {},
   "outputs": [],
   "source": [
    "df = pd.concat([df1,df2,df3,df4], axis=0)"
   ]
  },
  {
   "cell_type": "code",
   "execution_count": 17,
   "metadata": {},
   "outputs": [
    {
     "data": {
      "text/plain": [
       "47061"
      ]
     },
     "execution_count": 17,
     "metadata": {},
     "output_type": "execute_result"
    }
   ],
   "source": [
    "#No. of unique questions\n",
    "df['title'].nunique()"
   ]
  },
  {
   "cell_type": "code",
   "execution_count": 18,
   "metadata": {},
   "outputs": [
    {
     "data": {
      "text/plain": [
       "79999"
      ]
     },
     "execution_count": 18,
     "metadata": {},
     "output_type": "execute_result"
    }
   ],
   "source": [
    "#No. of unique answer strings\n",
    "df['answers'].nunique()"
   ]
  },
  {
   "cell_type": "code",
   "execution_count": 19,
   "metadata": {},
   "outputs": [
    {
     "name": "stdout",
     "output_type": "stream",
     "text": [
      "No missing values\n"
     ]
    }
   ],
   "source": [
    "#Checks for Nan values and removes the rows\n",
    "null_rows = df[df.isnull().any(axis = 1)]\n",
    "if null_rows.empty:\n",
    "    print(\"No missing values\")\n",
    "else: \n",
    "    df.dropna(inplace =  True)"
   ]
  },
  {
   "cell_type": "code",
   "execution_count": 20,
   "metadata": {},
   "outputs": [],
   "source": [
    "#data for relevance algorithm\n",
    "data_rel = df[['id','title','body']]\n",
    "#data for calculation algorithm\n",
    "data_cal = df[['id', 'tags', 'answers']]"
   ]
  },
  {
   "cell_type": "code",
   "execution_count": 21,
   "metadata": {},
   "outputs": [],
   "source": [
    "col_list = []\n",
    "for col in df.columns:\n",
    "    if(df[col].dtype=='O'):\n",
    "        col_list.append(col)"
   ]
  },
  {
   "cell_type": "code",
   "execution_count": 22,
   "metadata": {},
   "outputs": [],
   "source": [
    "def lemmatized_text(col_list):\n",
    "    for col in col_list:\n",
    "        df[col]=df[col].str.lower()"
   ]
  },
  {
   "cell_type": "code",
   "execution_count": 23,
   "metadata": {},
   "outputs": [
    {
     "data": {
      "text/html": [
       "<div>\n",
       "<style scoped>\n",
       "    .dataframe tbody tr th:only-of-type {\n",
       "        vertical-align: middle;\n",
       "    }\n",
       "\n",
       "    .dataframe tbody tr th {\n",
       "        vertical-align: top;\n",
       "    }\n",
       "\n",
       "    .dataframe thead th {\n",
       "        text-align: right;\n",
       "    }\n",
       "</style>\n",
       "<table border=\"1\" class=\"dataframe\">\n",
       "  <thead>\n",
       "    <tr style=\"text-align: right;\">\n",
       "      <th></th>\n",
       "      <th>id</th>\n",
       "      <th>title</th>\n",
       "      <th>body</th>\n",
       "      <th>tags</th>\n",
       "      <th>answers</th>\n",
       "      <th>score</th>\n",
       "    </tr>\n",
       "  </thead>\n",
       "  <tbody>\n",
       "    <tr>\n",
       "      <td>0</td>\n",
       "      <td>62766758</td>\n",
       "      <td>How to fix Python error \"...failed to map segm...</td>\n",
       "      <td>&lt;p&gt;I've recently started to use Google Cloud P...</td>\n",
       "      <td>python-3.x|pandas|shell|numpy|google-cloud-pla...</td>\n",
       "      <td>&lt;p&gt;Container-Optimized OS (COS) has several li...</td>\n",
       "      <td>1</td>\n",
       "    </tr>\n",
       "    <tr>\n",
       "      <td>1</td>\n",
       "      <td>62766758</td>\n",
       "      <td>How to fix Python error \"...failed to map segm...</td>\n",
       "      <td>&lt;p&gt;I've recently started to use Google Cloud P...</td>\n",
       "      <td>python-3.x|pandas|shell|numpy|google-cloud-pla...</td>\n",
       "      <td>&lt;p&gt;I'm pretty sure that in case of Python libr...</td>\n",
       "      <td>0</td>\n",
       "    </tr>\n",
       "    <tr>\n",
       "      <td>2</td>\n",
       "      <td>62742938</td>\n",
       "      <td>Wrapper for 'python -m' command</td>\n",
       "      <td>&lt;p&gt;I have a package with following structure:&lt;...</td>\n",
       "      <td>python|modulenotfounderror</td>\n",
       "      <td>&lt;p&gt;The standard library has a module &lt;a href=\"...</td>\n",
       "      <td>1</td>\n",
       "    </tr>\n",
       "    <tr>\n",
       "      <td>3</td>\n",
       "      <td>62741826</td>\n",
       "      <td>How can I improve the speed of pandas rows ope...</td>\n",
       "      <td>&lt;p&gt;I have a large .csv file that has 11'000'00...</td>\n",
       "      <td>python|pandas|performance|data-science</td>\n",
       "      <td>&lt;p&gt;Hello and welcome to StackOverflow.&lt;/p&gt;\\r\\n...</td>\n",
       "      <td>1</td>\n",
       "    </tr>\n",
       "    <tr>\n",
       "      <td>4</td>\n",
       "      <td>62741826</td>\n",
       "      <td>How can I improve the speed of pandas rows ope...</td>\n",
       "      <td>&lt;p&gt;I have a large .csv file that has 11'000'00...</td>\n",
       "      <td>python|pandas|performance|data-science</td>\n",
       "      <td>&lt;p&gt;I guess you want to &lt;code&gt;groupby&lt;/code&gt; an...</td>\n",
       "      <td>0</td>\n",
       "    </tr>\n",
       "    <tr>\n",
       "      <td>...</td>\n",
       "      <td>...</td>\n",
       "      <td>...</td>\n",
       "      <td>...</td>\n",
       "      <td>...</td>\n",
       "      <td>...</td>\n",
       "      <td>...</td>\n",
       "    </tr>\n",
       "    <tr>\n",
       "      <td>19995</td>\n",
       "      <td>36463722</td>\n",
       "      <td>How do I install SIP makefile to use PyQt?</td>\n",
       "      <td>&lt;p&gt;I want to install sip to use with PyQt.&lt;/p&gt;...</td>\n",
       "      <td>python|c++|windows|makefile</td>\n",
       "      <td>&lt;p&gt;So I've found the correct way to use make. ...</td>\n",
       "      <td>0</td>\n",
       "    </tr>\n",
       "    <tr>\n",
       "      <td>19996</td>\n",
       "      <td>36402632</td>\n",
       "      <td>How can I order a list of dictionaries based o...</td>\n",
       "      <td>&lt;p&gt;I have some ids as follows:&lt;/p&gt;\\r\\n\\r\\n&lt;pre...</td>\n",
       "      <td>python|sorting</td>\n",
       "      <td>&lt;pre&gt;&lt;code&gt;&amp;gt;&amp;gt;&amp;gt; map({d['id']: d for d ...</td>\n",
       "      <td>2</td>\n",
       "    </tr>\n",
       "    <tr>\n",
       "      <td>19997</td>\n",
       "      <td>36402632</td>\n",
       "      <td>How can I order a list of dictionaries based o...</td>\n",
       "      <td>&lt;p&gt;I have some ids as follows:&lt;/p&gt;\\r\\n\\r\\n&lt;pre...</td>\n",
       "      <td>python|sorting</td>\n",
       "      <td>&lt;p&gt;If you &lt;em&gt;must&lt;/em&gt; sort, map the keys to ...</td>\n",
       "      <td>5</td>\n",
       "    </tr>\n",
       "    <tr>\n",
       "      <td>19998</td>\n",
       "      <td>36362027</td>\n",
       "      <td>the clean method does not return all fields fr...</td>\n",
       "      <td>&lt;ol&gt;\\r\\n&lt;li&gt;&lt;p&gt;in the moment i have a issue re...</td>\n",
       "      <td>python|django</td>\n",
       "      <td>&lt;p&gt;Try this and tell me if works:&lt;/p&gt;\\r\\n\\r\\n&lt;...</td>\n",
       "      <td>0</td>\n",
       "    </tr>\n",
       "    <tr>\n",
       "      <td>19999</td>\n",
       "      <td>36420217</td>\n",
       "      <td>Output of score function for model in sklearn</td>\n",
       "      <td>&lt;p&gt;I am trying to evaluate the performance of ...</td>\n",
       "      <td>python|python-3.x|scikit-learn</td>\n",
       "      <td>&lt;p&gt;The &lt;a href=\"http://scikit-learn.org/stable...</td>\n",
       "      <td>0</td>\n",
       "    </tr>\n",
       "  </tbody>\n",
       "</table>\n",
       "<p>80000 rows × 6 columns</p>\n",
       "</div>"
      ],
      "text/plain": [
       "             id                                              title  \\\n",
       "0      62766758  How to fix Python error \"...failed to map segm...   \n",
       "1      62766758  How to fix Python error \"...failed to map segm...   \n",
       "2      62742938                    Wrapper for 'python -m' command   \n",
       "3      62741826  How can I improve the speed of pandas rows ope...   \n",
       "4      62741826  How can I improve the speed of pandas rows ope...   \n",
       "...         ...                                                ...   \n",
       "19995  36463722         How do I install SIP makefile to use PyQt?   \n",
       "19996  36402632  How can I order a list of dictionaries based o...   \n",
       "19997  36402632  How can I order a list of dictionaries based o...   \n",
       "19998  36362027  the clean method does not return all fields fr...   \n",
       "19999  36420217      Output of score function for model in sklearn   \n",
       "\n",
       "                                                    body  \\\n",
       "0      <p>I've recently started to use Google Cloud P...   \n",
       "1      <p>I've recently started to use Google Cloud P...   \n",
       "2      <p>I have a package with following structure:<...   \n",
       "3      <p>I have a large .csv file that has 11'000'00...   \n",
       "4      <p>I have a large .csv file that has 11'000'00...   \n",
       "...                                                  ...   \n",
       "19995  <p>I want to install sip to use with PyQt.</p>...   \n",
       "19996  <p>I have some ids as follows:</p>\\r\\n\\r\\n<pre...   \n",
       "19997  <p>I have some ids as follows:</p>\\r\\n\\r\\n<pre...   \n",
       "19998  <ol>\\r\\n<li><p>in the moment i have a issue re...   \n",
       "19999  <p>I am trying to evaluate the performance of ...   \n",
       "\n",
       "                                                    tags  \\\n",
       "0      python-3.x|pandas|shell|numpy|google-cloud-pla...   \n",
       "1      python-3.x|pandas|shell|numpy|google-cloud-pla...   \n",
       "2                             python|modulenotfounderror   \n",
       "3                 python|pandas|performance|data-science   \n",
       "4                 python|pandas|performance|data-science   \n",
       "...                                                  ...   \n",
       "19995                        python|c++|windows|makefile   \n",
       "19996                                     python|sorting   \n",
       "19997                                     python|sorting   \n",
       "19998                                      python|django   \n",
       "19999                     python|python-3.x|scikit-learn   \n",
       "\n",
       "                                                 answers  score  \n",
       "0      <p>Container-Optimized OS (COS) has several li...      1  \n",
       "1      <p>I'm pretty sure that in case of Python libr...      0  \n",
       "2      <p>The standard library has a module <a href=\"...      1  \n",
       "3      <p>Hello and welcome to StackOverflow.</p>\\r\\n...      1  \n",
       "4      <p>I guess you want to <code>groupby</code> an...      0  \n",
       "...                                                  ...    ...  \n",
       "19995  <p>So I've found the correct way to use make. ...      0  \n",
       "19996  <pre><code>&gt;&gt;&gt; map({d['id']: d for d ...      2  \n",
       "19997  <p>If you <em>must</em> sort, map the keys to ...      5  \n",
       "19998  <p>Try this and tell me if works:</p>\\r\\n\\r\\n<...      0  \n",
       "19999  <p>The <a href=\"http://scikit-learn.org/stable...      0  \n",
       "\n",
       "[80000 rows x 6 columns]"
      ]
     },
     "execution_count": 23,
     "metadata": {},
     "output_type": "execute_result"
    }
   ],
   "source": [
    "df.drop('Unnamed: 0', axis=1)"
   ]
  },
  {
   "cell_type": "code",
   "execution_count": 24,
   "metadata": {},
   "outputs": [],
   "source": [
    "df.to_csv('data/data_corpus.csv')"
   ]
  }
 ],
 "metadata": {
  "kernelspec": {
   "display_name": "Python 3",
   "language": "python",
   "name": "python3"
  },
  "language_info": {
   "codemirror_mode": {
    "name": "ipython",
    "version": 3
   },
   "file_extension": ".py",
   "mimetype": "text/x-python",
   "name": "python",
   "nbconvert_exporter": "python",
   "pygments_lexer": "ipython3",
   "version": "3.7.4"
  }
 },
 "nbformat": 4,
 "nbformat_minor": 2
}
