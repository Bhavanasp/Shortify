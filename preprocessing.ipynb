{
 "cells": [
  {
   "cell_type": "code",
   "execution_count": 1,
   "metadata": {},
   "outputs": [],
   "source": [
    "import numpy as np\n",
    "import pandas as pd"
   ]
  },
  {
   "cell_type": "code",
   "execution_count": 2,
   "metadata": {},
   "outputs": [],
   "source": [
    "df1 = pd.read_csv('data/original_data1.csv')\n",
    "df2 = pd.read_csv('data/original_data2.csv')\n",
    "df3 = pd.read_csv('data/original_data3.csv')\n",
    "df4 = pd.read_csv('data/original_data4.csv')\n",
    "df5 = pd.read_csv('data/original_data5.csv')"
   ]
  },
  {
   "cell_type": "code",
   "execution_count": 6,
   "metadata": {},
   "outputs": [],
   "source": [
    "df = pd.concat([df1,df2,df3,df4,df5], axis=0)"
   ]
  },
  {
   "cell_type": "code",
   "execution_count": 31,
   "metadata": {},
   "outputs": [
    {
     "data": {
      "text/plain": [
       "58887"
      ]
     },
     "execution_count": 31,
     "metadata": {},
     "output_type": "execute_result"
    }
   ],
   "source": [
    "#No. of unique questions\n",
    "df['id'].nunique()"
   ]
  },
  {
   "cell_type": "code",
   "execution_count": 9,
   "metadata": {},
   "outputs": [
    {
     "name": "stdout",
     "output_type": "stream",
     "text": [
      "No missing values\n"
     ]
    }
   ],
   "source": [
    "#Checks for Nan values and removes the rows\n",
    "null_rows = df[df.isnull().any(axis = 1)]\n",
    "if null_rows.empty:\n",
    "    print(\"No missing values\")\n",
    "else: \n",
    "    df.dropna(inplace =  True)"
   ]
  },
  {
   "cell_type": "code",
   "execution_count": 18,
   "metadata": {},
   "outputs": [],
   "source": [
    "#Checks for duplicates and drops them\n",
    "df.drop_duplicates(keep = 'first', inplace = True)"
   ]
  },
  {
   "cell_type": "code",
   "execution_count": 19,
   "metadata": {},
   "outputs": [],
   "source": [
    "#data for relevance algorithm\n",
    "data_rel = df[['id','title','body']]\n",
    "#data for calculation algorithm\n",
    "data_cal = df[['id', 'tags', 'answers']]"
   ]
  },
  {
   "cell_type": "code",
   "execution_count": 20,
   "metadata": {},
   "outputs": [],
   "source": [
    "col_list = []\n",
    "for col in df.columns:\n",
    "    if(df[col].dtype=='O'):\n",
    "        col_list.append(col)"
   ]
  },
  {
   "cell_type": "code",
   "execution_count": 21,
   "metadata": {},
   "outputs": [],
   "source": [
    "def lemmatized_text(col_list):\n",
    "    for col in col_list:\n",
    "        df[col]=df[col].str.lower()"
   ]
  },
  {
   "cell_type": "code",
   "execution_count": 22,
   "metadata": {},
   "outputs": [
    {
     "data": {
      "text/html": [
       "<div>\n",
       "<style scoped>\n",
       "    .dataframe tbody tr th:only-of-type {\n",
       "        vertical-align: middle;\n",
       "    }\n",
       "\n",
       "    .dataframe tbody tr th {\n",
       "        vertical-align: top;\n",
       "    }\n",
       "\n",
       "    .dataframe thead th {\n",
       "        text-align: right;\n",
       "    }\n",
       "</style>\n",
       "<table border=\"1\" class=\"dataframe\">\n",
       "  <thead>\n",
       "    <tr style=\"text-align: right;\">\n",
       "      <th></th>\n",
       "      <th>id</th>\n",
       "      <th>title</th>\n",
       "      <th>body</th>\n",
       "      <th>tags</th>\n",
       "      <th>answers</th>\n",
       "      <th>score</th>\n",
       "    </tr>\n",
       "  </thead>\n",
       "  <tbody>\n",
       "    <tr>\n",
       "      <td>0</td>\n",
       "      <td>62766758</td>\n",
       "      <td>How to fix Python error \"...failed to map segm...</td>\n",
       "      <td>&lt;p&gt;I've recently started to use Google Cloud P...</td>\n",
       "      <td>python-3.x|pandas|shell|numpy|google-cloud-pla...</td>\n",
       "      <td>&lt;p&gt;Container-Optimized OS (COS) has several li...</td>\n",
       "      <td>1</td>\n",
       "    </tr>\n",
       "    <tr>\n",
       "      <td>1</td>\n",
       "      <td>62766758</td>\n",
       "      <td>How to fix Python error \"...failed to map segm...</td>\n",
       "      <td>&lt;p&gt;I've recently started to use Google Cloud P...</td>\n",
       "      <td>python-3.x|pandas|shell|numpy|google-cloud-pla...</td>\n",
       "      <td>&lt;p&gt;I'm pretty sure that in case of Python libr...</td>\n",
       "      <td>0</td>\n",
       "    </tr>\n",
       "    <tr>\n",
       "      <td>2</td>\n",
       "      <td>62742938</td>\n",
       "      <td>Wrapper for 'python -m' command</td>\n",
       "      <td>&lt;p&gt;I have a package with following structure:&lt;...</td>\n",
       "      <td>python|modulenotfounderror</td>\n",
       "      <td>&lt;p&gt;The standard library has a module &lt;a href=\"...</td>\n",
       "      <td>1</td>\n",
       "    </tr>\n",
       "    <tr>\n",
       "      <td>3</td>\n",
       "      <td>62741826</td>\n",
       "      <td>How can I improve the speed of pandas rows ope...</td>\n",
       "      <td>&lt;p&gt;I have a large .csv file that has 11'000'00...</td>\n",
       "      <td>python|pandas|performance|data-science</td>\n",
       "      <td>&lt;p&gt;Hello and welcome to StackOverflow.&lt;/p&gt;\\r\\n...</td>\n",
       "      <td>1</td>\n",
       "    </tr>\n",
       "    <tr>\n",
       "      <td>4</td>\n",
       "      <td>62741826</td>\n",
       "      <td>How can I improve the speed of pandas rows ope...</td>\n",
       "      <td>&lt;p&gt;I have a large .csv file that has 11'000'00...</td>\n",
       "      <td>python|pandas|performance|data-science</td>\n",
       "      <td>&lt;p&gt;I guess you want to &lt;code&gt;groupby&lt;/code&gt; an...</td>\n",
       "      <td>0</td>\n",
       "    </tr>\n",
       "    <tr>\n",
       "      <td>...</td>\n",
       "      <td>...</td>\n",
       "      <td>...</td>\n",
       "      <td>...</td>\n",
       "      <td>...</td>\n",
       "      <td>...</td>\n",
       "      <td>...</td>\n",
       "    </tr>\n",
       "    <tr>\n",
       "      <td>19995</td>\n",
       "      <td>35898687</td>\n",
       "      <td>Adding column to PySpark DataFrame depending o...</td>\n",
       "      <td>&lt;p&gt;I have a PySpark DataFrame with structure g...</td>\n",
       "      <td>python|apache-spark|pyspark|apache-spark-sql</td>\n",
       "      <td>&lt;p&gt;Just for fun non-UDF solution:&lt;/p&gt;\\r\\n\\r\\n&lt;...</td>\n",
       "      <td>3</td>\n",
       "    </tr>\n",
       "    <tr>\n",
       "      <td>19996</td>\n",
       "      <td>35898687</td>\n",
       "      <td>Adding column to PySpark DataFrame depending o...</td>\n",
       "      <td>&lt;p&gt;I have a PySpark DataFrame with structure g...</td>\n",
       "      <td>python|apache-spark|pyspark|apache-spark-sql</td>\n",
       "      <td>&lt;p&gt;The following code does the requested task....</td>\n",
       "      <td>7</td>\n",
       "    </tr>\n",
       "    <tr>\n",
       "      <td>19997</td>\n",
       "      <td>35937882</td>\n",
       "      <td>Simple Window using TkInter</td>\n",
       "      <td>&lt;p&gt;I'm new to &lt;code&gt;TkInter&lt;/code&gt; and using P...</td>\n",
       "      <td>python|python-2.7|user-interface|tkinter</td>\n",
       "      <td>&lt;p&gt;At the end of your code, just add &lt;code&gt;win...</td>\n",
       "      <td>2</td>\n",
       "    </tr>\n",
       "    <tr>\n",
       "      <td>19998</td>\n",
       "      <td>35937882</td>\n",
       "      <td>Simple Window using TkInter</td>\n",
       "      <td>&lt;p&gt;I'm new to &lt;code&gt;TkInter&lt;/code&gt; and using P...</td>\n",
       "      <td>python|python-2.7|user-interface|tkinter</td>\n",
       "      <td>&lt;p&gt;You didn't do a &lt;/p&gt;\\r\\n\\r\\n&lt;pre&gt;&lt;code&gt;wind...</td>\n",
       "      <td>5</td>\n",
       "    </tr>\n",
       "    <tr>\n",
       "      <td>19999</td>\n",
       "      <td>35733050</td>\n",
       "      <td>Python Parsing XML with a complex hierarchy - ...</td>\n",
       "      <td>&lt;p&gt;I am working with NukeX9.0v8, Adobe Premier...</td>\n",
       "      <td>python|xml|virtual-reality|nuke|adobe-premiere</td>\n",
       "      <td>&lt;p&gt;Whenever faced with a complex XML, consider...</td>\n",
       "      <td>0</td>\n",
       "    </tr>\n",
       "  </tbody>\n",
       "</table>\n",
       "<p>100000 rows × 6 columns</p>\n",
       "</div>"
      ],
      "text/plain": [
       "             id                                              title  \\\n",
       "0      62766758  How to fix Python error \"...failed to map segm...   \n",
       "1      62766758  How to fix Python error \"...failed to map segm...   \n",
       "2      62742938                    Wrapper for 'python -m' command   \n",
       "3      62741826  How can I improve the speed of pandas rows ope...   \n",
       "4      62741826  How can I improve the speed of pandas rows ope...   \n",
       "...         ...                                                ...   \n",
       "19995  35898687  Adding column to PySpark DataFrame depending o...   \n",
       "19996  35898687  Adding column to PySpark DataFrame depending o...   \n",
       "19997  35937882                        Simple Window using TkInter   \n",
       "19998  35937882                        Simple Window using TkInter   \n",
       "19999  35733050  Python Parsing XML with a complex hierarchy - ...   \n",
       "\n",
       "                                                    body  \\\n",
       "0      <p>I've recently started to use Google Cloud P...   \n",
       "1      <p>I've recently started to use Google Cloud P...   \n",
       "2      <p>I have a package with following structure:<...   \n",
       "3      <p>I have a large .csv file that has 11'000'00...   \n",
       "4      <p>I have a large .csv file that has 11'000'00...   \n",
       "...                                                  ...   \n",
       "19995  <p>I have a PySpark DataFrame with structure g...   \n",
       "19996  <p>I have a PySpark DataFrame with structure g...   \n",
       "19997  <p>I'm new to <code>TkInter</code> and using P...   \n",
       "19998  <p>I'm new to <code>TkInter</code> and using P...   \n",
       "19999  <p>I am working with NukeX9.0v8, Adobe Premier...   \n",
       "\n",
       "                                                    tags  \\\n",
       "0      python-3.x|pandas|shell|numpy|google-cloud-pla...   \n",
       "1      python-3.x|pandas|shell|numpy|google-cloud-pla...   \n",
       "2                             python|modulenotfounderror   \n",
       "3                 python|pandas|performance|data-science   \n",
       "4                 python|pandas|performance|data-science   \n",
       "...                                                  ...   \n",
       "19995       python|apache-spark|pyspark|apache-spark-sql   \n",
       "19996       python|apache-spark|pyspark|apache-spark-sql   \n",
       "19997           python|python-2.7|user-interface|tkinter   \n",
       "19998           python|python-2.7|user-interface|tkinter   \n",
       "19999     python|xml|virtual-reality|nuke|adobe-premiere   \n",
       "\n",
       "                                                 answers  score  \n",
       "0      <p>Container-Optimized OS (COS) has several li...      1  \n",
       "1      <p>I'm pretty sure that in case of Python libr...      0  \n",
       "2      <p>The standard library has a module <a href=\"...      1  \n",
       "3      <p>Hello and welcome to StackOverflow.</p>\\r\\n...      1  \n",
       "4      <p>I guess you want to <code>groupby</code> an...      0  \n",
       "...                                                  ...    ...  \n",
       "19995  <p>Just for fun non-UDF solution:</p>\\r\\n\\r\\n<...      3  \n",
       "19996  <p>The following code does the requested task....      7  \n",
       "19997  <p>At the end of your code, just add <code>win...      2  \n",
       "19998  <p>You didn't do a </p>\\r\\n\\r\\n<pre><code>wind...      5  \n",
       "19999  <p>Whenever faced with a complex XML, consider...      0  \n",
       "\n",
       "[100000 rows x 6 columns]"
      ]
     },
     "execution_count": 22,
     "metadata": {},
     "output_type": "execute_result"
    }
   ],
   "source": [
    "df.drop('Unnamed: 0', axis=1)"
   ]
  },
  {
   "cell_type": "code",
   "execution_count": 14,
   "metadata": {},
   "outputs": [],
   "source": [
    "#df.to_csv('data/data_corpus.csv')"
   ]
  },
  {
   "cell_type": "code",
   "execution_count": null,
   "metadata": {},
   "outputs": [],
   "source": []
  }
 ],
 "metadata": {
  "kernelspec": {
   "display_name": "Python 3",
   "language": "python",
   "name": "python3"
  },
  "language_info": {
   "codemirror_mode": {
    "name": "ipython",
    "version": 3
   },
   "file_extension": ".py",
   "mimetype": "text/x-python",
   "name": "python",
   "nbconvert_exporter": "python",
   "pygments_lexer": "ipython3",
   "version": "3.7.4"
  }
 },
 "nbformat": 4,
 "nbformat_minor": 2
}
