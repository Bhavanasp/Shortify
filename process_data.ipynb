{
 "cells": [
  {
   "cell_type": "markdown",
   "metadata": {},
   "source": [
    "#  Data cleaning and processing\n",
    "<hr>\n",
    "Analysis, cleaning and processing of the original data files is done here"
   ]
  },
  {
   "cell_type": "code",
   "execution_count": 4,
   "metadata": {},
   "outputs": [],
   "source": [
    "import pandas as pd\n",
    "import numpy as np\n",
    "import spacy"
   ]
  },
  {
   "cell_type": "markdown",
   "metadata": {},
   "source": [
    "##  Load data\n",
    "<hr>"
   ]
  },
  {
   "cell_type": "code",
   "execution_count": 15,
   "metadata": {},
   "outputs": [
    {
     "data": {
      "text/html": [
       "<div>\n",
       "<style scoped>\n",
       "    .dataframe tbody tr th:only-of-type {\n",
       "        vertical-align: middle;\n",
       "    }\n",
       "\n",
       "    .dataframe tbody tr th {\n",
       "        vertical-align: top;\n",
       "    }\n",
       "\n",
       "    .dataframe thead th {\n",
       "        text-align: right;\n",
       "    }\n",
       "</style>\n",
       "<table border=\"1\" class=\"dataframe\">\n",
       "  <thead>\n",
       "    <tr style=\"text-align: right;\">\n",
       "      <th></th>\n",
       "      <th>id</th>\n",
       "      <th>title</th>\n",
       "      <th>body</th>\n",
       "      <th>tags</th>\n",
       "      <th>answers</th>\n",
       "      <th>score</th>\n",
       "    </tr>\n",
       "  </thead>\n",
       "  <tbody>\n",
       "    <tr>\n",
       "      <th>0</th>\n",
       "      <td>62766758</td>\n",
       "      <td>How to fix Python error \"...failed to map segm...</td>\n",
       "      <td>&lt;p&gt;I've recently started to use Google Cloud P...</td>\n",
       "      <td>python-3.x|pandas|shell|numpy|google-cloud-pla...</td>\n",
       "      <td>&lt;p&gt;Container-Optimized OS (COS) has several li...</td>\n",
       "      <td>1</td>\n",
       "    </tr>\n",
       "    <tr>\n",
       "      <th>1</th>\n",
       "      <td>62766758</td>\n",
       "      <td>How to fix Python error \"...failed to map segm...</td>\n",
       "      <td>&lt;p&gt;I've recently started to use Google Cloud P...</td>\n",
       "      <td>python-3.x|pandas|shell|numpy|google-cloud-pla...</td>\n",
       "      <td>&lt;p&gt;I'm pretty sure that in case of Python libr...</td>\n",
       "      <td>0</td>\n",
       "    </tr>\n",
       "    <tr>\n",
       "      <th>2</th>\n",
       "      <td>62742938</td>\n",
       "      <td>Wrapper for 'python -m' command</td>\n",
       "      <td>&lt;p&gt;I have a package with following structure:&lt;...</td>\n",
       "      <td>python|modulenotfounderror</td>\n",
       "      <td>&lt;p&gt;The standard library has a module &lt;a href=\"...</td>\n",
       "      <td>1</td>\n",
       "    </tr>\n",
       "    <tr>\n",
       "      <th>3</th>\n",
       "      <td>62741826</td>\n",
       "      <td>How can I improve the speed of pandas rows ope...</td>\n",
       "      <td>&lt;p&gt;I have a large .csv file that has 11'000'00...</td>\n",
       "      <td>python|pandas|performance|data-science</td>\n",
       "      <td>&lt;p&gt;Hello and welcome to StackOverflow.&lt;/p&gt;\\n&lt;p...</td>\n",
       "      <td>1</td>\n",
       "    </tr>\n",
       "    <tr>\n",
       "      <th>4</th>\n",
       "      <td>62741826</td>\n",
       "      <td>How can I improve the speed of pandas rows ope...</td>\n",
       "      <td>&lt;p&gt;I have a large .csv file that has 11'000'00...</td>\n",
       "      <td>python|pandas|performance|data-science</td>\n",
       "      <td>&lt;p&gt;I guess you want to &lt;code&gt;groupby&lt;/code&gt; an...</td>\n",
       "      <td>0</td>\n",
       "    </tr>\n",
       "  </tbody>\n",
       "</table>\n",
       "</div>"
      ],
      "text/plain": [
       "         id                                              title  \\\n",
       "0  62766758  How to fix Python error \"...failed to map segm...   \n",
       "1  62766758  How to fix Python error \"...failed to map segm...   \n",
       "2  62742938                    Wrapper for 'python -m' command   \n",
       "3  62741826  How can I improve the speed of pandas rows ope...   \n",
       "4  62741826  How can I improve the speed of pandas rows ope...   \n",
       "\n",
       "                                                body  \\\n",
       "0  <p>I've recently started to use Google Cloud P...   \n",
       "1  <p>I've recently started to use Google Cloud P...   \n",
       "2  <p>I have a package with following structure:<...   \n",
       "3  <p>I have a large .csv file that has 11'000'00...   \n",
       "4  <p>I have a large .csv file that has 11'000'00...   \n",
       "\n",
       "                                                tags  \\\n",
       "0  python-3.x|pandas|shell|numpy|google-cloud-pla...   \n",
       "1  python-3.x|pandas|shell|numpy|google-cloud-pla...   \n",
       "2                         python|modulenotfounderror   \n",
       "3             python|pandas|performance|data-science   \n",
       "4             python|pandas|performance|data-science   \n",
       "\n",
       "                                             answers  score  \n",
       "0  <p>Container-Optimized OS (COS) has several li...      1  \n",
       "1  <p>I'm pretty sure that in case of Python libr...      0  \n",
       "2  <p>The standard library has a module <a href=\"...      1  \n",
       "3  <p>Hello and welcome to StackOverflow.</p>\\n<p...      1  \n",
       "4  <p>I guess you want to <code>groupby</code> an...      0  "
      ]
     },
     "execution_count": 2,
     "metadata": {},
     "output_type": "execute_result"
    }
   ],
   "source": [
    "en = spacy.load('en_core_web_sm')\n",
    "\n",
    "#read dataset\n",
    "\n",
    "df1 = pd.read_csv('data/original_data1.csv')\n",
    "df2 = pd.read_csv('data/original_data2.csv')\n",
    "df3 = pd.read_csv('data/original_data3.csv')\n",
    "df4 = pd.read_csv('data/original_data4.csv')\n",
    "df5 = pd.read_csv('data/original_data5.csv')\n",
    "\n",
    "df = df1.append([df2, df3, df4, df5]).iloc[:, 1:]\n",
    "df.reset_index(inplace=True, drop=True)\n",
    "df.head()"
   ]
  },
  {
   "cell_type": "code",
   "execution_count": 16,
   "metadata": {},
   "outputs": [
    {
     "name": "stdout",
     "output_type": "stream",
     "text": [
      "Datebase shape:(100000, 6)\n"
     ]
    }
   ],
   "source": [
    "print('Datebase shape:' + str(df.shape))"
   ]
  },
  {
   "cell_type": "markdown",
   "metadata": {},
   "source": [
    "##  Missing values check\n",
    "<hr>"
   ]
  },
  {
   "cell_type": "code",
   "execution_count": 17,
   "metadata": {},
   "outputs": [
    {
     "data": {
      "text/plain": [
       "id         0\n",
       "title      0\n",
       "body       0\n",
       "tags       0\n",
       "answers    0\n",
       "score      0\n",
       "dtype: int64"
      ]
     },
     "execution_count": 4,
     "metadata": {},
     "output_type": "execute_result"
    }
   ],
   "source": [
    "df.isna().sum()"
   ]
  },
  {
   "cell_type": "markdown",
   "metadata": {},
   "source": [
    "##  Text processing\n",
    "<hr>\n",
    "Tokenization, lower the case, removing punctuations and stopwords"
   ]
  },
  {
   "cell_type": "code",
   "execution_count": 31,
   "metadata": {},
   "outputs": [
    {
     "name": "stderr",
     "output_type": "stream",
     "text": [
      "[nltk_data] Downloading package stopwords to\n",
      "[nltk_data]     C:\\Users\\Bhavana\\AppData\\Roaming\\nltk_data...\n",
      "[nltk_data]   Package stopwords is already up-to-date!\n"
     ]
    },
    {
     "data": {
      "text/plain": [
       "True"
      ]
     },
     "execution_count": 5,
     "metadata": {},
     "output_type": "execute_result"
    }
   ],
   "source": [
    "import re\n",
    "import nltk\n",
    "import inflect\n",
    "from nltk.corpus import stopwords\n",
    "\n",
    "import nltk\n",
    "nltk.download('stopwords')"
   ]
  },
  {
   "cell_type": "code",
   "execution_count": 32,
   "metadata": {},
   "outputs": [],
   "source": [
    "#tokenizer\n",
    "\n",
    "def tokenize(text):\n",
    "    tokens = en.tokenizer(text)\n",
    "    return [token.text.lower() for token in tokens if not token.is_space]"
   ]
  },
  {
   "cell_type": "code",
   "execution_count": 33,
   "metadata": {},
   "outputs": [
    {
     "name": "stdout",
     "output_type": "stream",
     "text": [
      "['what', 'is', 'the', 'difference', 'between', 'these', 'two', 'dataframes', '?']\n"
     ]
    }
   ],
   "source": [
    "print(tokenize(\"What is the difference between these two dataframes?\"))"
   ]
  },
  {
   "cell_type": "code",
   "execution_count": 34,
   "metadata": {},
   "outputs": [],
   "source": [
    "#remove punctuations\n",
    "\n",
    "def remove_punctuation(words):\n",
    "    new_words = []\n",
    "    for word in words:\n",
    "        new_word = re.sub(r'[^\\w\\s]', '', word)\n",
    "        if new_word != '':\n",
    "            new_words.append(new_word)\n",
    "    return new_words "
   ]
  },
  {
   "cell_type": "code",
   "execution_count": 35,
   "metadata": {},
   "outputs": [
    {
     "name": "stdout",
     "output_type": "stream",
     "text": [
      "['what', 'is', 'the', 'difference', 'between', 'these', 'two', 'dataframes']\n"
     ]
    }
   ],
   "source": [
    "print(remove_punctuation(tokenize(\"What is the difference between these two dataframes?\")))"
   ]
  },
  {
   "cell_type": "code",
   "execution_count": 36,
   "metadata": {},
   "outputs": [],
   "source": [
    "#remove stop words\n",
    "\n",
    "def remove_stopwords(words):\n",
    "    new_words = []\n",
    "    for word in words:\n",
    "        if word not in stopwords.words('english'):\n",
    "            new_words.append(word)\n",
    "    return new_words"
   ]
  },
  {
   "cell_type": "code",
   "execution_count": 37,
   "metadata": {},
   "outputs": [
    {
     "name": "stdout",
     "output_type": "stream",
     "text": [
      "['difference', 'two', 'dataframes']\n"
     ]
    }
   ],
   "source": [
    "print(remove_stopwords(remove_punctuation(tokenize(\"What is the difference between these two dataframes?\"))))"
   ]
  },
  {
   "cell_type": "code",
   "execution_count": 38,
   "metadata": {},
   "outputs": [],
   "source": [
    "def normalize(words):\n",
    "    words = remove_punctuation(words)\n",
    "    words = remove_stopwords(words)\n",
    "    return words"
   ]
  },
  {
   "cell_type": "code",
   "execution_count": 41,
   "metadata": {},
   "outputs": [],
   "source": [
    "def process_text(text):\n",
    "    return ' '.join(normalize(tokenize(text)))"
   ]
  },
  {
   "cell_type": "code",
   "execution_count": 42,
   "metadata": {},
   "outputs": [
    {
     "name": "stdout",
     "output_type": "stream",
     "text": [
      "difference two dataframes\n"
     ]
    }
   ],
   "source": [
    "print(process_text(\"What is the difference between these two dataframes?\"))"
   ]
  },
  {
   "cell_type": "markdown",
   "metadata": {},
   "source": [
    "## Database manipulation\n",
    "<hr>\n",
    "In the current database if a question has multiple answers then for each answer it is again listed as a seperate row. To simplify, all rows belonging to the same questions are merged. During the merge answers are concatenated and all the scores are summed up."
   ]
  },
  {
   "cell_type": "code",
   "execution_count": 15,
   "metadata": {},
   "outputs": [],
   "source": [
    "aggregations = {\n",
    "    'answers' : lambda x : '\\n'.join(x),\n",
    "    'score' : 'sum'\n",
    "}\n",
    "\n",
    "df_grouped = df.groupby(['id','title','body','tags'], as_index=False).agg(aggregations)\n",
    "dfm = pd.DataFrame(df_grouped)"
   ]
  },
  {
   "cell_type": "code",
   "execution_count": 16,
   "metadata": {},
   "outputs": [
    {
     "data": {
      "text/html": [
       "<div>\n",
       "<style scoped>\n",
       "    .dataframe tbody tr th:only-of-type {\n",
       "        vertical-align: middle;\n",
       "    }\n",
       "\n",
       "    .dataframe tbody tr th {\n",
       "        vertical-align: top;\n",
       "    }\n",
       "\n",
       "    .dataframe thead th {\n",
       "        text-align: right;\n",
       "    }\n",
       "</style>\n",
       "<table border=\"1\" class=\"dataframe\">\n",
       "  <thead>\n",
       "    <tr style=\"text-align: right;\">\n",
       "      <th></th>\n",
       "      <th>id</th>\n",
       "      <th>title</th>\n",
       "      <th>body</th>\n",
       "      <th>tags</th>\n",
       "      <th>answers</th>\n",
       "      <th>score</th>\n",
       "    </tr>\n",
       "  </thead>\n",
       "  <tbody>\n",
       "    <tr>\n",
       "      <th>0</th>\n",
       "      <td>21454</td>\n",
       "      <td>Specifying a mySQL ENUM in a Django model</td>\n",
       "      <td>&lt;p&gt;How do I go about specifying and using an E...</td>\n",
       "      <td>python|mysql|django|django-models|enums</td>\n",
       "      <td>&lt;p&gt;From the &lt;a href=\"https://docs.djangoprojec...</td>\n",
       "      <td>205</td>\n",
       "    </tr>\n",
       "    <tr>\n",
       "      <th>1</th>\n",
       "      <td>22059</td>\n",
       "      <td>How do content discovery engines, like Zemanta...</td>\n",
       "      <td>&lt;p&gt;I was wondering how as semantic service lik...</td>\n",
       "      <td>python|ruby|semantics|zemanta</td>\n",
       "      <td>&lt;p&gt;Michal Finkelstein from OpenCalais here.&lt;/p...</td>\n",
       "      <td>16</td>\n",
       "    </tr>\n",
       "    <tr>\n",
       "      <th>2</th>\n",
       "      <td>29856</td>\n",
       "      <td>Install Python to match directory layout in OS...</td>\n",
       "      <td>&lt;p&gt;The default Python install on OS X 10.5 is ...</td>\n",
       "      <td>python|macos|64-bit</td>\n",
       "      <td>&lt;p&gt;Hyposaurus,&lt;/p&gt;\\n\\n&lt;p&gt;It is possible to hav...</td>\n",
       "      <td>3</td>\n",
       "    </tr>\n",
       "    <tr>\n",
       "      <th>3</th>\n",
       "      <td>35569</td>\n",
       "      <td>Why does Python's iter() on a mapping return i...</td>\n",
       "      <td>&lt;p&gt;It seems like if you want to get the keys o...</td>\n",
       "      <td>python|mapping|iteration</td>\n",
       "      <td>&lt;p&gt;Check out &lt;a href=\"http://mail.python.org/p...</td>\n",
       "      <td>11</td>\n",
       "    </tr>\n",
       "    <tr>\n",
       "      <th>4</th>\n",
       "      <td>39960</td>\n",
       "      <td>Javascript equivalent of Python's locals()?</td>\n",
       "      <td>&lt;p&gt;In Python one can get a dictionary of all l...</td>\n",
       "      <td>javascript|python</td>\n",
       "      <td>&lt;p&gt;Well, I don't think that there is something...</td>\n",
       "      <td>23</td>\n",
       "    </tr>\n",
       "  </tbody>\n",
       "</table>\n",
       "</div>"
      ],
      "text/plain": [
       "      id                                              title  \\\n",
       "0  21454          Specifying a mySQL ENUM in a Django model   \n",
       "1  22059  How do content discovery engines, like Zemanta...   \n",
       "2  29856  Install Python to match directory layout in OS...   \n",
       "3  35569  Why does Python's iter() on a mapping return i...   \n",
       "4  39960        Javascript equivalent of Python's locals()?   \n",
       "\n",
       "                                                body  \\\n",
       "0  <p>How do I go about specifying and using an E...   \n",
       "1  <p>I was wondering how as semantic service lik...   \n",
       "2  <p>The default Python install on OS X 10.5 is ...   \n",
       "3  <p>It seems like if you want to get the keys o...   \n",
       "4  <p>In Python one can get a dictionary of all l...   \n",
       "\n",
       "                                      tags  \\\n",
       "0  python|mysql|django|django-models|enums   \n",
       "1            python|ruby|semantics|zemanta   \n",
       "2                      python|macos|64-bit   \n",
       "3                 python|mapping|iteration   \n",
       "4                        javascript|python   \n",
       "\n",
       "                                             answers  score  \n",
       "0  <p>From the <a href=\"https://docs.djangoprojec...    205  \n",
       "1  <p>Michal Finkelstein from OpenCalais here.</p...     16  \n",
       "2  <p>Hyposaurus,</p>\\n\\n<p>It is possible to hav...      3  \n",
       "3  <p>Check out <a href=\"http://mail.python.org/p...     11  \n",
       "4  <p>Well, I don't think that there is something...     23  "
      ]
     },
     "execution_count": 16,
     "metadata": {},
     "output_type": "execute_result"
    }
   ],
   "source": [
    "dfm.head()"
   ]
  },
  {
   "cell_type": "code",
   "execution_count": 17,
   "metadata": {},
   "outputs": [
    {
     "data": {
      "text/plain": [
       "'(58887, 6)'"
      ]
     },
     "execution_count": 17,
     "metadata": {},
     "output_type": "execute_result"
    }
   ],
   "source": [
    "str(dfm.shape)"
   ]
  },
  {
   "cell_type": "markdown",
   "metadata": {},
   "source": [
    "## Removing HTML tags and Feature engineering\n",
    " <hr>"
   ]
  },
  {
   "cell_type": "code",
   "execution_count": 18,
   "metadata": {},
   "outputs": [],
   "source": [
    "from bs4 import BeautifulSoup\n",
    "from textblob import TextBlob\n",
    "import lxml\n",
    "\n",
    "id_list = []\n",
    "\n",
    "title_list = []\n",
    "content_list = []\n",
    "answer_list = []\n",
    "\n",
    "# sentiment analysis determines the emotion of the text\n",
    "# positive/negetive/neutral\n",
    "# sentiment function of textblob has two properties polarity and subjectivity\n",
    "\n",
    "sentiment_polarity_list = []\n",
    "sentiment_subjectivity_list = []\n",
    "\n",
    "score_list = []\n",
    "corpus_list = []\n",
    "\n",
    "for i, row in dfm.iterrows():\n",
    "    \n",
    "    id_list.append(row.id)\n",
    "    title_list.append(row.title)\n",
    "    \n",
    "    content = row.body\n",
    "    \n",
    "    soup = BeautifulSoup(content, 'lxml')      #Beautiful soup with lxml parser\n",
    "    if soup.code: soup.code.decompose()     # Remove the code section\n",
    "    tag_p = soup.p\n",
    "    tag_pre = soup.pre\n",
    "    text = ''\n",
    "    if tag_p: text = text + tag_p.get_text()\n",
    "    if tag_pre: text = text + tag_pre.get_text()\n",
    "    \n",
    "    content_list.append(row.title+' '+text)\n",
    "    \n",
    "    content = row.answers\n",
    "    \n",
    "    soup = BeautifulSoup(content, 'lxml')      #Beautiful soup with lxml parser\n",
    "    if soup.code: soup.code.decompose()     # Remove the code section\n",
    "    tag_p = soup.p\n",
    "    tag_pre = soup.pre\n",
    "    text = ''\n",
    "    if tag_p: text = text + tag_p.get_text()\n",
    "    if tag_pre: text = text + tag_pre.get_text()\n",
    "        \n",
    "    answer_list.append(text)\n",
    "    \n",
    "    score_list.append(row.score) \n",
    "    \n",
    "    #appending question title, body and answers to form the corpus column\n",
    "    \n",
    "    corpus_list.append(content_list[-1]+' '+answer_list[-1])\n",
    "    \n",
    "    #sentiment analysis\n",
    "    \n",
    "    sentiment = TextBlob(text).sentiment\n",
    "    sentiment_polarity_list.append(sentiment.polarity)\n",
    "    sentiment_subjectivity_list.append(sentiment.subjectivity)"
   ]
  },
  {
   "cell_type": "code",
   "execution_count": 19,
   "metadata": {},
   "outputs": [],
   "source": [
    "dff = pd.DataFrame({\n",
    "    'id' : id_list,\n",
    "    'title' : title_list,\n",
    "    'corpus' : corpus_list,\n",
    "    'score' : score_list,\n",
    "    'polarity': sentiment_polarity_list,\n",
    "    'subjectivity':sentiment_subjectivity_list\n",
    "})\n",
    "\n",
    "dff.to_csv('data/feature_eng_data_model1.csv') #save the feature engineered dataset"
   ]
  },
  {
   "cell_type": "code",
   "execution_count": 20,
   "metadata": {},
   "outputs": [
    {
     "data": {
      "text/html": [
       "<div>\n",
       "<style scoped>\n",
       "    .dataframe tbody tr th:only-of-type {\n",
       "        vertical-align: middle;\n",
       "    }\n",
       "\n",
       "    .dataframe tbody tr th {\n",
       "        vertical-align: top;\n",
       "    }\n",
       "\n",
       "    .dataframe thead th {\n",
       "        text-align: right;\n",
       "    }\n",
       "</style>\n",
       "<table border=\"1\" class=\"dataframe\">\n",
       "  <thead>\n",
       "    <tr style=\"text-align: right;\">\n",
       "      <th></th>\n",
       "      <th>id</th>\n",
       "      <th>title</th>\n",
       "      <th>corpus</th>\n",
       "      <th>score</th>\n",
       "      <th>polarity</th>\n",
       "      <th>subjectivity</th>\n",
       "    </tr>\n",
       "  </thead>\n",
       "  <tbody>\n",
       "    <tr>\n",
       "      <th>0</th>\n",
       "      <td>21454</td>\n",
       "      <td>Specifying a mySQL ENUM in a Django model</td>\n",
       "      <td>Specifying a mySQL ENUM in a Django model How ...</td>\n",
       "      <td>205</td>\n",
       "      <td>0.000000</td>\n",
       "      <td>0.000000</td>\n",
       "    </tr>\n",
       "    <tr>\n",
       "      <th>1</th>\n",
       "      <td>22059</td>\n",
       "      <td>How do content discovery engines, like Zemanta...</td>\n",
       "      <td>How do content discovery engines, like Zemanta...</td>\n",
       "      <td>16</td>\n",
       "      <td>0.000000</td>\n",
       "      <td>0.000000</td>\n",
       "    </tr>\n",
       "    <tr>\n",
       "      <th>2</th>\n",
       "      <td>29856</td>\n",
       "      <td>Install Python to match directory layout in OS...</td>\n",
       "      <td>Install Python to match directory layout in OS...</td>\n",
       "      <td>3</td>\n",
       "      <td>0.000000</td>\n",
       "      <td>0.000000</td>\n",
       "    </tr>\n",
       "    <tr>\n",
       "      <th>3</th>\n",
       "      <td>35569</td>\n",
       "      <td>Why does Python's iter() on a mapping return i...</td>\n",
       "      <td>Why does Python's iter() on a mapping return i...</td>\n",
       "      <td>11</td>\n",
       "      <td>-0.200000</td>\n",
       "      <td>0.850000</td>\n",
       "    </tr>\n",
       "    <tr>\n",
       "      <th>4</th>\n",
       "      <td>39960</td>\n",
       "      <td>Javascript equivalent of Python's locals()?</td>\n",
       "      <td>Javascript equivalent of Python's locals()? In...</td>\n",
       "      <td>23</td>\n",
       "      <td>0.000000</td>\n",
       "      <td>0.000000</td>\n",
       "    </tr>\n",
       "    <tr>\n",
       "      <th>5</th>\n",
       "      <td>40586</td>\n",
       "      <td>cx_Oracle: how do I get the ORA-xxxxx error nu...</td>\n",
       "      <td>cx_Oracle: how do I get the ORA-xxxxx error nu...</td>\n",
       "      <td>10</td>\n",
       "      <td>0.000000</td>\n",
       "      <td>0.100000</td>\n",
       "    </tr>\n",
       "    <tr>\n",
       "      <th>6</th>\n",
       "      <td>49926</td>\n",
       "      <td>Open source alternative to MATLAB's fmincon fu...</td>\n",
       "      <td>Open source alternative to MATLAB's fmincon fu...</td>\n",
       "      <td>73</td>\n",
       "      <td>0.375000</td>\n",
       "      <td>0.750000</td>\n",
       "    </tr>\n",
       "    <tr>\n",
       "      <th>7</th>\n",
       "      <td>55056</td>\n",
       "      <td>What's the best Django search app?</td>\n",
       "      <td>What's the best Django search app? I'm buildin...</td>\n",
       "      <td>179</td>\n",
       "      <td>0.000000</td>\n",
       "      <td>0.100000</td>\n",
       "    </tr>\n",
       "    <tr>\n",
       "      <th>8</th>\n",
       "      <td>61894</td>\n",
       "      <td>What's a good way to find relative paths in Go...</td>\n",
       "      <td>What's a good way to find relative paths in Go...</td>\n",
       "      <td>5</td>\n",
       "      <td>0.050000</td>\n",
       "      <td>0.325000</td>\n",
       "    </tr>\n",
       "    <tr>\n",
       "      <th>9</th>\n",
       "      <td>79454</td>\n",
       "      <td>Testing GUI code: should I use a mocking library?</td>\n",
       "      <td>Testing GUI code: should I use a mocking libra...</td>\n",
       "      <td>3</td>\n",
       "      <td>-0.388889</td>\n",
       "      <td>0.694444</td>\n",
       "    </tr>\n",
       "  </tbody>\n",
       "</table>\n",
       "</div>"
      ],
      "text/plain": [
       "      id                                              title  \\\n",
       "0  21454          Specifying a mySQL ENUM in a Django model   \n",
       "1  22059  How do content discovery engines, like Zemanta...   \n",
       "2  29856  Install Python to match directory layout in OS...   \n",
       "3  35569  Why does Python's iter() on a mapping return i...   \n",
       "4  39960        Javascript equivalent of Python's locals()?   \n",
       "5  40586  cx_Oracle: how do I get the ORA-xxxxx error nu...   \n",
       "6  49926  Open source alternative to MATLAB's fmincon fu...   \n",
       "7  55056                 What's the best Django search app?   \n",
       "8  61894  What's a good way to find relative paths in Go...   \n",
       "9  79454  Testing GUI code: should I use a mocking library?   \n",
       "\n",
       "                                              corpus  score  polarity  \\\n",
       "0  Specifying a mySQL ENUM in a Django model How ...    205  0.000000   \n",
       "1  How do content discovery engines, like Zemanta...     16  0.000000   \n",
       "2  Install Python to match directory layout in OS...      3  0.000000   \n",
       "3  Why does Python's iter() on a mapping return i...     11 -0.200000   \n",
       "4  Javascript equivalent of Python's locals()? In...     23  0.000000   \n",
       "5  cx_Oracle: how do I get the ORA-xxxxx error nu...     10  0.000000   \n",
       "6  Open source alternative to MATLAB's fmincon fu...     73  0.375000   \n",
       "7  What's the best Django search app? I'm buildin...    179  0.000000   \n",
       "8  What's a good way to find relative paths in Go...      5  0.050000   \n",
       "9  Testing GUI code: should I use a mocking libra...      3 -0.388889   \n",
       "\n",
       "   subjectivity  \n",
       "0      0.000000  \n",
       "1      0.000000  \n",
       "2      0.000000  \n",
       "3      0.850000  \n",
       "4      0.000000  \n",
       "5      0.100000  \n",
       "6      0.750000  \n",
       "7      0.100000  \n",
       "8      0.325000  \n",
       "9      0.694444  "
      ]
     },
     "execution_count": 20,
     "metadata": {},
     "output_type": "execute_result"
    }
   ],
   "source": [
    "dff.head(10)"
   ]
  },
  {
   "cell_type": "markdown",
   "metadata": {},
   "source": [
    "##  Data normalization\n",
    "<hr>"
   ]
  },
  {
   "cell_type": "code",
   "execution_count": 21,
   "metadata": {
    "scrolled": true
   },
   "outputs": [
    {
     "data": {
      "application/json": {
       "ascii": false,
       "bar_format": null,
       "colour": null,
       "elapsed": 0.014944076538085938,
       "initial": 0,
       "n": 0,
       "ncols": null,
       "nrows": 29,
       "postfix": null,
       "prefix": "Pandas Apply",
       "rate": null,
       "total": 58887,
       "unit": "it",
       "unit_divisor": 1000,
       "unit_scale": false
      },
      "application/vnd.jupyter.widget-view+json": {
       "model_id": "c8ca7c609af74dbeae3da677f16f51b2",
       "version_major": 2,
       "version_minor": 0
      },
      "text/plain": [
       "Pandas Apply:   0%|          | 0/58887 [00:00<?, ?it/s]"
      ]
     },
     "metadata": {},
     "output_type": "display_data"
    },
    {
     "data": {
      "application/json": {
       "ascii": false,
       "bar_format": null,
       "colour": null,
       "elapsed": 0.014963626861572266,
       "initial": 0,
       "n": 0,
       "ncols": null,
       "nrows": 29,
       "postfix": null,
       "prefix": "Pandas Apply",
       "rate": null,
       "total": 58887,
       "unit": "it",
       "unit_divisor": 1000,
       "unit_scale": false
      },
      "application/vnd.jupyter.widget-view+json": {
       "model_id": "b8f7a0fb498d4760a353e663a1e47abe",
       "version_major": 2,
       "version_minor": 0
      },
      "text/plain": [
       "Pandas Apply:   0%|          | 0/58887 [00:00<?, ?it/s]"
      ]
     },
     "metadata": {},
     "output_type": "display_data"
    }
   ],
   "source": [
    "import spacy\n",
    "import pandas as pd\n",
    "import numpy as np\n",
    "import swifter\n",
    "en = spacy.load('en_core_web_sm')\n",
    "\n",
    "#apply the text processing functions\n",
    "\n",
    "dff.corpus = dff.corpus.swifter.apply(lambda x: process_text(x))\n",
    "dff['processed_title'] = dff.title.swifter.apply(lambda x: process_text(x))\n",
    "\n",
    "dff.score = (dff.score-dff.score.mean())/(dff.score.max()-dff.score.min())"
   ]
  },
  {
   "cell_type": "code",
   "execution_count": 23,
   "metadata": {},
   "outputs": [],
   "source": [
    "dff.to_csv('data/processed_data_model1.csv', index=False)"
   ]
  },
  {
   "cell_type": "code",
   "execution_count": 23,
   "metadata": {},
   "outputs": [
    {
     "data": {
      "text/plain": [
       "False"
      ]
     },
     "execution_count": 23,
     "metadata": {},
     "output_type": "execute_result"
    }
   ],
   "source": [
    "df.id.is_unique"
   ]
  },
  {
   "cell_type": "code",
   "execution_count": 24,
   "metadata": {},
   "outputs": [
    {
     "data": {
      "text/plain": [
       "True"
      ]
     },
     "execution_count": 24,
     "metadata": {},
     "output_type": "execute_result"
    }
   ],
   "source": [
    "dff.id.is_unique"
   ]
  }
 ],
 "metadata": {
  "kernelspec": {
   "display_name": "Python 3",
   "language": "python",
   "name": "python3"
  },
  "language_info": {
   "codemirror_mode": {
    "name": "ipython",
    "version": 3
   },
   "file_extension": ".py",
   "mimetype": "text/x-python",
   "name": "python",
   "nbconvert_exporter": "python",
   "pygments_lexer": "ipython3",
   "version": "3.7.4"
  }
 },
 "nbformat": 4,
 "nbformat_minor": 5
}
