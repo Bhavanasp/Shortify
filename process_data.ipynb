{
 "cells": [
  {
   "cell_type": "markdown",
   "metadata": {},
   "source": [
    "##  Data cleaning and processing\n",
    "<hr>\n",
    "Analysis, cleaning and processing of the original data files is done here"
   ]
  },
  {
   "cell_type": "code",
   "execution_count": 4,
   "metadata": {},
   "outputs": [],
   "source": [
    "import pandas as pd\n",
    "import numpy as np\n",
    "import spacy"
   ]
  },
  {
   "cell_type": "markdown",
   "metadata": {},
   "source": [
    "##  Load data\n",
    "<hr>"
   ]
  },
  {
   "cell_type": "code",
   "execution_count": 15,
   "metadata": {},
   "outputs": [
    {
     "data": {
      "text/html": [
       "<div>\n",
       "<style scoped>\n",
       "    .dataframe tbody tr th:only-of-type {\n",
       "        vertical-align: middle;\n",
       "    }\n",
       "\n",
       "    .dataframe tbody tr th {\n",
       "        vertical-align: top;\n",
       "    }\n",
       "\n",
       "    .dataframe thead th {\n",
       "        text-align: right;\n",
       "    }\n",
       "</style>\n",
       "<table border=\"1\" class=\"dataframe\">\n",
       "  <thead>\n",
       "    <tr style=\"text-align: right;\">\n",
       "      <th></th>\n",
       "      <th>id</th>\n",
       "      <th>title</th>\n",
       "      <th>body</th>\n",
       "      <th>tags</th>\n",
       "      <th>answers</th>\n",
       "      <th>score</th>\n",
       "    </tr>\n",
       "  </thead>\n",
       "  <tbody>\n",
       "    <tr>\n",
       "      <th>0</th>\n",
       "      <td>62766758</td>\n",
       "      <td>How to fix Python error \"...failed to map segm...</td>\n",
       "      <td>&lt;p&gt;I've recently started to use Google Cloud P...</td>\n",
       "      <td>python-3.x|pandas|shell|numpy|google-cloud-pla...</td>\n",
       "      <td>&lt;p&gt;Container-Optimized OS (COS) has several li...</td>\n",
       "      <td>1</td>\n",
       "    </tr>\n",
       "    <tr>\n",
       "      <th>1</th>\n",
       "      <td>62766758</td>\n",
       "      <td>How to fix Python error \"...failed to map segm...</td>\n",
       "      <td>&lt;p&gt;I've recently started to use Google Cloud P...</td>\n",
       "      <td>python-3.x|pandas|shell|numpy|google-cloud-pla...</td>\n",
       "      <td>&lt;p&gt;I'm pretty sure that in case of Python libr...</td>\n",
       "      <td>0</td>\n",
       "    </tr>\n",
       "    <tr>\n",
       "      <th>2</th>\n",
       "      <td>62742938</td>\n",
       "      <td>Wrapper for 'python -m' command</td>\n",
       "      <td>&lt;p&gt;I have a package with following structure:&lt;...</td>\n",
       "      <td>python|modulenotfounderror</td>\n",
       "      <td>&lt;p&gt;The standard library has a module &lt;a href=\"...</td>\n",
       "      <td>1</td>\n",
       "    </tr>\n",
       "    <tr>\n",
       "      <th>3</th>\n",
       "      <td>62741826</td>\n",
       "      <td>How can I improve the speed of pandas rows ope...</td>\n",
       "      <td>&lt;p&gt;I have a large .csv file that has 11'000'00...</td>\n",
       "      <td>python|pandas|performance|data-science</td>\n",
       "      <td>&lt;p&gt;Hello and welcome to StackOverflow.&lt;/p&gt;\\n&lt;p...</td>\n",
       "      <td>1</td>\n",
       "    </tr>\n",
       "    <tr>\n",
       "      <th>4</th>\n",
       "      <td>62741826</td>\n",
       "      <td>How can I improve the speed of pandas rows ope...</td>\n",
       "      <td>&lt;p&gt;I have a large .csv file that has 11'000'00...</td>\n",
       "      <td>python|pandas|performance|data-science</td>\n",
       "      <td>&lt;p&gt;I guess you want to &lt;code&gt;groupby&lt;/code&gt; an...</td>\n",
       "      <td>0</td>\n",
       "    </tr>\n",
       "  </tbody>\n",
       "</table>\n",
       "</div>"
      ],
      "text/plain": [
       "         id                                              title  \\\n",
       "0  62766758  How to fix Python error \"...failed to map segm...   \n",
       "1  62766758  How to fix Python error \"...failed to map segm...   \n",
       "2  62742938                    Wrapper for 'python -m' command   \n",
       "3  62741826  How can I improve the speed of pandas rows ope...   \n",
       "4  62741826  How can I improve the speed of pandas rows ope...   \n",
       "\n",
       "                                                body  \\\n",
       "0  <p>I've recently started to use Google Cloud P...   \n",
       "1  <p>I've recently started to use Google Cloud P...   \n",
       "2  <p>I have a package with following structure:<...   \n",
       "3  <p>I have a large .csv file that has 11'000'00...   \n",
       "4  <p>I have a large .csv file that has 11'000'00...   \n",
       "\n",
       "                                                tags  \\\n",
       "0  python-3.x|pandas|shell|numpy|google-cloud-pla...   \n",
       "1  python-3.x|pandas|shell|numpy|google-cloud-pla...   \n",
       "2                         python|modulenotfounderror   \n",
       "3             python|pandas|performance|data-science   \n",
       "4             python|pandas|performance|data-science   \n",
       "\n",
       "                                             answers  score  \n",
       "0  <p>Container-Optimized OS (COS) has several li...      1  \n",
       "1  <p>I'm pretty sure that in case of Python libr...      0  \n",
       "2  <p>The standard library has a module <a href=\"...      1  \n",
       "3  <p>Hello and welcome to StackOverflow.</p>\\n<p...      1  \n",
       "4  <p>I guess you want to <code>groupby</code> an...      0  "
      ]
     },
     "execution_count": 2,
     "metadata": {},
     "output_type": "execute_result"
    }
   ],
   "source": [
    "en = spacy.load('en_core_web_sm')\n",
    "\n",
    "#read data\n",
    "\n",
    "df1 = pd.read_csv('data/original_data1.csv')\n",
    "df2 = pd.read_csv('data/original_data2.csv')\n",
    "df3 = pd.read_csv('data/original_data3.csv')\n",
    "df4 = pd.read_csv('data/original_data4.csv')\n",
    "df5 = pd.read_csv('data/original_data5.csv')\n",
    "\n",
    "df = df1.append([df2, df3, df4, df5]).iloc[:, 1:]\n",
    "df.reset_index(inplace=True, drop=True)\n",
    "df.head()"
   ]
  },
  {
   "cell_type": "code",
   "execution_count": 16,
   "metadata": {},
   "outputs": [
    {
     "name": "stdout",
     "output_type": "stream",
     "text": [
      "Datebase shape:(100000, 6)\n"
     ]
    }
   ],
   "source": [
    "print('Datebase shape:' + str(df.shape))"
   ]
  },
  {
   "cell_type": "markdown",
   "metadata": {},
   "source": [
    "##  Missing values check\n",
    "<hr>"
   ]
  },
  {
   "cell_type": "code",
   "execution_count": 17,
   "metadata": {},
   "outputs": [
    {
     "data": {
      "text/plain": [
       "id         0\n",
       "title      0\n",
       "body       0\n",
       "tags       0\n",
       "answers    0\n",
       "score      0\n",
       "dtype: int64"
      ]
     },
     "execution_count": 4,
     "metadata": {},
     "output_type": "execute_result"
    }
   ],
   "source": [
    "df.isna().sum()"
   ]
  },
  {
   "cell_type": "markdown",
   "metadata": {},
   "source": [
    "##  Text processing\n",
    "<hr>"
   ]
  },
  {
   "cell_type": "code",
   "execution_count": 31,
   "metadata": {},
   "outputs": [
    {
     "name": "stderr",
     "output_type": "stream",
     "text": [
      "[nltk_data] Downloading package stopwords to\n",
      "[nltk_data]     C:\\Users\\Bhavana\\AppData\\Roaming\\nltk_data...\n",
      "[nltk_data]   Package stopwords is already up-to-date!\n"
     ]
    },
    {
     "data": {
      "text/plain": [
       "True"
      ]
     },
     "execution_count": 5,
     "metadata": {},
     "output_type": "execute_result"
    }
   ],
   "source": [
    "import re\n",
    "import nltk\n",
    "import inflect\n",
    "from nltk.corpus import stopwords\n",
    "\n",
    "import nltk\n",
    "nltk.download('stopwords')"
   ]
  },
  {
   "cell_type": "code",
   "execution_count": 32,
   "metadata": {},
   "outputs": [],
   "source": [
    "#tokenizer\n",
    "\n",
    "def tokenize(text):\n",
    "    tokens = en.tokenizer(text)\n",
    "    return [token.text.lower() for token in tokens if not token.is_space]"
   ]
  },
  {
   "cell_type": "code",
   "execution_count": 33,
   "metadata": {},
   "outputs": [
    {
     "name": "stdout",
     "output_type": "stream",
     "text": [
      "['what', 'is', 'the', 'difference', 'between', 'these', 'two', 'dataframes', '?']\n"
     ]
    }
   ],
   "source": [
    "print(tokenize(\"What is the difference between these two dataframes?\"))"
   ]
  },
  {
   "cell_type": "code",
   "execution_count": 34,
   "metadata": {},
   "outputs": [],
   "source": [
    "#remove punctuations\n",
    "\n",
    "def remove_punctuation(words):\n",
    "    new_words = []\n",
    "    for word in words:\n",
    "        new_word = re.sub(r'[^\\w\\s]', '', word)\n",
    "        if new_word != '':\n",
    "            new_words.append(new_word)\n",
    "    return new_words "
   ]
  },
  {
   "cell_type": "code",
   "execution_count": 35,
   "metadata": {},
   "outputs": [
    {
     "name": "stdout",
     "output_type": "stream",
     "text": [
      "['what', 'is', 'the', 'difference', 'between', 'these', 'two', 'dataframes']\n"
     ]
    }
   ],
   "source": [
    "print(remove_punctuation(tokenize(\"What is the difference between these two dataframes?\")))"
   ]
  },
  {
   "cell_type": "code",
   "execution_count": 36,
   "metadata": {},
   "outputs": [],
   "source": [
    "#remove stop words\n",
    "\n",
    "def remove_stopwords(words):\n",
    "    new_words = []\n",
    "    for word in words:\n",
    "        if word not in stopwords.words('english'):\n",
    "            new_words.append(word)\n",
    "    return new_words"
   ]
  },
  {
   "cell_type": "code",
   "execution_count": 37,
   "metadata": {},
   "outputs": [
    {
     "name": "stdout",
     "output_type": "stream",
     "text": [
      "['difference', 'two', 'dataframes']\n"
     ]
    }
   ],
   "source": [
    "print(remove_stopwords(remove_punctuation(tokenize(\"What is the difference between these two dataframes?\"))))"
   ]
  },
  {
   "cell_type": "code",
   "execution_count": 38,
   "metadata": {},
   "outputs": [],
   "source": [
    "def normalize(words):\n",
    "    words = remove_punctuation(words)\n",
    "    words = remove_stopwords(words)\n",
    "    return words"
   ]
  },
  {
   "cell_type": "code",
   "execution_count": 41,
   "metadata": {},
   "outputs": [],
   "source": [
    "def process_text(text):\n",
    "    return ' '.join(normalize(tokenize(text)))"
   ]
  },
  {
   "cell_type": "code",
   "execution_count": 42,
   "metadata": {},
   "outputs": [
    {
     "name": "stdout",
     "output_type": "stream",
     "text": [
      "difference two dataframes\n"
     ]
    }
   ],
   "source": [
    "print(process_text(\"What is the difference between these two dataframes?\"))"
   ]
  },
  {
   "cell_type": "markdown",
   "id": "complete-queensland",
   "metadata": {},
   "source": [
    "## Database manipulation\n",
    "<hr>\n",
    "In the current database if a question has multiple answers then for each answer it is again listed as a seperate row. To simplify, all rows belonging to the same questions are merged. During the merge answers are concatenated and all the scores are summed up."
   ]
  },
  {
   "cell_type": "code",
   "execution_count": 15,
   "id": "encouraging-assurance",
   "metadata": {},
   "outputs": [],
   "source": [
    "aggregations = {\n",
    "    'answers' : lambda x : '\\n'.join(x),\n",
    "    'score' : 'sum'\n",
    "}\n",
    "\n",
    "df_grouped = df.groupby(['id','title','body','tags'], as_index=False).agg(aggregations)\n",
    "dfm = pd.DataFrame(df_grouped)"
   ]
  },
  {
   "cell_type": "code",
   "execution_count": 16,
   "id": "pacific-float",
   "metadata": {},
   "outputs": [
    {
     "data": {
      "text/html": [
       "<div>\n",
       "<style scoped>\n",
       "    .dataframe tbody tr th:only-of-type {\n",
       "        vertical-align: middle;\n",
       "    }\n",
       "\n",
       "    .dataframe tbody tr th {\n",
       "        vertical-align: top;\n",
       "    }\n",
       "\n",
       "    .dataframe thead th {\n",
       "        text-align: right;\n",
       "    }\n",
       "</style>\n",
       "<table border=\"1\" class=\"dataframe\">\n",
       "  <thead>\n",
       "    <tr style=\"text-align: right;\">\n",
       "      <th></th>\n",
       "      <th>id</th>\n",
       "      <th>title</th>\n",
       "      <th>body</th>\n",
       "      <th>tags</th>\n",
       "      <th>answers</th>\n",
       "      <th>score</th>\n",
       "    </tr>\n",
       "  </thead>\n",
       "  <tbody>\n",
       "    <tr>\n",
       "      <th>0</th>\n",
       "      <td>21454</td>\n",
       "      <td>Specifying a mySQL ENUM in a Django model</td>\n",
       "      <td>&lt;p&gt;How do I go about specifying and using an E...</td>\n",
       "      <td>python|mysql|django|django-models|enums</td>\n",
       "      <td>&lt;p&gt;From the &lt;a href=\"https://docs.djangoprojec...</td>\n",
       "      <td>205</td>\n",
       "    </tr>\n",
       "    <tr>\n",
       "      <th>1</th>\n",
       "      <td>22059</td>\n",
       "      <td>How do content discovery engines, like Zemanta...</td>\n",
       "      <td>&lt;p&gt;I was wondering how as semantic service lik...</td>\n",
       "      <td>python|ruby|semantics|zemanta</td>\n",
       "      <td>&lt;p&gt;Michal Finkelstein from OpenCalais here.&lt;/p...</td>\n",
       "      <td>16</td>\n",
       "    </tr>\n",
       "    <tr>\n",
       "      <th>2</th>\n",
       "      <td>29856</td>\n",
       "      <td>Install Python to match directory layout in OS...</td>\n",
       "      <td>&lt;p&gt;The default Python install on OS X 10.5 is ...</td>\n",
       "      <td>python|macos|64-bit</td>\n",
       "      <td>&lt;p&gt;Hyposaurus,&lt;/p&gt;\\n\\n&lt;p&gt;It is possible to hav...</td>\n",
       "      <td>3</td>\n",
       "    </tr>\n",
       "    <tr>\n",
       "      <th>3</th>\n",
       "      <td>35569</td>\n",
       "      <td>Why does Python's iter() on a mapping return i...</td>\n",
       "      <td>&lt;p&gt;It seems like if you want to get the keys o...</td>\n",
       "      <td>python|mapping|iteration</td>\n",
       "      <td>&lt;p&gt;Check out &lt;a href=\"http://mail.python.org/p...</td>\n",
       "      <td>11</td>\n",
       "    </tr>\n",
       "    <tr>\n",
       "      <th>4</th>\n",
       "      <td>39960</td>\n",
       "      <td>Javascript equivalent of Python's locals()?</td>\n",
       "      <td>&lt;p&gt;In Python one can get a dictionary of all l...</td>\n",
       "      <td>javascript|python</td>\n",
       "      <td>&lt;p&gt;Well, I don't think that there is something...</td>\n",
       "      <td>23</td>\n",
       "    </tr>\n",
       "  </tbody>\n",
       "</table>\n",
       "</div>"
      ],
      "text/plain": [
       "      id                                              title  \\\n",
       "0  21454          Specifying a mySQL ENUM in a Django model   \n",
       "1  22059  How do content discovery engines, like Zemanta...   \n",
       "2  29856  Install Python to match directory layout in OS...   \n",
       "3  35569  Why does Python's iter() on a mapping return i...   \n",
       "4  39960        Javascript equivalent of Python's locals()?   \n",
       "\n",
       "                                                body  \\\n",
       "0  <p>How do I go about specifying and using an E...   \n",
       "1  <p>I was wondering how as semantic service lik...   \n",
       "2  <p>The default Python install on OS X 10.5 is ...   \n",
       "3  <p>It seems like if you want to get the keys o...   \n",
       "4  <p>In Python one can get a dictionary of all l...   \n",
       "\n",
       "                                      tags  \\\n",
       "0  python|mysql|django|django-models|enums   \n",
       "1            python|ruby|semantics|zemanta   \n",
       "2                      python|macos|64-bit   \n",
       "3                 python|mapping|iteration   \n",
       "4                        javascript|python   \n",
       "\n",
       "                                             answers  score  \n",
       "0  <p>From the <a href=\"https://docs.djangoprojec...    205  \n",
       "1  <p>Michal Finkelstein from OpenCalais here.</p...     16  \n",
       "2  <p>Hyposaurus,</p>\\n\\n<p>It is possible to hav...      3  \n",
       "3  <p>Check out <a href=\"http://mail.python.org/p...     11  \n",
       "4  <p>Well, I don't think that there is something...     23  "
      ]
     },
     "execution_count": 16,
     "metadata": {},
     "output_type": "execute_result"
    }
   ],
   "source": [
    "dfm.head()"
   ]
  },
  {
   "cell_type": "code",
   "execution_count": 17,
   "id": "persistent-dating",
   "metadata": {},
   "outputs": [
    {
     "data": {
      "text/plain": [
       "'(58887, 6)'"
      ]
     },
     "execution_count": 17,
     "metadata": {},
     "output_type": "execute_result"
    }
   ],
   "source": [
    "str(dfm.shape)"
   ]
  },
  {
   "cell_type": "markdown",
   "id": "sublime-nancy",
   "metadata": {},
   "source": [
    "##  Removing HTML tags and Feature engineering"
   ]
  },
  {
   "cell_type": "code",
   "execution_count": 18,
   "id": "corrected-carolina",
   "metadata": {},
   "outputs": [],
   "source": [
    "from bs4 import BeautifulSoup\n",
    "from textblob import TextBlob\n",
    "import lxml\n",
    "\n",
    "title_list = []\n",
    "content_list = []\n",
    "answer_list = []\n",
    "\n",
    "# sentiment analysis determines the emotion of the text\n",
    "# positive/negetive/neutral\n",
    "# sentiment function of textblob has two properties polarity and subjectivity\n",
    "\n",
    "sentiment_polarity_list = []\n",
    "sentiment_subjectivity_list = []\n",
    "\n",
    "score_list = []\n",
    "tag_list = []\n",
    "corpus_list = []\n",
    "\n",
    "for i, row in dfm.iterrows():\n",
    "    title_list.append(row.title)\n",
    "    tag_list.append(row.tags)\n",
    "    \n",
    "    content = row.body\n",
    "    \n",
    "    soup = BeautifulSoup(content, 'lxml')      #Beautiful soup with lxml parser\n",
    "    if soup.code: soup.code.decompose()     # Remove the code section\n",
    "    tag_p = soup.p\n",
    "    tag_pre = soup.pre\n",
    "    text = ''\n",
    "    if tag_p: text = text + tag_p.get_text()\n",
    "    if tag_pre: text = text + tag_pre.get_text()\n",
    "    \n",
    "    content_list.append(row.title+' '+text)\n",
    "    \n",
    "    content = row.answers\n",
    "    \n",
    "    soup = BeautifulSoup(content, 'lxml')      #Beautiful soup with lxml parser\n",
    "    if soup.code: soup.code.decompose()     # Remove the code section\n",
    "    tag_p = soup.p\n",
    "    tag_pre = soup.pre\n",
    "    text = ''\n",
    "    if tag_p: text = text + tag_p.get_text()\n",
    "    if tag_pre: text = text + tag_pre.get_text()\n",
    "        \n",
    "    answer_list.append(text)\n",
    "    \n",
    "    score_list.append(row.score) \n",
    "    \n",
    "    corpus_list.append(content_list[-1]+' '+answer_list[-1])\n",
    "    \n",
    "    #sentiment analys\n",
    "    \n",
    "    sentiment = TextBlob(text).sentiment\n",
    "    sentiment_polarity_list.append(sentiment.polarity)\n",
    "    sentiment_subjectivity_list.append(sentiment.subjectivity)"
   ]
  },
  {
   "cell_type": "code",
   "execution_count": 19,
   "id": "disabled-admission",
   "metadata": {},
   "outputs": [],
   "source": [
    "dff = pd.DataFrame({\n",
    "    'title' : title_list,\n",
    "    'corpus' : corpus_list,\n",
    "    'content' : content_list,\n",
    "    'tags' : tag_list,\n",
    "    'score' : score_list,\n",
    "    'answers' : answer_list,\n",
    "    'polarity': sentiment_polarity_list,\n",
    "    'subjectivity':sentiment_subjectivity_list\n",
    "})\n",
    "\n",
    "dff.to_csv('data/feature_eng_data_model1.csv')"
   ]
  },
  {
   "cell_type": "code",
   "execution_count": 20,
   "id": "compatible-plane",
   "metadata": {},
   "outputs": [
    {
     "data": {
      "text/html": [
       "<div>\n",
       "<style scoped>\n",
       "    .dataframe tbody tr th:only-of-type {\n",
       "        vertical-align: middle;\n",
       "    }\n",
       "\n",
       "    .dataframe tbody tr th {\n",
       "        vertical-align: top;\n",
       "    }\n",
       "\n",
       "    .dataframe thead th {\n",
       "        text-align: right;\n",
       "    }\n",
       "</style>\n",
       "<table border=\"1\" class=\"dataframe\">\n",
       "  <thead>\n",
       "    <tr style=\"text-align: right;\">\n",
       "      <th></th>\n",
       "      <th>title</th>\n",
       "      <th>corpus</th>\n",
       "      <th>content</th>\n",
       "      <th>tags</th>\n",
       "      <th>score</th>\n",
       "      <th>answers</th>\n",
       "      <th>polarity</th>\n",
       "      <th>subjectivity</th>\n",
       "    </tr>\n",
       "  </thead>\n",
       "  <tbody>\n",
       "    <tr>\n",
       "      <th>0</th>\n",
       "      <td>Specifying a mySQL ENUM in a Django model</td>\n",
       "      <td>Specifying a mySQL ENUM in a Django model How ...</td>\n",
       "      <td>Specifying a mySQL ENUM in a Django model How ...</td>\n",
       "      <td>python|mysql|django|django-models|enums</td>\n",
       "      <td>205</td>\n",
       "      <td>From the Django documentation:</td>\n",
       "      <td>0.000000</td>\n",
       "      <td>0.000000</td>\n",
       "    </tr>\n",
       "    <tr>\n",
       "      <th>1</th>\n",
       "      <td>How do content discovery engines, like Zemanta...</td>\n",
       "      <td>How do content discovery engines, like Zemanta...</td>\n",
       "      <td>How do content discovery engines, like Zemanta...</td>\n",
       "      <td>python|ruby|semantics|zemanta</td>\n",
       "      <td>16</td>\n",
       "      <td>Michal Finkelstein from OpenCalais here.</td>\n",
       "      <td>0.000000</td>\n",
       "      <td>0.000000</td>\n",
       "    </tr>\n",
       "    <tr>\n",
       "      <th>2</th>\n",
       "      <td>Install Python to match directory layout in OS...</td>\n",
       "      <td>Install Python to match directory layout in OS...</td>\n",
       "      <td>Install Python to match directory layout in OS...</td>\n",
       "      <td>python|macos|64-bit</td>\n",
       "      <td>3</td>\n",
       "      <td>Hyposaurus,</td>\n",
       "      <td>0.000000</td>\n",
       "      <td>0.000000</td>\n",
       "    </tr>\n",
       "    <tr>\n",
       "      <th>3</th>\n",
       "      <td>Why does Python's iter() on a mapping return i...</td>\n",
       "      <td>Why does Python's iter() on a mapping return i...</td>\n",
       "      <td>Why does Python's iter() on a mapping return i...</td>\n",
       "      <td>python|mapping|iteration</td>\n",
       "      <td>11</td>\n",
       "      <td>Check out this thread for a discussion on the ...</td>\n",
       "      <td>-0.200000</td>\n",
       "      <td>0.850000</td>\n",
       "    </tr>\n",
       "    <tr>\n",
       "      <th>4</th>\n",
       "      <td>Javascript equivalent of Python's locals()?</td>\n",
       "      <td>Javascript equivalent of Python's locals()? In...</td>\n",
       "      <td>Javascript equivalent of Python's locals()? In...</td>\n",
       "      <td>javascript|python</td>\n",
       "      <td>23</td>\n",
       "      <td>Well, I don't think that there is something li...</td>\n",
       "      <td>0.000000</td>\n",
       "      <td>0.000000</td>\n",
       "    </tr>\n",
       "    <tr>\n",
       "      <th>5</th>\n",
       "      <td>cx_Oracle: how do I get the ORA-xxxxx error nu...</td>\n",
       "      <td>cx_Oracle: how do I get the ORA-xxxxx error nu...</td>\n",
       "      <td>cx_Oracle: how do I get the ORA-xxxxx error nu...</td>\n",
       "      <td>python|oracle|cx-oracle</td>\n",
       "      <td>10</td>\n",
       "      <td>This results in the following output:</td>\n",
       "      <td>0.000000</td>\n",
       "      <td>0.100000</td>\n",
       "    </tr>\n",
       "    <tr>\n",
       "      <th>6</th>\n",
       "      <td>Open source alternative to MATLAB's fmincon fu...</td>\n",
       "      <td>Open source alternative to MATLAB's fmincon fu...</td>\n",
       "      <td>Open source alternative to MATLAB's fmincon fu...</td>\n",
       "      <td>python|matlab|numpy|numerical|scientific-compu...</td>\n",
       "      <td>73</td>\n",
       "      <td>For numerical optimization in Python you may t...</td>\n",
       "      <td>0.375000</td>\n",
       "      <td>0.750000</td>\n",
       "    </tr>\n",
       "    <tr>\n",
       "      <th>7</th>\n",
       "      <td>What's the best Django search app?</td>\n",
       "      <td>What's the best Django search app? I'm buildin...</td>\n",
       "      <td>What's the best Django search app? I'm buildin...</td>\n",
       "      <td>python|django|search|search-engine</td>\n",
       "      <td>179</td>\n",
       "      <td>I found Djoosh which relies on the pure-python...</td>\n",
       "      <td>0.000000</td>\n",
       "      <td>0.100000</td>\n",
       "    </tr>\n",
       "    <tr>\n",
       "      <th>8</th>\n",
       "      <td>What's a good way to find relative paths in Go...</td>\n",
       "      <td>What's a good way to find relative paths in Go...</td>\n",
       "      <td>What's a good way to find relative paths in Go...</td>\n",
       "      <td>python|google-app-engine</td>\n",
       "      <td>5</td>\n",
       "      <td>The  function returns an absolute path, use re...</td>\n",
       "      <td>0.050000</td>\n",
       "      <td>0.325000</td>\n",
       "    </tr>\n",
       "    <tr>\n",
       "      <th>9</th>\n",
       "      <td>Testing GUI code: should I use a mocking library?</td>\n",
       "      <td>Testing GUI code: should I use a mocking libra...</td>\n",
       "      <td>Testing GUI code: should I use a mocking libra...</td>\n",
       "      <td>python|unit-testing|user-interface|tdd</td>\n",
       "      <td>3</td>\n",
       "      <td>Please remember that TDD is not a panaceum. It...</td>\n",
       "      <td>-0.388889</td>\n",
       "      <td>0.694444</td>\n",
       "    </tr>\n",
       "  </tbody>\n",
       "</table>\n",
       "</div>"
      ],
      "text/plain": [
       "                                               title  \\\n",
       "0          Specifying a mySQL ENUM in a Django model   \n",
       "1  How do content discovery engines, like Zemanta...   \n",
       "2  Install Python to match directory layout in OS...   \n",
       "3  Why does Python's iter() on a mapping return i...   \n",
       "4        Javascript equivalent of Python's locals()?   \n",
       "5  cx_Oracle: how do I get the ORA-xxxxx error nu...   \n",
       "6  Open source alternative to MATLAB's fmincon fu...   \n",
       "7                 What's the best Django search app?   \n",
       "8  What's a good way to find relative paths in Go...   \n",
       "9  Testing GUI code: should I use a mocking library?   \n",
       "\n",
       "                                              corpus  \\\n",
       "0  Specifying a mySQL ENUM in a Django model How ...   \n",
       "1  How do content discovery engines, like Zemanta...   \n",
       "2  Install Python to match directory layout in OS...   \n",
       "3  Why does Python's iter() on a mapping return i...   \n",
       "4  Javascript equivalent of Python's locals()? In...   \n",
       "5  cx_Oracle: how do I get the ORA-xxxxx error nu...   \n",
       "6  Open source alternative to MATLAB's fmincon fu...   \n",
       "7  What's the best Django search app? I'm buildin...   \n",
       "8  What's a good way to find relative paths in Go...   \n",
       "9  Testing GUI code: should I use a mocking libra...   \n",
       "\n",
       "                                             content  \\\n",
       "0  Specifying a mySQL ENUM in a Django model How ...   \n",
       "1  How do content discovery engines, like Zemanta...   \n",
       "2  Install Python to match directory layout in OS...   \n",
       "3  Why does Python's iter() on a mapping return i...   \n",
       "4  Javascript equivalent of Python's locals()? In...   \n",
       "5  cx_Oracle: how do I get the ORA-xxxxx error nu...   \n",
       "6  Open source alternative to MATLAB's fmincon fu...   \n",
       "7  What's the best Django search app? I'm buildin...   \n",
       "8  What's a good way to find relative paths in Go...   \n",
       "9  Testing GUI code: should I use a mocking libra...   \n",
       "\n",
       "                                                tags  score  \\\n",
       "0            python|mysql|django|django-models|enums    205   \n",
       "1                      python|ruby|semantics|zemanta     16   \n",
       "2                                python|macos|64-bit      3   \n",
       "3                           python|mapping|iteration     11   \n",
       "4                                  javascript|python     23   \n",
       "5                            python|oracle|cx-oracle     10   \n",
       "6  python|matlab|numpy|numerical|scientific-compu...     73   \n",
       "7                 python|django|search|search-engine    179   \n",
       "8                           python|google-app-engine      5   \n",
       "9             python|unit-testing|user-interface|tdd      3   \n",
       "\n",
       "                                             answers  polarity  subjectivity  \n",
       "0                     From the Django documentation:  0.000000      0.000000  \n",
       "1           Michal Finkelstein from OpenCalais here.  0.000000      0.000000  \n",
       "2                                        Hyposaurus,  0.000000      0.000000  \n",
       "3  Check out this thread for a discussion on the ... -0.200000      0.850000  \n",
       "4  Well, I don't think that there is something li...  0.000000      0.000000  \n",
       "5              This results in the following output:  0.000000      0.100000  \n",
       "6  For numerical optimization in Python you may t...  0.375000      0.750000  \n",
       "7  I found Djoosh which relies on the pure-python...  0.000000      0.100000  \n",
       "8  The  function returns an absolute path, use re...  0.050000      0.325000  \n",
       "9  Please remember that TDD is not a panaceum. It... -0.388889      0.694444  "
      ]
     },
     "execution_count": 20,
     "metadata": {},
     "output_type": "execute_result"
    }
   ],
   "source": [
    "dff.head(10)"
   ]
  },
  {
   "cell_type": "markdown",
   "id": "false-resort",
   "metadata": {},
   "source": [
    "##  Data normalization"
   ]
  },
  {
   "cell_type": "code",
   "execution_count": 21,
   "id": "legitimate-handle",
   "metadata": {
    "scrolled": true
   },
   "outputs": [
    {
     "data": {
      "application/json": {
       "ascii": false,
       "bar_format": null,
       "colour": null,
       "elapsed": 0.02094244956970215,
       "initial": 0,
       "n": 0,
       "ncols": null,
       "nrows": 29,
       "postfix": null,
       "prefix": "Pandas Apply",
       "rate": null,
       "total": 58887,
       "unit": "it",
       "unit_divisor": 1000,
       "unit_scale": false
      },
      "application/vnd.jupyter.widget-view+json": {
       "model_id": "7fa61deca3b4438aae08d371b8fbade2",
       "version_major": 2,
       "version_minor": 0
      },
      "text/plain": [
       "Pandas Apply:   0%|          | 0/58887 [00:00<?, ?it/s]"
      ]
     },
     "metadata": {},
     "output_type": "display_data"
    },
    {
     "data": {
      "application/json": {
       "ascii": false,
       "bar_format": null,
       "colour": null,
       "elapsed": 0.014957904815673828,
       "initial": 0,
       "n": 0,
       "ncols": null,
       "nrows": 29,
       "postfix": null,
       "prefix": "Pandas Apply",
       "rate": null,
       "total": 58887,
       "unit": "it",
       "unit_divisor": 1000,
       "unit_scale": false
      },
      "application/vnd.jupyter.widget-view+json": {
       "model_id": "2e7cdf3b791e47d5ac72be31f97c25e5",
       "version_major": 2,
       "version_minor": 0
      },
      "text/plain": [
       "Pandas Apply:   0%|          | 0/58887 [00:00<?, ?it/s]"
      ]
     },
     "metadata": {},
     "output_type": "display_data"
    },
    {
     "data": {
      "application/json": {
       "ascii": false,
       "bar_format": null,
       "colour": null,
       "elapsed": 0.013989925384521484,
       "initial": 0,
       "n": 0,
       "ncols": null,
       "nrows": 29,
       "postfix": null,
       "prefix": "Pandas Apply",
       "rate": null,
       "total": 58887,
       "unit": "it",
       "unit_divisor": 1000,
       "unit_scale": false
      },
      "application/vnd.jupyter.widget-view+json": {
       "model_id": "cded24890b854588b4c066ee33c5c79e",
       "version_major": 2,
       "version_minor": 0
      },
      "text/plain": [
       "Pandas Apply:   0%|          | 0/58887 [00:00<?, ?it/s]"
      ]
     },
     "metadata": {},
     "output_type": "display_data"
    },
    {
     "data": {
      "text/html": [
       "<div>\n",
       "<style scoped>\n",
       "    .dataframe tbody tr th:only-of-type {\n",
       "        vertical-align: middle;\n",
       "    }\n",
       "\n",
       "    .dataframe tbody tr th {\n",
       "        vertical-align: top;\n",
       "    }\n",
       "\n",
       "    .dataframe thead th {\n",
       "        text-align: right;\n",
       "    }\n",
       "</style>\n",
       "<table border=\"1\" class=\"dataframe\">\n",
       "  <thead>\n",
       "    <tr style=\"text-align: right;\">\n",
       "      <th></th>\n",
       "      <th>title</th>\n",
       "      <th>corpus</th>\n",
       "      <th>content</th>\n",
       "      <th>score</th>\n",
       "      <th>answers</th>\n",
       "      <th>polarity</th>\n",
       "      <th>subjectivity</th>\n",
       "      <th>processed_title</th>\n",
       "    </tr>\n",
       "  </thead>\n",
       "  <tbody>\n",
       "    <tr>\n",
       "      <th>0</th>\n",
       "      <td>Specifying a mySQL ENUM in a Django model</td>\n",
       "      <td>specifying mysql enum django model go specifyi...</td>\n",
       "      <td>specifying mysql enum django model go specifyi...</td>\n",
       "      <td>0.044573</td>\n",
       "      <td>From the Django documentation:</td>\n",
       "      <td>0.000000</td>\n",
       "      <td>0.000000</td>\n",
       "      <td>specifying mysql enum django model</td>\n",
       "    </tr>\n",
       "    <tr>\n",
       "      <th>1</th>\n",
       "      <td>How do content discovery engines, like Zemanta...</td>\n",
       "      <td>content discovery engines like zemanta open ca...</td>\n",
       "      <td>content discovery engines like zemanta open ca...</td>\n",
       "      <td>0.002254</td>\n",
       "      <td>Michal Finkelstein from OpenCalais here.</td>\n",
       "      <td>0.000000</td>\n",
       "      <td>0.000000</td>\n",
       "      <td>content discovery engines like zemanta open ca...</td>\n",
       "    </tr>\n",
       "    <tr>\n",
       "      <th>2</th>\n",
       "      <td>Install Python to match directory layout in OS...</td>\n",
       "      <td>install python match directory layout os x 105...</td>\n",
       "      <td>install python match directory layout os x 105...</td>\n",
       "      <td>-0.000657</td>\n",
       "      <td>Hyposaurus,</td>\n",
       "      <td>0.000000</td>\n",
       "      <td>0.000000</td>\n",
       "      <td>install python match directory layout os x 105</td>\n",
       "    </tr>\n",
       "    <tr>\n",
       "      <th>3</th>\n",
       "      <td>Why does Python's iter() on a mapping return i...</td>\n",
       "      <td>python iter mapping return iterkeys instead it...</td>\n",
       "      <td>python iter mapping return iterkeys instead it...</td>\n",
       "      <td>0.001134</td>\n",
       "      <td>Check out this thread for a discussion on the ...</td>\n",
       "      <td>-0.200000</td>\n",
       "      <td>0.850000</td>\n",
       "      <td>python iter mapping return iterkeys instead it...</td>\n",
       "    </tr>\n",
       "    <tr>\n",
       "      <th>4</th>\n",
       "      <td>Javascript equivalent of Python's locals()?</td>\n",
       "      <td>javascript equivalent python locals python one...</td>\n",
       "      <td>javascript equivalent python locals python one...</td>\n",
       "      <td>0.003821</td>\n",
       "      <td>Well, I don't think that there is something li...</td>\n",
       "      <td>0.000000</td>\n",
       "      <td>0.000000</td>\n",
       "      <td>javascript equivalent python locals</td>\n",
       "    </tr>\n",
       "    <tr>\n",
       "      <th>...</th>\n",
       "      <td>...</td>\n",
       "      <td>...</td>\n",
       "      <td>...</td>\n",
       "      <td>...</td>\n",
       "      <td>...</td>\n",
       "      <td>...</td>\n",
       "      <td>...</td>\n",
       "      <td>...</td>\n",
       "    </tr>\n",
       "    <tr>\n",
       "      <th>58882</th>\n",
       "      <td>Comparing values with __eq__ in Python</td>\n",
       "      <td>comparing values _ _ eq _ _ python good day ni...</td>\n",
       "      <td>comparing values _ _ eq _ _ python good day ni...</td>\n",
       "      <td>-0.001329</td>\n",
       "      <td>By implementing  like this you're basically te...</td>\n",
       "      <td>-0.083333</td>\n",
       "      <td>0.283333</td>\n",
       "      <td>comparing values _ _ eq _ _ python</td>\n",
       "    </tr>\n",
       "    <tr>\n",
       "      <th>58883</th>\n",
       "      <td>How to get PYQT5 text box to be taken as an in...</td>\n",
       "      <td>get pyqt5 text box taken input sqlite trying c...</td>\n",
       "      <td>get pyqt5 text box taken input sqlite trying c...</td>\n",
       "      <td>-0.001105</td>\n",
       "      <td>You can‘t get the value in your SQL statement,...</td>\n",
       "      <td>0.000000</td>\n",
       "      <td>0.000000</td>\n",
       "      <td>get pyqt5 text box taken input sqlite</td>\n",
       "    </tr>\n",
       "    <tr>\n",
       "      <th>58884</th>\n",
       "      <td>How to assign one argument to function and mak...</td>\n",
       "      <td>assign one argument function make list later q...</td>\n",
       "      <td>assign one argument function make list later q...</td>\n",
       "      <td>-0.001329</td>\n",
       "      <td>I think you want this</td>\n",
       "      <td>0.000000</td>\n",
       "      <td>0.000000</td>\n",
       "      <td>assign one argument function make list later</td>\n",
       "    </tr>\n",
       "    <tr>\n",
       "      <th>58885</th>\n",
       "      <td>Iterate over a list based on list based on a l...</td>\n",
       "      <td>iterate list based list based list steps want ...</td>\n",
       "      <td>iterate list based list based list steps want ...</td>\n",
       "      <td>0.000686</td>\n",
       "      <td>You can make a simple for loop and keep track ...</td>\n",
       "      <td>-0.055556</td>\n",
       "      <td>0.307937</td>\n",
       "      <td>iterate list based list based list steps</td>\n",
       "    </tr>\n",
       "    <tr>\n",
       "      <th>58886</th>\n",
       "      <td>django. Form creates blank objects for empty f...</td>\n",
       "      <td>django form creates blank objects empty fields...</td>\n",
       "      <td>django form creates blank objects empty fields...</td>\n",
       "      <td>-0.001329</td>\n",
       "      <td>You are trying to combine several models into ...</td>\n",
       "      <td>-0.065816</td>\n",
       "      <td>0.193367</td>\n",
       "      <td>django form creates blank objects empty fields...</td>\n",
       "    </tr>\n",
       "  </tbody>\n",
       "</table>\n",
       "<p>58887 rows × 8 columns</p>\n",
       "</div>"
      ],
      "text/plain": [
       "                                                   title  \\\n",
       "0              Specifying a mySQL ENUM in a Django model   \n",
       "1      How do content discovery engines, like Zemanta...   \n",
       "2      Install Python to match directory layout in OS...   \n",
       "3      Why does Python's iter() on a mapping return i...   \n",
       "4            Javascript equivalent of Python's locals()?   \n",
       "...                                                  ...   \n",
       "58882             Comparing values with __eq__ in Python   \n",
       "58883  How to get PYQT5 text box to be taken as an in...   \n",
       "58884  How to assign one argument to function and mak...   \n",
       "58885  Iterate over a list based on list based on a l...   \n",
       "58886  django. Form creates blank objects for empty f...   \n",
       "\n",
       "                                                  corpus  \\\n",
       "0      specifying mysql enum django model go specifyi...   \n",
       "1      content discovery engines like zemanta open ca...   \n",
       "2      install python match directory layout os x 105...   \n",
       "3      python iter mapping return iterkeys instead it...   \n",
       "4      javascript equivalent python locals python one...   \n",
       "...                                                  ...   \n",
       "58882  comparing values _ _ eq _ _ python good day ni...   \n",
       "58883  get pyqt5 text box taken input sqlite trying c...   \n",
       "58884  assign one argument function make list later q...   \n",
       "58885  iterate list based list based list steps want ...   \n",
       "58886  django form creates blank objects empty fields...   \n",
       "\n",
       "                                                 content     score  \\\n",
       "0      specifying mysql enum django model go specifyi...  0.044573   \n",
       "1      content discovery engines like zemanta open ca...  0.002254   \n",
       "2      install python match directory layout os x 105... -0.000657   \n",
       "3      python iter mapping return iterkeys instead it...  0.001134   \n",
       "4      javascript equivalent python locals python one...  0.003821   \n",
       "...                                                  ...       ...   \n",
       "58882  comparing values _ _ eq _ _ python good day ni... -0.001329   \n",
       "58883  get pyqt5 text box taken input sqlite trying c... -0.001105   \n",
       "58884  assign one argument function make list later q... -0.001329   \n",
       "58885  iterate list based list based list steps want ...  0.000686   \n",
       "58886  django form creates blank objects empty fields... -0.001329   \n",
       "\n",
       "                                                 answers  polarity  \\\n",
       "0                         From the Django documentation:  0.000000   \n",
       "1               Michal Finkelstein from OpenCalais here.  0.000000   \n",
       "2                                            Hyposaurus,  0.000000   \n",
       "3      Check out this thread for a discussion on the ... -0.200000   \n",
       "4      Well, I don't think that there is something li...  0.000000   \n",
       "...                                                  ...       ...   \n",
       "58882  By implementing  like this you're basically te... -0.083333   \n",
       "58883  You can‘t get the value in your SQL statement,...  0.000000   \n",
       "58884                              I think you want this  0.000000   \n",
       "58885  You can make a simple for loop and keep track ... -0.055556   \n",
       "58886  You are trying to combine several models into ... -0.065816   \n",
       "\n",
       "       subjectivity                                    processed_title  \n",
       "0          0.000000                 specifying mysql enum django model  \n",
       "1          0.000000  content discovery engines like zemanta open ca...  \n",
       "2          0.000000     install python match directory layout os x 105  \n",
       "3          0.850000  python iter mapping return iterkeys instead it...  \n",
       "4          0.000000                javascript equivalent python locals  \n",
       "...             ...                                                ...  \n",
       "58882      0.283333                 comparing values _ _ eq _ _ python  \n",
       "58883      0.000000              get pyqt5 text box taken input sqlite  \n",
       "58884      0.000000       assign one argument function make list later  \n",
       "58885      0.307937           iterate list based list based list steps  \n",
       "58886      0.193367  django form creates blank objects empty fields...  \n",
       "\n",
       "[58887 rows x 8 columns]"
      ]
     },
     "execution_count": 21,
     "metadata": {},
     "output_type": "execute_result"
    }
   ],
   "source": [
    "import spacy\n",
    "import pandas as pd\n",
    "import numpy as np\n",
    "import swifter\n",
    "en = spacy.load('en_core_web_sm')\n",
    "\n",
    "dff.content = dff.content.swifter.apply(lambda x: process_text(x))\n",
    "dff.corpus = dff.corpus.swifter.apply(lambda x: process_text(x))\n",
    "dff['processed_title'] = dff.title.swifter.apply(lambda x: process_text(x))\n",
    "\n",
    "dff.score = (dff.score-dff.score.mean())/(dff.score.max()-dff.score.min())\n",
    "\n",
    "dff.drop(['answers'], axis=1)\n",
    "dff.drop(['content'], axis = 1)\n",
    "dff.drop(['tags'], axis=1)"
   ]
  },
  {
   "cell_type": "code",
   "execution_count": 23,
   "id": "affecting-industry",
   "metadata": {},
   "outputs": [],
   "source": [
    "dff.to_csv('data/processed_data_model1.csv', index=False)"
   ]
  }
 ],
 "metadata": {
  "kernelspec": {
   "display_name": "Python 3",
   "language": "python",
   "name": "python3"
  },
  "language_info": {
   "codemirror_mode": {
    "name": "ipython",
    "version": 3
   },
   "file_extension": ".py",
   "mimetype": "text/x-python",
   "name": "python",
   "nbconvert_exporter": "python",
   "pygments_lexer": "ipython3",
   "version": "3.7.4"
  }
 },
 "nbformat": 4,
 "nbformat_minor": 5
}

