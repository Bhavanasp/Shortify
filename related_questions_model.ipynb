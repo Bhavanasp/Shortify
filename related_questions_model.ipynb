{
 "cells": [
  {
   "cell_type": "markdown",
   "id": "legitimate-target",
   "metadata": {},
   "source": [
    "## Load data for training word embeddings\n",
    "<hr>"
   ]
  },
  {
   "cell_type": "code",
   "execution_count": 1,
   "id": "sorted-stuart",
   "metadata": {},
   "outputs": [],
   "source": [
    "import os\n",
    "import pandas as pd\n",
    "import numpy as np"
   ]
  },
  {
   "cell_type": "code",
   "execution_count": 2,
   "id": "corrected-doctor",
   "metadata": {
    "scrolled": true
   },
   "outputs": [
    {
     "name": "stdout",
     "output_type": "stream",
     "text": [
      "(58887, 7)\n"
     ]
    },
    {
     "data": {
      "text/html": [
       "<div>\n",
       "<style scoped>\n",
       "    .dataframe tbody tr th:only-of-type {\n",
       "        vertical-align: middle;\n",
       "    }\n",
       "\n",
       "    .dataframe tbody tr th {\n",
       "        vertical-align: top;\n",
       "    }\n",
       "\n",
       "    .dataframe thead th {\n",
       "        text-align: right;\n",
       "    }\n",
       "</style>\n",
       "<table border=\"1\" class=\"dataframe\">\n",
       "  <thead>\n",
       "    <tr style=\"text-align: right;\">\n",
       "      <th></th>\n",
       "      <th>id</th>\n",
       "      <th>title</th>\n",
       "      <th>corpus</th>\n",
       "      <th>score</th>\n",
       "      <th>polarity</th>\n",
       "      <th>subjectivity</th>\n",
       "      <th>processed_title</th>\n",
       "    </tr>\n",
       "  </thead>\n",
       "  <tbody>\n",
       "    <tr>\n",
       "      <td>0</td>\n",
       "      <td>21454</td>\n",
       "      <td>Specifying a mySQL ENUM in a Django model</td>\n",
       "      <td>specifying mysql enum django model go specifyi...</td>\n",
       "      <td>0.044573</td>\n",
       "      <td>0.0</td>\n",
       "      <td>0.00</td>\n",
       "      <td>specifying mysql enum django model</td>\n",
       "    </tr>\n",
       "    <tr>\n",
       "      <td>1</td>\n",
       "      <td>22059</td>\n",
       "      <td>How do content discovery engines, like Zemanta...</td>\n",
       "      <td>content discovery engines like zemanta open ca...</td>\n",
       "      <td>0.002254</td>\n",
       "      <td>0.0</td>\n",
       "      <td>0.00</td>\n",
       "      <td>content discovery engines like zemanta open ca...</td>\n",
       "    </tr>\n",
       "    <tr>\n",
       "      <td>2</td>\n",
       "      <td>29856</td>\n",
       "      <td>Install Python to match directory layout in OS...</td>\n",
       "      <td>install python match directory layout os x 105...</td>\n",
       "      <td>-0.000657</td>\n",
       "      <td>0.0</td>\n",
       "      <td>0.00</td>\n",
       "      <td>install python match directory layout os x 105</td>\n",
       "    </tr>\n",
       "    <tr>\n",
       "      <td>3</td>\n",
       "      <td>35569</td>\n",
       "      <td>Why does Python's iter() on a mapping return i...</td>\n",
       "      <td>python iter mapping return iterkeys instead it...</td>\n",
       "      <td>0.001134</td>\n",
       "      <td>-0.2</td>\n",
       "      <td>0.85</td>\n",
       "      <td>python iter mapping return iterkeys instead it...</td>\n",
       "    </tr>\n",
       "    <tr>\n",
       "      <td>4</td>\n",
       "      <td>39960</td>\n",
       "      <td>Javascript equivalent of Python's locals()?</td>\n",
       "      <td>javascript equivalent python locals python one...</td>\n",
       "      <td>0.003821</td>\n",
       "      <td>0.0</td>\n",
       "      <td>0.00</td>\n",
       "      <td>javascript equivalent python locals</td>\n",
       "    </tr>\n",
       "  </tbody>\n",
       "</table>\n",
       "</div>"
      ],
      "text/plain": [
       "      id                                              title  \\\n",
       "0  21454          Specifying a mySQL ENUM in a Django model   \n",
       "1  22059  How do content discovery engines, like Zemanta...   \n",
       "2  29856  Install Python to match directory layout in OS...   \n",
       "3  35569  Why does Python's iter() on a mapping return i...   \n",
       "4  39960        Javascript equivalent of Python's locals()?   \n",
       "\n",
       "                                              corpus     score  polarity  \\\n",
       "0  specifying mysql enum django model go specifyi...  0.044573       0.0   \n",
       "1  content discovery engines like zemanta open ca...  0.002254       0.0   \n",
       "2  install python match directory layout os x 105... -0.000657       0.0   \n",
       "3  python iter mapping return iterkeys instead it...  0.001134      -0.2   \n",
       "4  javascript equivalent python locals python one...  0.003821       0.0   \n",
       "\n",
       "   subjectivity                                    processed_title  \n",
       "0          0.00                 specifying mysql enum django model  \n",
       "1          0.00  content discovery engines like zemanta open ca...  \n",
       "2          0.00     install python match directory layout os x 105  \n",
       "3          0.85  python iter mapping return iterkeys instead it...  \n",
       "4          0.00                javascript equivalent python locals  "
      ]
     },
     "execution_count": 2,
     "metadata": {},
     "output_type": "execute_result"
    }
   ],
   "source": [
    "# read data\n",
    "\n",
    "data = pd.read_csv('data/processed_data_model1.csv')\n",
    "print(data.shape)\n",
    "data.head()"
   ]
  },
  {
   "cell_type": "markdown",
   "id": "trained-virginia",
   "metadata": {},
   "source": [
    "## Training word embeddings\n",
    "<hr>"
   ]
  },
  {
   "cell_type": "code",
   "execution_count": 3,
   "id": "endless-illness",
   "metadata": {},
   "outputs": [],
   "source": [
    "import multiprocessing\n",
    "from gensim.models import Word2Vec"
   ]
  },
  {
   "cell_type": "code",
   "execution_count": 4,
   "id": "loved-dividend",
   "metadata": {},
   "outputs": [
    {
     "name": "stdout",
     "output_type": "stream",
     "text": [
      "8\n"
     ]
    }
   ],
   "source": [
    "cores = multiprocessing.cpu_count()\n",
    "print(cores)"
   ]
  },
  {
   "cell_type": "code",
   "execution_count": 5,
   "id": "downtown-sessions",
   "metadata": {},
   "outputs": [],
   "source": [
    "import gensim\n",
    "\n",
    "w2v_model = Word2Vec(min_count=2,\n",
    "                                         window=2,\n",
    "                                         size=300,\n",
    "                                         sample=0, \n",
    "                                         alpha=0.03, \n",
    "                                         min_alpha=0.0007, \n",
    "                                         negative=10,\n",
    "                                         workers=cores-1)\n",
    "\n",
    "corpus = [text.split() for text in np.array(data.corpus)]"
   ]
  },
  {
   "cell_type": "code",
   "execution_count": 6,
   "id": "previous-colorado",
   "metadata": {},
   "outputs": [
    {
     "name": "stdout",
     "output_type": "stream",
     "text": [
      "vocab size 74743\n"
     ]
    },
    {
     "data": {
      "text/plain": [
       "(81551392, 87125344)"
      ]
     },
     "execution_count": 6,
     "metadata": {},
     "output_type": "execute_result"
    }
   ],
   "source": [
    "#train word embeddings\n",
    "\n",
    "w2v_model.build_vocab(corpus) #build the vocabulary\n",
    "words = w2v_model.wv.vocab.keys()\n",
    "vocab_size = len(words)\n",
    "print(\"vocab size\",vocab_size)\n",
    "w2v_model.train(corpus, total_examples=len(corpus), epochs=32) #training step"
   ]
  },
  {
   "cell_type": "code",
   "execution_count": 7,
   "id": "corresponding-floor",
   "metadata": {},
   "outputs": [],
   "source": [
    "w2v_model.save('models/related_questions_model.bin') #saving the trained w2v model"
   ]
  },
  {
   "cell_type": "markdown",
   "id": "aggressive-barrier",
   "metadata": {},
   "source": [
    "## Sanity check on the trained word embeddings\n",
    "<hr>"
   ]
  },
  {
   "cell_type": "code",
   "execution_count": 8,
   "id": "golden-character",
   "metadata": {},
   "outputs": [
    {
     "name": "stdout",
     "output_type": "stream",
     "text": [
      "Terms most similar to \"flask\" \n",
      "\n",
      "[('django', 0.5730941891670227), ('pyramid', 0.4540061950683594), ('server', 0.4248735010623932), ('gae', 0.4246968626976013), ('app', 0.4185467064380646), ('webpy', 0.41662949323654175), ('cherrypy', 0.41528671979904175), ('web', 0.3963538408279419), ('fastapi', 0.3919406533241272), ('login', 0.3860347867012024)]\n"
     ]
    }
   ],
   "source": [
    "print('Terms most similar to \"flask\" \\n')\n",
    "print(w2v_model.wv.most_similar(\"flask\"))"
   ]
  },
  {
   "cell_type": "code",
   "execution_count": 9,
   "id": "original-halifax",
   "metadata": {},
   "outputs": [
    {
     "name": "stdout",
     "output_type": "stream",
     "text": [
      "Terms most similar to \"django\" \n",
      "\n",
      "[('flask', 0.5730941891670227), ('python', 0.488075315952301), ('template', 0.4599888324737549), ('pyramid', 0.4333301782608032), ('web2py', 0.42985913157463074), ('drf', 0.4194490313529968), ('sqlalchemy', 0.41887274384498596), ('app', 0.40341660380363464), ('database', 0.3992598354816437), ('wagtail', 0.3980596661567688)]\n"
     ]
    }
   ],
   "source": [
    "print('Terms most similar to \"django\" \\n')\n",
    "print(w2v_model.wv.most_similar(\"django\"))"
   ]
  },
  {
   "cell_type": "code",
   "execution_count": 10,
   "id": "appointed-incentive",
   "metadata": {
    "scrolled": true
   },
   "outputs": [
    {
     "name": "stdout",
     "output_type": "stream",
     "text": [
      "Terms most similar to \"api\" \n",
      "\n",
      "[('apis', 0.4807102680206299), ('interface', 0.4239417314529419), ('service', 0.4118573069572449), ('function', 0.39397263526916504), ('script', 0.39292168617248535), ('code', 0.3902546167373657), ('oauth', 0.388918399810791), ('restful', 0.3885675370693207), ('appengine', 0.38507091999053955), ('app', 0.38147079944610596)]\n"
     ]
    }
   ],
   "source": [
    "print('Terms most similar to \"api\" \\n')\n",
    "print(w2v_model.wv.most_similar(\"api\"))"
   ]
  },
  {
   "cell_type": "markdown",
   "id": "median-temperature",
   "metadata": {},
   "source": [
    "## Relevant questions retrieval model\n",
    "<hr>"
   ]
  },
  {
   "cell_type": "code",
   "execution_count": 11,
   "id": "fleet-contemporary",
   "metadata": {},
   "outputs": [],
   "source": [
    "import os\n",
    "import numpy as np\n",
    "import pandas as pd"
   ]
  },
  {
   "cell_type": "markdown",
   "id": "authentic-massachusetts",
   "metadata": {},
   "source": [
    "## Load data\n",
    "<hr>"
   ]
  },
  {
   "cell_type": "code",
   "execution_count": 5,
   "id": "premier-concert",
   "metadata": {},
   "outputs": [
    {
     "data": {
      "text/html": [
       "<div>\n",
       "<style scoped>\n",
       "    .dataframe tbody tr th:only-of-type {\n",
       "        vertical-align: middle;\n",
       "    }\n",
       "\n",
       "    .dataframe tbody tr th {\n",
       "        vertical-align: top;\n",
       "    }\n",
       "\n",
       "    .dataframe thead th {\n",
       "        text-align: right;\n",
       "    }\n",
       "</style>\n",
       "<table border=\"1\" class=\"dataframe\">\n",
       "  <thead>\n",
       "    <tr style=\"text-align: right;\">\n",
       "      <th></th>\n",
       "      <th>id</th>\n",
       "      <th>title</th>\n",
       "      <th>corpus</th>\n",
       "      <th>score</th>\n",
       "      <th>polarity</th>\n",
       "      <th>subjectivity</th>\n",
       "      <th>processed_title</th>\n",
       "    </tr>\n",
       "  </thead>\n",
       "  <tbody>\n",
       "    <tr>\n",
       "      <td>0</td>\n",
       "      <td>21454</td>\n",
       "      <td>Specifying a mySQL ENUM in a Django model</td>\n",
       "      <td>specifying mysql enum django model go specifyi...</td>\n",
       "      <td>0.044573</td>\n",
       "      <td>0.000000</td>\n",
       "      <td>0.000000</td>\n",
       "      <td>specifying mysql enum django model</td>\n",
       "    </tr>\n",
       "    <tr>\n",
       "      <td>1</td>\n",
       "      <td>22059</td>\n",
       "      <td>How do content discovery engines, like Zemanta...</td>\n",
       "      <td>content discovery engines like zemanta open ca...</td>\n",
       "      <td>0.002254</td>\n",
       "      <td>0.000000</td>\n",
       "      <td>0.000000</td>\n",
       "      <td>content discovery engines like zemanta open ca...</td>\n",
       "    </tr>\n",
       "    <tr>\n",
       "      <td>2</td>\n",
       "      <td>29856</td>\n",
       "      <td>Install Python to match directory layout in OS...</td>\n",
       "      <td>install python match directory layout os x 105...</td>\n",
       "      <td>-0.000657</td>\n",
       "      <td>0.000000</td>\n",
       "      <td>0.000000</td>\n",
       "      <td>install python match directory layout os x 105</td>\n",
       "    </tr>\n",
       "    <tr>\n",
       "      <td>3</td>\n",
       "      <td>35569</td>\n",
       "      <td>Why does Python's iter() on a mapping return i...</td>\n",
       "      <td>python iter mapping return iterkeys instead it...</td>\n",
       "      <td>0.001134</td>\n",
       "      <td>-0.200000</td>\n",
       "      <td>0.850000</td>\n",
       "      <td>python iter mapping return iterkeys instead it...</td>\n",
       "    </tr>\n",
       "    <tr>\n",
       "      <td>4</td>\n",
       "      <td>39960</td>\n",
       "      <td>Javascript equivalent of Python's locals()?</td>\n",
       "      <td>javascript equivalent python locals python one...</td>\n",
       "      <td>0.003821</td>\n",
       "      <td>0.000000</td>\n",
       "      <td>0.000000</td>\n",
       "      <td>javascript equivalent python locals</td>\n",
       "    </tr>\n",
       "    <tr>\n",
       "      <td>...</td>\n",
       "      <td>...</td>\n",
       "      <td>...</td>\n",
       "      <td>...</td>\n",
       "      <td>...</td>\n",
       "      <td>...</td>\n",
       "      <td>...</td>\n",
       "      <td>...</td>\n",
       "    </tr>\n",
       "    <tr>\n",
       "      <td>58882</td>\n",
       "      <td>65163096</td>\n",
       "      <td>Comparing values with __eq__ in Python</td>\n",
       "      <td>comparing values _ _ eq _ _ python good day ni...</td>\n",
       "      <td>-0.001329</td>\n",
       "      <td>-0.083333</td>\n",
       "      <td>0.283333</td>\n",
       "      <td>comparing values _ _ eq _ _ python</td>\n",
       "    </tr>\n",
       "    <tr>\n",
       "      <td>58883</td>\n",
       "      <td>65163335</td>\n",
       "      <td>How to get PYQT5 text box to be taken as an in...</td>\n",
       "      <td>get pyqt5 text box taken input sqlite trying c...</td>\n",
       "      <td>-0.001105</td>\n",
       "      <td>0.000000</td>\n",
       "      <td>0.000000</td>\n",
       "      <td>get pyqt5 text box taken input sqlite</td>\n",
       "    </tr>\n",
       "    <tr>\n",
       "      <td>58884</td>\n",
       "      <td>65163681</td>\n",
       "      <td>How to assign one argument to function and mak...</td>\n",
       "      <td>assign one argument function make list later q...</td>\n",
       "      <td>-0.001329</td>\n",
       "      <td>0.000000</td>\n",
       "      <td>0.000000</td>\n",
       "      <td>assign one argument function make list later</td>\n",
       "    </tr>\n",
       "    <tr>\n",
       "      <td>58885</td>\n",
       "      <td>65163947</td>\n",
       "      <td>Iterate over a list based on list based on a l...</td>\n",
       "      <td>iterate list based list based list steps want ...</td>\n",
       "      <td>0.000686</td>\n",
       "      <td>-0.055556</td>\n",
       "      <td>0.307937</td>\n",
       "      <td>iterate list based list based list steps</td>\n",
       "    </tr>\n",
       "    <tr>\n",
       "      <td>58886</td>\n",
       "      <td>65164562</td>\n",
       "      <td>django. Form creates blank objects for empty f...</td>\n",
       "      <td>django form creates blank objects empty fields...</td>\n",
       "      <td>-0.001329</td>\n",
       "      <td>-0.065816</td>\n",
       "      <td>0.193367</td>\n",
       "      <td>django form creates blank objects empty fields...</td>\n",
       "    </tr>\n",
       "  </tbody>\n",
       "</table>\n",
       "<p>58887 rows × 7 columns</p>\n",
       "</div>"
      ],
      "text/plain": [
       "             id                                              title  \\\n",
       "0         21454          Specifying a mySQL ENUM in a Django model   \n",
       "1         22059  How do content discovery engines, like Zemanta...   \n",
       "2         29856  Install Python to match directory layout in OS...   \n",
       "3         35569  Why does Python's iter() on a mapping return i...   \n",
       "4         39960        Javascript equivalent of Python's locals()?   \n",
       "...         ...                                                ...   \n",
       "58882  65163096             Comparing values with __eq__ in Python   \n",
       "58883  65163335  How to get PYQT5 text box to be taken as an in...   \n",
       "58884  65163681  How to assign one argument to function and mak...   \n",
       "58885  65163947  Iterate over a list based on list based on a l...   \n",
       "58886  65164562  django. Form creates blank objects for empty f...   \n",
       "\n",
       "                                                  corpus     score  polarity  \\\n",
       "0      specifying mysql enum django model go specifyi...  0.044573  0.000000   \n",
       "1      content discovery engines like zemanta open ca...  0.002254  0.000000   \n",
       "2      install python match directory layout os x 105... -0.000657  0.000000   \n",
       "3      python iter mapping return iterkeys instead it...  0.001134 -0.200000   \n",
       "4      javascript equivalent python locals python one...  0.003821  0.000000   \n",
       "...                                                  ...       ...       ...   \n",
       "58882  comparing values _ _ eq _ _ python good day ni... -0.001329 -0.083333   \n",
       "58883  get pyqt5 text box taken input sqlite trying c... -0.001105  0.000000   \n",
       "58884  assign one argument function make list later q... -0.001329  0.000000   \n",
       "58885  iterate list based list based list steps want ...  0.000686 -0.055556   \n",
       "58886  django form creates blank objects empty fields... -0.001329 -0.065816   \n",
       "\n",
       "       subjectivity                                    processed_title  \n",
       "0          0.000000                 specifying mysql enum django model  \n",
       "1          0.000000  content discovery engines like zemanta open ca...  \n",
       "2          0.000000     install python match directory layout os x 105  \n",
       "3          0.850000  python iter mapping return iterkeys instead it...  \n",
       "4          0.000000                javascript equivalent python locals  \n",
       "...             ...                                                ...  \n",
       "58882      0.283333                 comparing values _ _ eq _ _ python  \n",
       "58883      0.000000              get pyqt5 text box taken input sqlite  \n",
       "58884      0.000000       assign one argument function make list later  \n",
       "58885      0.307937           iterate list based list based list steps  \n",
       "58886      0.193367  django form creates blank objects empty fields...  \n",
       "\n",
       "[58887 rows x 7 columns]"
      ]
     },
     "execution_count": 5,
     "metadata": {},
     "output_type": "execute_result"
    }
   ],
   "source": [
    "data = pd.read_csv('data/processed_data_model1.csv')\n",
    "data"
   ]
  },
  {
   "cell_type": "code",
   "execution_count": 6,
   "id": "magnetic-information",
   "metadata": {},
   "outputs": [
    {
     "ename": "OSError",
     "evalue": "[E050] Can't find model 'en_core_web_sm'. It doesn't seem to be a Python package or a valid path to a data directory.",
     "output_type": "error",
     "traceback": [
      "\u001b[1;31m---------------------------------------------------------------------------\u001b[0m",
      "\u001b[1;31mOSError\u001b[0m                                   Traceback (most recent call last)",
      "\u001b[1;32m<ipython-input-16-2e07cd51b79d>\u001b[0m in \u001b[0;36m<module>\u001b[1;34m\u001b[0m\n\u001b[0;32m      7\u001b[0m \u001b[1;33m\u001b[0m\u001b[0m\n\u001b[0;32m      8\u001b[0m \u001b[1;32mimport\u001b[0m \u001b[0mspacy\u001b[0m\u001b[1;33m\u001b[0m\u001b[1;33m\u001b[0m\u001b[0m\n\u001b[1;32m----> 9\u001b[1;33m \u001b[0men\u001b[0m \u001b[1;33m=\u001b[0m \u001b[0mspacy\u001b[0m\u001b[1;33m.\u001b[0m\u001b[0mload\u001b[0m\u001b[1;33m(\u001b[0m\u001b[1;34m'en_core_web_sm'\u001b[0m\u001b[1;33m)\u001b[0m\u001b[1;33m\u001b[0m\u001b[1;33m\u001b[0m\u001b[0m\n\u001b[0m\u001b[0;32m     10\u001b[0m \u001b[1;33m\u001b[0m\u001b[0m\n\u001b[0;32m     11\u001b[0m \u001b[1;32mimport\u001b[0m \u001b[0mnltk\u001b[0m\u001b[1;33m\u001b[0m\u001b[1;33m\u001b[0m\u001b[0m\n",
      "\u001b[1;32mc:\\users\\bobby\\appdata\\local\\programs\\python\\python37\\lib\\site-packages\\spacy\\__init__.py\u001b[0m in \u001b[0;36mload\u001b[1;34m(name, disable, exclude, config)\u001b[0m\n\u001b[0;32m     45\u001b[0m     \u001b[0mRETURNS\u001b[0m \u001b[1;33m(\u001b[0m\u001b[0mLanguage\u001b[0m\u001b[1;33m)\u001b[0m\u001b[1;33m:\u001b[0m \u001b[0mThe\u001b[0m \u001b[0mloaded\u001b[0m \u001b[0mnlp\u001b[0m \u001b[0mobject\u001b[0m\u001b[1;33m.\u001b[0m\u001b[1;33m\u001b[0m\u001b[1;33m\u001b[0m\u001b[0m\n\u001b[0;32m     46\u001b[0m     \"\"\"\n\u001b[1;32m---> 47\u001b[1;33m     \u001b[1;32mreturn\u001b[0m \u001b[0mutil\u001b[0m\u001b[1;33m.\u001b[0m\u001b[0mload_model\u001b[0m\u001b[1;33m(\u001b[0m\u001b[0mname\u001b[0m\u001b[1;33m,\u001b[0m \u001b[0mdisable\u001b[0m\u001b[1;33m=\u001b[0m\u001b[0mdisable\u001b[0m\u001b[1;33m,\u001b[0m \u001b[0mexclude\u001b[0m\u001b[1;33m=\u001b[0m\u001b[0mexclude\u001b[0m\u001b[1;33m,\u001b[0m \u001b[0mconfig\u001b[0m\u001b[1;33m=\u001b[0m\u001b[0mconfig\u001b[0m\u001b[1;33m)\u001b[0m\u001b[1;33m\u001b[0m\u001b[1;33m\u001b[0m\u001b[0m\n\u001b[0m\u001b[0;32m     48\u001b[0m \u001b[1;33m\u001b[0m\u001b[0m\n\u001b[0;32m     49\u001b[0m \u001b[1;33m\u001b[0m\u001b[0m\n",
      "\u001b[1;32mc:\\users\\bobby\\appdata\\local\\programs\\python\\python37\\lib\\site-packages\\spacy\\util.py\u001b[0m in \u001b[0;36mload_model\u001b[1;34m(name, vocab, disable, exclude, config)\u001b[0m\n\u001b[0;32m    327\u001b[0m     \u001b[1;32mif\u001b[0m \u001b[0mname\u001b[0m \u001b[1;32min\u001b[0m \u001b[0mOLD_MODEL_SHORTCUTS\u001b[0m\u001b[1;33m:\u001b[0m\u001b[1;33m\u001b[0m\u001b[1;33m\u001b[0m\u001b[0m\n\u001b[0;32m    328\u001b[0m         \u001b[1;32mraise\u001b[0m \u001b[0mIOError\u001b[0m\u001b[1;33m(\u001b[0m\u001b[0mErrors\u001b[0m\u001b[1;33m.\u001b[0m\u001b[0mE941\u001b[0m\u001b[1;33m.\u001b[0m\u001b[0mformat\u001b[0m\u001b[1;33m(\u001b[0m\u001b[0mname\u001b[0m\u001b[1;33m=\u001b[0m\u001b[0mname\u001b[0m\u001b[1;33m,\u001b[0m \u001b[0mfull\u001b[0m\u001b[1;33m=\u001b[0m\u001b[0mOLD_MODEL_SHORTCUTS\u001b[0m\u001b[1;33m[\u001b[0m\u001b[0mname\u001b[0m\u001b[1;33m]\u001b[0m\u001b[1;33m)\u001b[0m\u001b[1;33m)\u001b[0m\u001b[1;33m\u001b[0m\u001b[1;33m\u001b[0m\u001b[0m\n\u001b[1;32m--> 329\u001b[1;33m     \u001b[1;32mraise\u001b[0m \u001b[0mIOError\u001b[0m\u001b[1;33m(\u001b[0m\u001b[0mErrors\u001b[0m\u001b[1;33m.\u001b[0m\u001b[0mE050\u001b[0m\u001b[1;33m.\u001b[0m\u001b[0mformat\u001b[0m\u001b[1;33m(\u001b[0m\u001b[0mname\u001b[0m\u001b[1;33m=\u001b[0m\u001b[0mname\u001b[0m\u001b[1;33m)\u001b[0m\u001b[1;33m)\u001b[0m\u001b[1;33m\u001b[0m\u001b[1;33m\u001b[0m\u001b[0m\n\u001b[0m\u001b[0;32m    330\u001b[0m \u001b[1;33m\u001b[0m\u001b[0m\n\u001b[0;32m    331\u001b[0m \u001b[1;33m\u001b[0m\u001b[0m\n",
      "\u001b[1;31mOSError\u001b[0m: [E050] Can't find model 'en_core_web_sm'. It doesn't seem to be a Python package or a valid path to a data directory."
     ]
    }
   ],
   "source": [
    "import re\n",
    "import nltk\n",
    "#import inflect\n",
    "from nltk.corpus import stopwords\n",
    "\n",
    "#process text\n",
    "\n",
    "import spacy\n",
    "en = spacy.load('en_core_web_sm')\n",
    "\n",
    "import nltk\n",
    "nltk.download('stopwords')\n",
    "\n",
    "#tokenizer\n",
    "\n",
    "def tokenize(text):\n",
    "    tokens = en.tokenizer(text)\n",
    "    return [token.text.lower() for token in tokens if not token.is_space]\n",
    "\n",
    "#remove punctuations\n",
    "\n",
    "def remove_punctuation(words):\n",
    "    new_words = []\n",
    "    for word in words:\n",
    "        new_word = re.sub(r'[^\\w\\s]', '', word)\n",
    "        if new_word != '':\n",
    "            new_words.append(new_word)\n",
    "    return new_words \n",
    "\n",
    "#remove stop words\n",
    "\n",
    "def remove_stopwords(words):\n",
    "    new_words = []\n",
    "    for word in words:\n",
    "        if word not in stopwords.words('english'):\n",
    "            new_words.append(word)\n",
    "    return new_words\n",
    "\n",
    "def normalize(words):\n",
    "    words = remove_punctuation(words)\n",
    "    words = remove_stopwords(words)\n",
    "    return words\n",
    "\n",
    "def process_text(text):\n",
    "    return ' '.join(normalize(tokenize(text)))"
   ]
  },
  {
   "cell_type": "markdown",
   "id": "married-consent",
   "metadata": {},
   "source": [
    "## Import saved word embeddings\n",
    "<hr>"
   ]
  },
  {
   "cell_type": "code",
   "execution_count": 7,
   "id": "offshore-consensus",
   "metadata": {},
   "outputs": [],
   "source": [
    "#getting the saved word embeddings\n",
    "\n",
    "from gensim.models import Word2Vec\n",
    "\n",
    "w2v_model = Word2Vec.load('models/related_questions_model.bin')\n",
    "words = w2v_model.wv.vocab.keys()\n",
    "vocab_size = len(words)\n",
    "\n",
    "print(\"vocab size\",vocab_size)"
   ]
  },
  {
   "cell_type": "markdown",
   "id": "flexible-ferry",
   "metadata": {},
   "source": [
    "## Calculate sentence embeddings\n",
    "<hr>"
   ]
  },
  {
   "cell_type": "code",
   "execution_count": 8,
   "id": "concrete-functionality",
   "metadata": {},
   "outputs": [],
   "source": [
    "#word to numerical vector using the trained word embeddings\n",
    "\n",
    "def question_to_vec(question, embeddings, dim = 300):\n",
    "    question_embedding = np.zeros(dim) #initialize with zeros and dim = 300\n",
    "    valid_words = 0\n",
    "    for word in str(question).split(' '):\n",
    "        if embeddings.wv.__contains__(word):\n",
    "            valid_words+=1\n",
    "            question_embedding += embeddings.wv.__getitem__(word)\n",
    "        if valid_words>0:\n",
    "            return question_embedding/valid_words\n",
    "        else:\n",
    "            return question_embedding"
   ]
  },
  {
   "cell_type": "code",
   "execution_count": null,
   "id": "mineral-cement",
   "metadata": {},
   "outputs": [],
   "source": [
    "#converting all the question titles to vectors and saving them\n",
    "\n",
    "title_embeddings = []\n",
    "\n",
    "for title in data.processed_title:\n",
    "    title_embeddings.append(question_to_vec(question = title, embeddings = w2v_model))\n",
    "    \n",
    "title_embeddings = np.array(title_embeddings)\n",
    "embeddings = pd.DataFrame(data = title_embeddings)\n",
    "embeddings[0:15000].to_csv('models/title_embeddings1.csv', index=False)\n",
    "embeddings[15000:30000].to_csv('models/title_embeddings2.csv', index=False)\n",
    "embeddings[30000:45000].to_csv('models/title_embeddings3.csv', index=False)\n",
    "embeddings[45000:].to_csv('models/title_embeddings4.csv', index=False)\n",
    "\n",
    "print(w2v_model)"
   ]
  },
  {
   "cell_type": "markdown",
   "id": "dress-appeal",
   "metadata": {},
   "source": [
    "## Similarity Score Calculation and Ranking the Questions\n",
    "<hr>"
   ]
  },
  {
   "cell_type": "code",
   "execution_count": 13,
   "id": "iraqi-advisory",
   "metadata": {
    "scrolled": false
   },
   "outputs": [],
   "source": [
    "import pandas as pd\n",
    "import numpy as np\n",
    "from sklearn.metrics.pairwise import cosine_similarity\n",
    "from IPython.display import HTML\n",
    "\n",
    "# retrieving the save title embeddings\n",
    "\n",
    "em1 = pd.read_csv('models/title_embeddings1.csv')\n",
    "em2 = pd.read_csv('models/title_embeddings2.csv')\n",
    "em3 = pd.read_csv('models/title_embeddings3.csv')\n",
    "em4 = pd.read_csv('models/title_embeddings4.csv')\n",
    "\n",
    "em = em1.append([em2, em3, em4])\n",
    "\n",
    "title_embeddings = np.array(em)\n",
    "\n",
    "# process the query\n",
    "\n",
    "query = 'merge two lists in python'\n",
    "processed_query = process_text(query)\n",
    "\n",
    "results_returned = 100 # number of results to be returned\n",
    "\n",
    "query_vect = np.array([question_to_vec(processed_query, w2v_model)]) # Vectorize the user query\n",
    "\n",
    "cosine_similarities = pd.Series(cosine_similarity(query_vect, title_embeddings)[0]) # calculate the cosine similarities\n",
    "\n",
    "relevant_questions = []\n",
    "max_cosine_score = max(cosine_similarities)\n",
    "\n",
    "cos_weight = 30\n",
    "freq_weight = 60\n",
    "ans_weight = 6\n",
    "polar_weight = 2\n",
    "subj_weight = 2\n",
    "\n",
    "#score calculation\n",
    "\n",
    "for index, cosine_score in cosine_similarities.nlargest(results_returned).iteritems():\n",
    "    \n",
    "    freq_score = 0\n",
    "    word_count = 0\n",
    "    score = 0\n",
    "    \n",
    "    for word in data.processed_title[index].split():\n",
    "        if word.lower() in processed_query:\n",
    "            freq_score+=1\n",
    "        word_count+=1\n",
    "        \n",
    "    freq_score/=word_count\n",
    "    \n",
    "    score =  (cos_weight*(cosine_score/max_cosine_score)+freq_weight*freq_score+ans_weight*data.score[index]+polar_weight*data.polarity[index]+subj_weight*data.subjectivity[index])/100\n",
    "        \n",
    "    relevant_questions.append((index, data.id[index], data.title[index], score))\n",
    "    \n",
    "relevant_questions.sort(key = lambda x : x[3], reverse = True)\n",
    "\n",
    "# display results\n",
    "\n",
    "output = ''\n",
    "\n",
    "for index, qid, question, score in relevant_questions:\n",
    "    output += '<p style=\"font-family:verdana; font-size:110%;\"> '\n",
    "    output += 'question id : '+str(qid)+'<br>similarity score : ' + str(score) + '<br>'\n",
    "    for word in question.split():\n",
    "        if word.lower() in processed_query:\n",
    "            output += \" <b>\"+str(word)+\"</b>\"\n",
    "        else:\n",
    "            output += \" \"+str(word)\n",
    "    output += \"</p><hr>\"\n",
    "\n",
    "output = '<h3>Results for query - '+query+'</h3>'+output\n",
    "display(HTML(output))\n",
    "\n",
    "# save the retrieved questions\n",
    "\n",
    "df = pd.DataFrame(relevant_questions).iloc[:,1:]\n",
    "df.columns = ['id','questions','score']\n",
    "\n",
    "df.to_csv('data/relevant_questions.csv', index=False)"
   ]
  },
  {
   "cell_type": "code",
   "execution_count": 18,
   "id": "suitable-ethernet",
   "metadata": {},
   "outputs": [
    {
     "data": {
      "text/html": [
       "<div>\n",
       "<style scoped>\n",
       "    .dataframe tbody tr th:only-of-type {\n",
       "        vertical-align: middle;\n",
       "    }\n",
       "\n",
       "    .dataframe tbody tr th {\n",
       "        vertical-align: top;\n",
       "    }\n",
       "\n",
       "    .dataframe thead th {\n",
       "        text-align: right;\n",
       "    }\n",
       "</style>\n",
       "<table border=\"1\" class=\"dataframe\">\n",
       "  <thead>\n",
       "    <tr style=\"text-align: right;\">\n",
       "      <th></th>\n",
       "      <th>id</th>\n",
       "      <th>questions</th>\n",
       "      <th>score</th>\n",
       "    </tr>\n",
       "  </thead>\n",
       "  <tbody>\n",
       "    <tr>\n",
       "      <th>0</th>\n",
       "      <td>48641350</td>\n",
       "      <td>How to merge two lists into a list of multiple...</td>\n",
       "      <td>0.799961</td>\n",
       "    </tr>\n",
       "    <tr>\n",
       "      <th>1</th>\n",
       "      <td>46362972</td>\n",
       "      <td>Merge list of lists in python 3</td>\n",
       "      <td>0.785947</td>\n",
       "    </tr>\n",
       "    <tr>\n",
       "      <th>2</th>\n",
       "      <td>1158128</td>\n",
       "      <td>Merge sorted lists in python</td>\n",
       "      <td>0.750189</td>\n",
       "    </tr>\n",
       "    <tr>\n",
       "      <th>3</th>\n",
       "      <td>44476206</td>\n",
       "      <td>how to merge two list having dict</td>\n",
       "      <td>0.749920</td>\n",
       "    </tr>\n",
       "    <tr>\n",
       "      <th>4</th>\n",
       "      <td>58971955</td>\n",
       "      <td>How to merge two dataframe?</td>\n",
       "      <td>0.709934</td>\n",
       "    </tr>\n",
       "    <tr>\n",
       "      <th>5</th>\n",
       "      <td>35526224</td>\n",
       "      <td>How to merge these two Jsons?</td>\n",
       "      <td>0.701170</td>\n",
       "    </tr>\n",
       "    <tr>\n",
       "      <th>6</th>\n",
       "      <td>49734759</td>\n",
       "      <td>Merge two list into a list of dictionaries wit...</td>\n",
       "      <td>0.674987</td>\n",
       "    </tr>\n",
       "    <tr>\n",
       "      <th>7</th>\n",
       "      <td>34761978</td>\n",
       "      <td>Merge 3 lists into 1 list</td>\n",
       "      <td>0.660068</td>\n",
       "    </tr>\n",
       "    <tr>\n",
       "      <th>8</th>\n",
       "      <td>30620323</td>\n",
       "      <td>Merge two files in Python PANDAS?</td>\n",
       "      <td>0.660041</td>\n",
       "    </tr>\n",
       "    <tr>\n",
       "      <th>9</th>\n",
       "      <td>55397854</td>\n",
       "      <td>How to merge two IO Streams in Python?</td>\n",
       "      <td>0.659947</td>\n",
       "    </tr>\n",
       "  </tbody>\n",
       "</table>\n",
       "</div>"
      ],
      "text/plain": [
       "         id                                          questions     score\n",
       "0  48641350  How to merge two lists into a list of multiple...  0.799961\n",
       "1  46362972                    Merge list of lists in python 3  0.785947\n",
       "2   1158128                       Merge sorted lists in python  0.750189\n",
       "3  44476206                  how to merge two list having dict  0.749920\n",
       "4  58971955                        How to merge two dataframe?  0.709934\n",
       "5  35526224                      How to merge these two Jsons?  0.701170\n",
       "6  49734759  Merge two list into a list of dictionaries wit...  0.674987\n",
       "7  34761978                          Merge 3 lists into 1 list  0.660068\n",
       "8  30620323                  Merge two files in Python PANDAS?  0.660041\n",
       "9  55397854             How to merge two IO Streams in Python?  0.659947"
      ]
     },
     "execution_count": 18,
     "metadata": {},
     "output_type": "execute_result"
    }
   ],
   "source": [
    "qdf = pd.read_csv('data/relevant_questions.csv')\n",
    "qdf.head(10)"
   ]
  },
  {
   "cell_type": "code",
   "execution_count": 19,
   "id": "comparative-nylon",
   "metadata": {},
   "outputs": [
    {
     "data": {
      "text/plain": [
       "(100, 3)"
      ]
     },
     "execution_count": 19,
     "metadata": {},
     "output_type": "execute_result"
    }
   ],
   "source": [
    "qdf.shape"
   ]
  }
 ],
 "metadata": {
  "kernelspec": {
   "display_name": "Python 3",
   "language": "python",
   "name": "python3"
  },
  "language_info": {
   "codemirror_mode": {
    "name": "ipython",
    "version": 3
   },
   "file_extension": ".py",
   "mimetype": "text/x-python",
   "name": "python",
   "nbconvert_exporter": "python",
   "pygments_lexer": "ipython3",
   "version": "3.8.5"
  }
 },
 "nbformat": 4,
 "nbformat_minor": 5
}
